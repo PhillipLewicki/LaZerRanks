{
 "cells": [
  {
   "cell_type": "code",
   "execution_count": 1,
   "metadata": {},
   "outputs": [],
   "source": [
    "using Dates, StatsBase"
   ]
  },
  {
   "cell_type": "code",
   "execution_count": 2,
   "metadata": {},
   "outputs": [
    {
     "data": {
      "text/plain": [
       "readLazer (generic function with 1 method)"
      ]
     },
     "execution_count": 2,
     "metadata": {},
     "output_type": "execute_result"
    }
   ],
   "source": [
    "function readLazer(file)\n",
    "    ranks = Any[]\n",
    "    lines = readlines(file)\n",
    "    for i = 2:length(lines) # skip header line\n",
    "        line = lines[i]\n",
    "        data = split(line, \",\")\n",
    "        r = [parse(Int, data[1]), parse(Float64, data[2]), parse(Int, data[3]), String(data[8][2:11])]\n",
    "        push!(ranks, r)\n",
    "    end\n",
    "    \n",
    "    return ranks\n",
    "end"
   ]
  },
  {
   "cell_type": "code",
   "execution_count": 3,
   "metadata": {
    "scrolled": true
   },
   "outputs": [
    {
     "data": {
      "text/plain": [
       "113977-element Array{Any,1}:\n",
       " Any[1, 6.31986, 150, \"2012PARK03\"] \n",
       " Any[2, 6.43151, 150, \"2009ZEMD01\"] \n",
       " Any[3, 6.80873, 55, \"2010WANG68\"]  \n",
       " Any[4, 6.81049, 150, \"2010WEYE01\"] \n",
       " Any[5, 6.81576, 60, \"2013NAHM01\"]  \n",
       " Any[6, 6.9825, 10, \"2011ETTE01\"]   \n",
       " Any[7, 7.1134, 110, \"2012PONC02\"]  \n",
       " Any[8, 7.29644, 55, \"2015BORR01\"]  \n",
       " Any[9, 7.35083, 80, \"2014XUZI01\"]  \n",
       " Any[10, 7.35375, 20, \"2015MANS03\"] \n",
       " Any[11, 7.39221, 35, \"2015WANG09\"] \n",
       " Any[12, 7.3939, 85, \"2015MILL01\"]  \n",
       " Any[13, 7.45256, 150, \"2007VALK01\"]\n",
       " ⋮                                  \n",
       " Any[113966, NaN, 0, \"2019WEST02\"]  \n",
       " Any[113967, NaN, 0, \"2019WILS02\"]  \n",
       " Any[113968, NaN, 0, \"2019WOJD01\"]  \n",
       " Any[113969, NaN, 0, \"2019WONG02\"]  \n",
       " Any[113970, NaN, 0, \"2019YEUN02\"]  \n",
       " Any[113971, NaN, 0, \"2019YOCY01\"]  \n",
       " Any[113972, NaN, 0, \"2019YUDI01\"]  \n",
       " Any[113973, NaN, 0, \"2019ZEBR01\"]  \n",
       " Any[113974, NaN, 0, \"2019ZEMA01\"]  \n",
       " Any[113975, NaN, 0, \"2019ZILI01\"]  \n",
       " Any[113976, NaN, 0, \"2019ZINO01\"]  \n",
       " Any[113977, NaN, 0, \"2019ZIOM01\"]  "
      ]
     },
     "execution_count": 3,
     "metadata": {},
     "output_type": "execute_result"
    }
   ],
   "source": [
    "ranks = readLazer(\"Feb_2019/333_Feb_2019.csv\")"
   ]
  },
  {
   "cell_type": "code",
   "execution_count": 4,
   "metadata": {},
   "outputs": [
    {
     "data": {
      "text/plain": [
       "makeCompDict (generic function with 1 method)"
      ]
     },
     "execution_count": 4,
     "metadata": {},
     "output_type": "execute_result"
    }
   ],
   "source": [
    "function makeCompDict(wcafile)\n",
    "    compids = String[]\n",
    "    compdates = Date[]\n",
    "    lines = readlines(wcafile)\n",
    "    for i = 2:length(lines) # skip header line\n",
    "        line = lines[i]\n",
    "        data = split(line, \"\\t\")\n",
    "        push!(compids, data[1])\n",
    "        compdate = string(data[6], \"-\", data[7], \"-\", data[8])\n",
    "        push!(compdates, Date(compdate, \"y-m-d\"))\n",
    "    end\n",
    "        compDict = Dict(zip(compids, compdates))\n",
    "        sortedCompsArray = sort(collect(zip(values(compDict),keys(compDict))))\n",
    "    \n",
    "    return compDict, sortedCompsArray\n",
    "end"
   ]
  },
  {
   "cell_type": "code",
   "execution_count": 5,
   "metadata": {},
   "outputs": [
    {
     "data": {
      "text/plain": [
       "makeResults (generic function with 1 method)"
      ]
     },
     "execution_count": 5,
     "metadata": {},
     "output_type": "execute_result"
    }
   ],
   "source": [
    "function makeResults(wcafile)\n",
    "    results = Any[]\n",
    "    lines = readlines(wcafile)\n",
    "    for i = 2:length(lines) # skip header line\n",
    "        line = lines[i]\n",
    "        data = split(line, \"\\t\")\n",
    "        compid = data[1]\n",
    "        rs = [data[8], data[2], compDict[data[1]], parse(Int, data[6])]\n",
    "        push!(results, rs)\n",
    "    end\n",
    "    \n",
    "    return results\n",
    "end"
   ]
  },
  {
   "cell_type": "code",
   "execution_count": 6,
   "metadata": {},
   "outputs": [
    {
     "data": {
      "text/plain": [
       "(Dict(\"JaenMountainCubes2018\"=>2018-10-13,\"HelsinkiBlindWeekend2015\"=>2015-08-15,\"SanLorenzoInvierno2015\"=>2015-08-15,\"AustrianOpen2016\"=>2016-06-18,\"TokaiOpen2014\"=>2014-12-06,\"FinnishOpen2016\"=>2016-04-16,\"DniproCubeGeneration2018\"=>2018-04-28,\"ThailandChampionship2014\"=>2014-06-21,\"IICEFETMGUAIBitsOpen2018\"=>2018-05-05,\"ByczyCubeRace2017\"=>2017-06-24…), Tuple{Date,String}[(1982-06-05, \"WC1982\"), (2003-08-23, \"WC2003\"), (2003-10-11, \"DutchOpen2003\"), (2004-01-24, \"CaltechWinter2004\"), (2004-04-03, \"CaltechSpring2004\"), (2004-04-16, \"France2004\"), (2004-04-24, \"GermanOpen2004\"), (2004-07-10, \"US2004\"), (2004-08-07, \"Euro2004\"), (2004-10-10, \"DutchOpen2004\")  …  (2019-07-03, \"WarmUpCanberra2019\"), (2019-07-05, \"VisayasChampionship2019\"), (2019-07-06, \"WarmUpSydney2019\"), (2019-07-11, \"WC2019\"), (2019-07-13, \"CubingHeredia2019\"), (2019-07-20, \"NishinomiyaOpen2019\"), (2019-07-26, \"ChinaChampionship2019\"), (2019-08-01, \"CubingUSANationals2019\"), (2019-08-02, \"GermanNationals2019\"), (2019-09-28, \"LiechtensteinOpen2019\")])"
      ]
     },
     "execution_count": 6,
     "metadata": {},
     "output_type": "execute_result"
    }
   ],
   "source": [
    "compDict, sortedCompsArray = makeCompDict(\"WCA_export041_20190228T040002Z.tsv/WCA_export_Competitions.tsv\")"
   ]
  },
  {
   "cell_type": "code",
   "execution_count": 7,
   "metadata": {
    "collapsed": true
   },
   "outputs": [
    {
     "data": {
      "text/plain": [
       "2044593-element Array{Any,1}:\n",
       " Any[\"2007AMAN01\", \"333\", 2007-09-01, 2128] \n",
       " Any[\"2004ROUA01\", \"333\", 2007-09-01, 2140] \n",
       " Any[\"2005SIMO01\", \"333\", 2007-09-01, 2637] \n",
       " Any[\"2007MALL01\", \"333\", 2007-09-01, 2637] \n",
       " Any[\"2007DESM01\", \"333\", 2007-09-01, 2906] \n",
       " Any[\"2003DENN01\", \"333\", 2007-09-01, 2910] \n",
       " Any[\"2006GALE01\", \"333\", 2007-09-01, 2910] \n",
       " Any[\"2007CORN01\", \"333\", 2007-09-01, 3111] \n",
       " Any[\"2005WOIT01\", \"333\", 2007-09-01, 3111] \n",
       " Any[\"2007POIN01\", \"333\", 2007-09-01, 3265] \n",
       " Any[\"2007LEMO01\", \"333\", 2007-09-01, 3337] \n",
       " Any[\"2006MATH01\", \"333\", 2007-09-01, 3949] \n",
       " Any[\"2007TERR01\", \"333\", 2007-09-01, 4430] \n",
       " ⋮                                          \n",
       " Any[\"2016MEUN01\", \"pyram\", 2019-02-23, 442]\n",
       " Any[\"2016BRIJ01\", \"pyram\", 2019-02-23, 455]\n",
       " Any[\"2015CALD02\", \"pyram\", 2019-02-23, 477]\n",
       " Any[\"2015LEWI01\", \"pyram\", 2019-02-23, 540]\n",
       " Any[\"2018RIVA01\", \"pyram\", 2019-02-23, 556]\n",
       " Any[\"2017SHEF01\", \"pyram\", 2019-02-23, 575]\n",
       " Any[\"2016PHUN02\", \"pyram\", 2019-02-23, 581]\n",
       " Any[\"2010GOLD01\", \"pyram\", 2019-02-23, 583]\n",
       " Any[\"2014FANG01\", \"pyram\", 2019-02-23, 589]\n",
       " Any[\"2017BOUC03\", \"pyram\", 2019-02-23, 637]\n",
       " Any[\"2016SINY01\", \"pyram\", 2019-02-23, 735]\n",
       " Any[\"2014CHIC01\", \"pyram\", 2019-02-23, 977]"
      ]
     },
     "execution_count": 7,
     "metadata": {},
     "output_type": "execute_result"
    }
   ],
   "source": [
    "results = makeResults(\"WCA_export041_20190228T040002Z.tsv/WCA_export_Results.tsv\")"
   ]
  },
  {
   "cell_type": "code",
   "execution_count": 8,
   "metadata": {},
   "outputs": [
    {
     "data": {
      "text/plain": [
       "getGlobalResults (generic function with 1 method)"
      ]
     },
     "execution_count": 8,
     "metadata": {},
     "output_type": "execute_result"
    }
   ],
   "source": [
    "function getGlobalResults(res, event, dt)\n",
    "    a = []\n",
    "    for r in res\n",
    "        if r[2] == event && r[3] > dt\n",
    "            push!(a, [r[1], r[4]])\n",
    "        end\n",
    "    end\n",
    "    return a\n",
    "end"
   ]
  },
  {
   "cell_type": "code",
   "execution_count": 9,
   "metadata": {
    "collapsed": true
   },
   "outputs": [
    {
     "data": {
      "text/plain": [
       "8417-element Array{Any,1}:\n",
       " Any[\"2009FUSH01\", 822] \n",
       " Any[\"2008HASH02\", 999] \n",
       " Any[\"2007OMUR01\", 1001]\n",
       " Any[\"2015TAKA06\", 1005]\n",
       " Any[\"2018YOSH03\", 1012]\n",
       " Any[\"2015CHEN56\", 1016]\n",
       " Any[\"2014JITT01\", 1039]\n",
       " Any[\"2011IRIF01\", 1053]\n",
       " Any[\"2011IIDA01\", 1059]\n",
       " Any[\"2008UENO01\", 1084]\n",
       " Any[\"2017ALIB02\", 1102]\n",
       " Any[\"2013YAMA01\", 1111]\n",
       " Any[\"2009KOBA02\", 1117]\n",
       " ⋮                      \n",
       " Any[\"2015CALD02\", 990] \n",
       " Any[\"2016ASTR01\", 1009]\n",
       " Any[\"2016MEUN01\", 1015]\n",
       " Any[\"2014FANG01\", 1035]\n",
       " Any[\"2010GOLD01\", 1047]\n",
       " Any[\"2016TRAG01\", 1079]\n",
       " Any[\"2017HONG17\", 1080]\n",
       " Any[\"2013KLEI03\", 1109]\n",
       " Any[\"2016PHUN02\", 1113]\n",
       " Any[\"2015LEWI01\", 1190]\n",
       " Any[\"2014CHIC01\", 1228]\n",
       " Any[\"2016BRIJ01\", 1281]"
      ]
     },
     "execution_count": 9,
     "metadata": {},
     "output_type": "execute_result"
    }
   ],
   "source": [
    "#February 1, 2019 - February 28, 2019\n",
    "globalResults = getGlobalResults(results, \"333\", Date(2019, 2, 1))"
   ]
  },
  {
   "cell_type": "code",
   "execution_count": 10,
   "metadata": {},
   "outputs": [
    {
     "data": {
      "text/plain": [
       "findPersonResults (generic function with 1 method)"
      ]
     },
     "execution_count": 10,
     "metadata": {},
     "output_type": "execute_result"
    }
   ],
   "source": [
    "function findPersonResults(id)\n",
    "    presults = Float64[]\n",
    "    for r in globalResults\n",
    "        if r[1] == id\n",
    "            push!(presults, r[2]/100)\n",
    "        end\n",
    "    end\n",
    "    return presults\n",
    "end"
   ]
  },
  {
   "cell_type": "code",
   "execution_count": 11,
   "metadata": {},
   "outputs": [
    {
     "data": {
      "text/plain": [
       "genLazerDict (generic function with 1 method)"
      ]
     },
     "execution_count": 11,
     "metadata": {},
     "output_type": "execute_result"
    }
   ],
   "source": [
    "function genLazerDict()\n",
    "    ids = String[]\n",
    "    ratings = Float64[]\n",
    "    for r in ranks\n",
    "        push!(ids, r[4])\n",
    "        push!(ratings, r[2])\n",
    "    end\n",
    "    lazerDict = Dict(zip(ids, ratings))\n",
    "    \n",
    "    return lazerDict\n",
    "end"
   ]
  },
  {
   "cell_type": "code",
   "execution_count": 12,
   "metadata": {
    "collapsed": true
   },
   "outputs": [
    {
     "data": {
      "text/plain": [
       "Dict{String,Float64} with 113977 entries:\n",
       "  \"2016CARO05\" => NaN\n",
       "  \"2015OMOR01\" => NaN\n",
       "  \"2010PARA01\" => NaN\n",
       "  \"2016FARN01\" => NaN\n",
       "  \"2014HICK01\" => NaN\n",
       "  \"2006OHYA01\" => NaN\n",
       "  \"2016GOLD03\" => NaN\n",
       "  \"2018ALME02\" => NaN\n",
       "  \"2018NOOR02\" => NaN\n",
       "  \"2017MART13\" => NaN\n",
       "  \"2015CHEN72\" => 27.6575\n",
       "  \"2013SANT20\" => NaN\n",
       "  \"2016COXE01\" => NaN\n",
       "  \"2016NOGU01\" => NaN\n",
       "  \"2012KUMA05\" => NaN\n",
       "  \"2016BADI01\" => NaN\n",
       "  \"2018HANS07\" => NaN\n",
       "  \"2017RADI01\" => NaN\n",
       "  \"2017SEOM01\" => NaN\n",
       "  \"2016CUNA01\" => 20.6333\n",
       "  \"2018NIXO01\" => NaN\n",
       "  \"2016BRUY02\" => NaN\n",
       "  \"2012CRAM02\" => NaN\n",
       "  \"2010TEIC01\" => NaN\n",
       "  \"2018YUAN21\" => 18.5275\n",
       "  ⋮            => ⋮"
      ]
     },
     "execution_count": 12,
     "metadata": {},
     "output_type": "execute_result"
    }
   ],
   "source": [
    "lazerDict = genLazerDict()"
   ]
  },
  {
   "cell_type": "code",
   "execution_count": 17,
   "metadata": {},
   "outputs": [
    {
     "data": {
      "text/plain": [
       "compareRating (generic function with 1 method)"
      ]
     },
     "execution_count": 17,
     "metadata": {},
     "output_type": "execute_result"
    }
   ],
   "source": [
    "function compareRating(id)\n",
    "    pr = findPersonResults(id)\n",
    "    rmean = mean(pr)\n",
    "    rating = lazerDict[id]\n",
    "    print(rating, \" \", pr, \" \", rmean)\n",
    "    \n",
    "    dev = abs(rmean - rating)\n",
    "    return dev\n",
    "end"
   ]
  },
  {
   "cell_type": "code",
   "execution_count": 18,
   "metadata": {},
   "outputs": [
    {
     "name": "stdout",
     "output_type": "stream",
     "text": [
      "7.54848190177054 [7.22, 7.02, 8.24, 8.75] 7.807499999999999"
     ]
    },
    {
     "data": {
      "text/plain": [
       "0.2590180982294594"
      ]
     },
     "execution_count": 18,
     "metadata": {},
     "output_type": "execute_result"
    }
   ],
   "source": [
    "compareRating(\"2012LEWI01\")"
   ]
  },
  {
   "cell_type": "code",
   "execution_count": null,
   "metadata": {},
   "outputs": [],
   "source": []
  }
 ],
 "metadata": {
  "kernelspec": {
   "display_name": "Julia 1.1.0",
   "language": "julia",
   "name": "julia-1.1"
  },
  "language_info": {
   "file_extension": ".jl",
   "mimetype": "application/julia",
   "name": "julia",
   "version": "1.1.0"
  }
 },
 "nbformat": 4,
 "nbformat_minor": 2
}
