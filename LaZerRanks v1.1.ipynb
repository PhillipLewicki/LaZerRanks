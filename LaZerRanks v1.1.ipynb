{
 "cells": [
  {
   "cell_type": "code",
   "execution_count": 2,
   "metadata": {
    "scrolled": true
   },
   "outputs": [],
   "source": [
    "using JuliaDB, IterableTables, Dates, Printf, JLD2, FileIO, Plots;"
   ]
  },
  {
   "cell_type": "code",
   "execution_count": 12,
   "metadata": {},
   "outputs": [
    {
     "data": {
      "text/plain": [
       "3-element Array{Symbol,1}:\n",
       " :RatingList       \n",
       " :history_of_top100\n",
       " :ratingdict       "
      ]
     },
     "execution_count": 12,
     "metadata": {},
     "output_type": "execute_result"
    }
   ],
   "source": [
    "@load \"December_26_2018.jld2\" RatingList history_of_top100 ratingdict"
   ]
  },
  {
   "cell_type": "code",
   "execution_count": 28,
   "metadata": {},
   "outputs": [
    {
     "data": {
      "text/plain": [
       "makeCompDict (generic function with 1 method)"
      ]
     },
     "execution_count": 28,
     "metadata": {},
     "output_type": "execute_result"
    }
   ],
   "source": [
    "function makeCompDict(wcafile)\n",
    "    compids = String[]\n",
    "    compdates = Date[]\n",
    "    lines = readlines(wcafile)\n",
    "    for i = 2:length(lines) # skip header line\n",
    "        line = lines[i]\n",
    "        data = split(line, \"\\t\")\n",
    "        push!(compids, data[1])\n",
    "        compdate = string(data[6], \"-\", data[7], \"-\", data[8])\n",
    "        push!(compdates, Date(compdate, \"y-m-d\"))\n",
    "    end\n",
    "        compDict = Dict(zip(compids, compdates))\n",
    "        sortedCompsArray = sort(collect(zip(values(compDict),keys(compDict))))\n",
    "    \n",
    "    return compDict, sortedCompsArray\n",
    "end"
   ]
  },
  {
   "cell_type": "code",
   "execution_count": 29,
   "metadata": {
    "collapsed": true
   },
   "outputs": [
    {
     "data": {
      "text/plain": [
       "(Dict(\"JaenMountainCubes2018\"=>2018-10-13,\"HelsinkiBlindWeekend2015\"=>2015-08-15,\"SanLorenzoInvierno2015\"=>2015-08-15,\"AustrianOpen2016\"=>2016-06-18,\"TokaiOpen2014\"=>2014-12-06,\"FinnishOpen2016\"=>2016-04-16,\"DniproCubeGeneration2018\"=>2018-04-28,\"ThailandChampionship2014\"=>2014-06-21,\"IICEFETMGUAIBitsOpen2018\"=>2018-05-05,\"ByczyCubeRace2017\"=>2017-06-24…), Tuple{Date,String}[(1982-06-05, \"WC1982\"), (2003-08-23, \"WC2003\"), (2003-10-11, \"DutchOpen2003\"), (2004-01-24, \"CaltechWinter2004\"), (2004-04-03, \"CaltechSpring2004\"), (2004-04-16, \"France2004\"), (2004-04-24, \"GermanOpen2004\"), (2004-07-10, \"US2004\"), (2004-08-07, \"Euro2004\"), (2004-10-10, \"DutchOpen2004\")  …  (2019-04-06, \"Cubalaya2019\"), (2019-04-06, \"FariaBritoOpen2019\"), (2019-04-12, \"IndianNationals2019\"), (2019-04-13, \"SolvinginSale2019\"), (2019-04-13, \"UpstateCubing2019\"), (2019-04-20, \"LincolnOpen2019\"), (2019-05-18, \"ZurichOpen2019\"), (2019-06-29, \"BritishSummerOpen2019\"), (2019-07-03, \"WarmUpCanberra2019\"), (2019-07-06, \"WarmUpSydney2019\")])"
      ]
     },
     "execution_count": 29,
     "metadata": {},
     "output_type": "execute_result"
    }
   ],
   "source": [
    "compDict, sortedCompsArray = makeCompDict(\"WCA_export_Competitions.tsv\")"
   ]
  },
  {
   "cell_type": "code",
   "execution_count": 57,
   "metadata": {},
   "outputs": [
    {
     "data": {
      "text/plain": [
       "makeResults (generic function with 1 method)"
      ]
     },
     "execution_count": 57,
     "metadata": {},
     "output_type": "execute_result"
    }
   ],
   "source": [
    "function makeResults(wcafile)\n",
    "    personids = String[]\n",
    "    events_dates_values = Any[]\n",
    "    lines = readlines(wcafile)\n",
    "    for i = 2:length(lines) # skip header line\n",
    "        line = lines[i]\n",
    "        data = split(line, \"\\t\")\n",
    "        push!(personids, data[8])\n",
    "        compid = data[1]\n",
    "        edv = [data[2], compDict[compid], data[11], data[12], data[13], data[14], data[15]]\n",
    "        push!(events_dates_values, edv)\n",
    "    end\n",
    "    \n",
    "    return personids, events_dates_values\n",
    "end"
   ]
  },
  {
   "cell_type": "code",
   "execution_count": 48,
   "metadata": {
    "collapsed": true
   },
   "outputs": [
    {
     "data": {
      "text/plain": [
       "([\"2007AMAN01\", \"2004ROUA01\", \"2005SIMO01\", \"2007MALL01\", \"2007DESM01\", \"2003DENN01\", \"2006GALE01\", \"2007CORN01\", \"2005WOIT01\", \"2007POIN01\"  …  \"2018LIUC21\", \"2018LIUC21\", \"2018LIUC21\", \"2017ZHEN01\", \"2017ZHEN01\", \"2017ZHEN01\", \"2017ZHEN01\", \"2017ZHEN01\", \"2017ZHEN01\", \"2010SHIX01\"], Any[Any[\"333\", 2007-09-01, \"1968\", \"2203\", \"2138\", \"2139\", \"2108\"], Any[\"333\", 2007-09-01, \"2222\", \"2153\", \"1731\", \"2334\", \"2046\"], Any[\"333\", 2007-09-01, \"3430\", \"2581\", \"2540\", \"2789\", \"2305\"], Any[\"333\", 2007-09-01, \"2715\", \"2452\", \"2868\", \"2632\", \"2564\"], Any[\"333\", 2007-09-01, \"2921\", \"3184\", \"2891\", \"2677\", \"2907\"], Any[\"333\", 2007-09-01, \"3309\", \"1869\", \"2558\", \"2930\", \"3241\"], Any[\"333\", 2007-09-01, \"2530\", \"2696\", \"2411\", \"5512\", \"3503\"], Any[\"333\", 2007-09-01, \"2844\", \"3861\", \"2628\", \"3885\", \"2385\"], Any[\"333\", 2007-09-01, \"3084\", \"3163\", \"3087\", \"3498\", \"2639\"], Any[\"333\", 2007-09-01, \"3387\", \"3034\", \"3373\", \"3430\", \"2687\"]  …  Any[\"222\", 2018-12-22, \"1814\", \"2196\", \"1941\", \"1908\", \"3282\"], Any[\"pyram\", 2018-12-22, \"1973\", \"-1\", \"3405\", \"2590\", \"2841\"], Any[\"333\", 2018-12-22, \"6731\", \"7421\", \"6295\", \"5398\", \"5847\"], Any[\"444\", 2018-12-22, \"4454\", \"4440\", \"5120\", \"4695\", \"4431\"], Any[\"444\", 2018-12-22, \"5193\", \"4005\", \"5215\", \"5227\", \"4449\"], Any[\"777\", 2018-12-22, \"21839\", \"21469\", \"23014\", \"0\", \"0\"], Any[\"555\", 2018-12-22, \"8227\", \"7575\", \"8812\", \"7882\", \"7588\"], Any[\"555\", 2018-12-22, \"7856\", \"8545\", \"8668\", \"7775\", \"9103\"], Any[\"666\", 2018-12-22, \"13555\", \"13685\", \"14309\", \"0\", \"0\"], Any[\"333bf\", 2018-12-22, \"2463\", \"-1\", \"-1\", \"0\", \"0\"]])"
      ]
     },
     "execution_count": 48,
     "metadata": {},
     "output_type": "execute_result"
    }
   ],
   "source": [
    "personids, events_dates_values = makeResults(\"WCA_export_Results.tsv\")"
   ]
  },
  {
   "cell_type": "code",
   "execution_count": 54,
   "metadata": {
    "scrolled": true
   },
   "outputs": [
    {
     "data": {
      "text/plain": [
       "findPersonResults (generic function with 1 method)"
      ]
     },
     "execution_count": 54,
     "metadata": {},
     "output_type": "execute_result"
    }
   ],
   "source": [
    "function findPersonResults(personid, event)\n",
    "    personresults = []\n",
    "    for i in 1:length(events_dates_values)\n",
    "        if personids[i] == personid && events_dates_values[i][1] == event\n",
    "            push!(personresults, events_dates_values[i])\n",
    "        end\n",
    "    end\n",
    "    return personresults\n",
    "end"
   ]
  },
  {
   "cell_type": "code",
   "execution_count": null,
   "metadata": {},
   "outputs": [],
   "source": [
    "for i in "
   ]
  },
  {
   "cell_type": "code",
   "execution_count": 56,
   "metadata": {},
   "outputs": [
    {
     "name": "stdout",
     "output_type": "stream",
     "text": [
      "  0.350223 seconds (5.90 M allocations: 120.000 MiB, 11.39% gc time)\n"
     ]
    },
    {
     "data": {
      "text/plain": [
       "194-element Array{Any,1}:\n",
       " Any[\"333\", 2012-11-03, \"1711\", \"2028\", \"1693\", \"1652\", \"1400\"]\n",
       " Any[\"333\", 2012-11-03, \"1490\", \"1822\", \"1980\", \"1718\", \"1631\"]\n",
       " Any[\"333\", 2012-12-08, \"1975\", \"1894\", \"2288\", \"1356\", \"1356\"]\n",
       " Any[\"333\", 2012-12-08, \"2034\", \"1705\", \"1793\", \"2109\", \"1771\"]\n",
       " Any[\"333\", 2012-12-08, \"1896\", \"1975\", \"1546\", \"1497\", \"1735\"]\n",
       " Any[\"333\", 2013-04-06, \"1756\", \"1300\", \"1202\", \"1534\", \"1768\"]\n",
       " Any[\"333\", 2013-04-06, \"-1\", \"1078\", \"1450\", \"1847\", \"1438\"]  \n",
       " Any[\"333\", 2013-05-11, \"1664\", \"1538\", \"1393\", \"1317\", \"1013\"]\n",
       " Any[\"333\", 2013-05-11, \"1428\", \"1396\", \"1589\", \"1593\", \"1101\"]\n",
       " Any[\"333\", 2013-05-11, \"1293\", \"1489\", \"1279\", \"1074\", \"1499\"]\n",
       " Any[\"333\", 2013-06-15, \"1341\", \"1363\", \"1345\", \"1357\", \"1205\"]\n",
       " Any[\"333\", 2013-06-15, \"1388\", \"1324\", \"1156\", \"1395\", \"1204\"]\n",
       " Any[\"333\", 2013-06-15, \"1143\", \"1096\", \"1497\", \"1305\", \"1232\"]\n",
       " ⋮                                                             \n",
       " Any[\"333\", 2018-10-06, \"854\", \"698\", \"919\", \"733\", \"812\"]     \n",
       " Any[\"333\", 2018-10-20, \"820\", \"796\", \"854\", \"766\", \"951\"]     \n",
       " Any[\"333\", 2018-10-20, \"805\", \"777\", \"604\", \"841\", \"668\"]     \n",
       " Any[\"333\", 2018-10-20, \"732\", \"787\", \"843\", \"832\", \"874\"]     \n",
       " Any[\"333\", 2018-11-10, \"765\", \"758\", \"621\", \"846\", \"976\"]     \n",
       " Any[\"333\", 2018-11-10, \"806\", \"769\", \"796\", \"805\", \"740\"]     \n",
       " Any[\"333\", 2018-11-10, \"818\", \"722\", \"779\", \"853\", \"660\"]     \n",
       " Any[\"333\", 2018-12-01, \"1047\", \"622\", \"926\", \"695\", \"840\"]    \n",
       " Any[\"333\", 2018-12-01, \"761\", \"664\", \"675\", \"826\", \"848\"]     \n",
       " Any[\"333\", 2018-12-01, \"732\", \"776\", \"878\", \"797\", \"810\"]     \n",
       " Any[\"333\", 2018-12-15, \"856\", \"766\", \"690\", \"643\", \"757\"]     \n",
       " Any[\"333\", 2018-12-15, \"756\", \"666\", \"1014\", \"741\", \"828\"]    "
      ]
     },
     "execution_count": 56,
     "metadata": {},
     "output_type": "execute_result"
    }
   ],
   "source": [
    "@time findPersonResults(\"2012LEWI01\", \"333\")"
   ]
  },
  {
   "cell_type": "code",
   "execution_count": null,
   "metadata": {},
   "outputs": [],
   "source": []
  },
  {
   "cell_type": "code",
   "execution_count": 26,
   "metadata": {
    "scrolled": true
   },
   "outputs": [
    {
     "data": {
      "text/plain": [
       "Table with 1965270 rows, 17 columns:\n",
       "Columns:\n",
       "\u001b[1m#   \u001b[22m\u001b[1mcolname                \u001b[22m\u001b[1mtype\u001b[22m\n",
       "─────────────────────────────────\n",
       "1   competitionId          String\n",
       "2   eventId                String\n",
       "3   roundTypeId            String\n",
       "4   pos                    Int64\n",
       "5   best                   Int64\n",
       "6   average                Int64\n",
       "7   personName             String\n",
       "8   personId               String\n",
       "9   personCountryId        String\n",
       "10  formatId               String\n",
       "11  value1                 Int64\n",
       "12  value2                 Int64\n",
       "13  value3                 Int64\n",
       "14  value4                 Int64\n",
       "15  value5                 Int64\n",
       "16  regionalSingleRecord   String\n",
       "17  regionalAverageRecord  String"
      ]
     },
     "execution_count": 26,
     "metadata": {},
     "output_type": "execute_result"
    }
   ],
   "source": [
    "results = loadtable(\"WCA_export_Results.tsv\"; delim = '\\t',\n",
    "          colparsers=Dict(\"personId\"=>String,\"eventId\"=>String,\"competitionId\"=>String, \"roundTypeId\"=>String, \"pos\" =>Int))"
   ]
  },
  {
   "cell_type": "code",
   "execution_count": 19,
   "metadata": {
    "scrolled": true
   },
   "outputs": [
    {
     "ename": "LoadError",
     "evalue": "syntax: incomplete: premature end of input",
     "output_type": "error",
     "traceback": [
      "syntax: incomplete: premature end of input",
      ""
     ]
    }
   ],
   "source": [
    "function genPersonResults(id, event)\n",
    "    for i in"
   ]
  },
  {
   "cell_type": "code",
   "execution_count": 131,
   "metadata": {},
   "outputs": [
    {
     "data": {
      "text/plain": [
       "genAllDates (generic function with 1 method)"
      ]
     },
     "execution_count": 131,
     "metadata": {},
     "output_type": "execute_result"
    }
   ],
   "source": [
    "function genAllDates(event)\n",
    "    compDict, sortedCompsArray = makeCompDict(\"WCA_export_Competitions.tsv\")\n",
    "    output = []\n",
    "    lengthOfComps = length(sortedCompsArray)\n",
    "    for i in 1:length(sortedCompsArray)\n",
    "        date = sortedCompsArray[i][1]\n",
    "        count = 0\n",
    "        roundTypes = [\"0\", \"1\", \"2\", \"3\", \"b\", \"c\", \"d\", \"e\", \"f\", \"g\", \"h\"]\n",
    "        for j in 1:length(roundTypes)\n",
    "            if isRound(sortedCompsArray[i][2], event, roundTypes[j])\n",
    "                count+=1\n",
    "            end\n",
    "        end\n",
    "        for i in 1:count\n",
    "            push!(output, date)\n",
    "        end\n",
    "        print(\"\\r $i / $lengthOfComps Comps  ||  $date\")\n",
    "    end\n",
    "    return output\n",
    "end"
   ]
  },
  {
   "cell_type": "code",
   "execution_count": null,
   "metadata": {},
   "outputs": [],
   "source": []
  }
 ],
 "metadata": {
  "kernelspec": {
   "display_name": "Julia 1.0.1",
   "language": "julia",
   "name": "julia-1.0"
  },
  "language_info": {
   "file_extension": ".jl",
   "mimetype": "application/julia",
   "name": "julia",
   "version": "1.0.1"
  }
 },
 "nbformat": 4,
 "nbformat_minor": 2
}
