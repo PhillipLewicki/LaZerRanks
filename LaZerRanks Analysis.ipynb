{
 "cells": [
  {
   "cell_type": "code",
   "execution_count": 181,
   "metadata": {},
   "outputs": [
    {
     "name": "stderr",
     "output_type": "stream",
     "text": [
      "┌ Info: Precompiling JLD2 [033835bb-8acc-5ee8-8aae-3f567f8a3819]\n",
      "└ @ Base loading.jl:1186\n"
     ]
    }
   ],
   "source": [
    "using Dates, StatsBase, JuliaDB, JLD2"
   ]
  },
  {
   "cell_type": "code",
   "execution_count": 67,
   "metadata": {},
   "outputs": [
    {
     "data": {
      "text/plain": [
       "readLazer (generic function with 1 method)"
      ]
     },
     "execution_count": 67,
     "metadata": {},
     "output_type": "execute_result"
    }
   ],
   "source": [
    "function readLazer(file)\n",
    "    ranks = Any[]\n",
    "    lines = readlines(file)\n",
    "    for i = 2:length(lines) # skip header line\n",
    "        line = lines[i]\n",
    "        data = split(line, \",\")\n",
    "        r = [parse(Int, data[1]), parse(Float64, data[2]), parse(Int, data[3]), String(data[8][2:11])]\n",
    "        push!(ranks, r)\n",
    "    end\n",
    "    \n",
    "    return ranks\n",
    "end"
   ]
  },
  {
   "cell_type": "code",
   "execution_count": 24,
   "metadata": {
    "collapsed": true
   },
   "outputs": [
    {
     "data": {
      "text/plain": [
       "113977-element Array{Any,1}:\n",
       " Any[1, 6.31986, 150, \"2012PARK03\"] \n",
       " Any[2, 6.43151, 150, \"2009ZEMD01\"] \n",
       " Any[3, 6.80873, 55, \"2010WANG68\"]  \n",
       " Any[4, 6.81049, 150, \"2010WEYE01\"] \n",
       " Any[5, 6.81576, 60, \"2013NAHM01\"]  \n",
       " Any[6, 6.9825, 10, \"2011ETTE01\"]   \n",
       " Any[7, 7.1134, 110, \"2012PONC02\"]  \n",
       " Any[8, 7.29644, 55, \"2015BORR01\"]  \n",
       " Any[9, 7.35083, 80, \"2014XUZI01\"]  \n",
       " Any[10, 7.35375, 20, \"2015MANS03\"] \n",
       " Any[11, 7.39221, 35, \"2015WANG09\"] \n",
       " Any[12, 7.3939, 85, \"2015MILL01\"]  \n",
       " Any[13, 7.45256, 150, \"2007VALK01\"]\n",
       " ⋮                                  \n",
       " Any[113966, NaN, 0, \"2019WEST02\"]  \n",
       " Any[113967, NaN, 0, \"2019WILS02\"]  \n",
       " Any[113968, NaN, 0, \"2019WOJD01\"]  \n",
       " Any[113969, NaN, 0, \"2019WONG02\"]  \n",
       " Any[113970, NaN, 0, \"2019YEUN02\"]  \n",
       " Any[113971, NaN, 0, \"2019YOCY01\"]  \n",
       " Any[113972, NaN, 0, \"2019YUDI01\"]  \n",
       " Any[113973, NaN, 0, \"2019ZEBR01\"]  \n",
       " Any[113974, NaN, 0, \"2019ZEMA01\"]  \n",
       " Any[113975, NaN, 0, \"2019ZILI01\"]  \n",
       " Any[113976, NaN, 0, \"2019ZINO01\"]  \n",
       " Any[113977, NaN, 0, \"2019ZIOM01\"]  "
      ]
     },
     "execution_count": 24,
     "metadata": {},
     "output_type": "execute_result"
    }
   ],
   "source": [
    "ranks = readLazer(\"Feb_2019/333_Feb_2019.csv\")"
   ]
  },
  {
   "cell_type": "code",
   "execution_count": 4,
   "metadata": {},
   "outputs": [
    {
     "data": {
      "text/plain": [
       "makeCompDict (generic function with 1 method)"
      ]
     },
     "execution_count": 4,
     "metadata": {},
     "output_type": "execute_result"
    }
   ],
   "source": [
    "function makeCompDict(wcafile)\n",
    "    compids = String[]\n",
    "    compdates = Date[]\n",
    "    lines = readlines(wcafile)\n",
    "    for i = 2:length(lines) # skip header line\n",
    "        line = lines[i]\n",
    "        data = split(line, \"\\t\")\n",
    "        push!(compids, data[1])\n",
    "        compdate = string(data[6], \"-\", data[7], \"-\", data[8])\n",
    "        push!(compdates, Date(compdate, \"y-m-d\"))\n",
    "    end\n",
    "        compDict = Dict(zip(compids, compdates))\n",
    "        sortedCompsArray = sort(collect(zip(values(compDict),keys(compDict))))\n",
    "    \n",
    "    return compDict, sortedCompsArray\n",
    "end"
   ]
  },
  {
   "cell_type": "code",
   "execution_count": 5,
   "metadata": {},
   "outputs": [
    {
     "data": {
      "text/plain": [
       "makeResults (generic function with 1 method)"
      ]
     },
     "execution_count": 5,
     "metadata": {},
     "output_type": "execute_result"
    }
   ],
   "source": [
    "function makeResults(wcafile)\n",
    "    results = Any[]\n",
    "    lines = readlines(wcafile)\n",
    "    for i = 2:length(lines) # skip header line\n",
    "        line = lines[i]\n",
    "        data = split(line, \"\\t\")\n",
    "        compid = data[1]\n",
    "        rs = [data[8], data[2], compDict[data[1]], parse(Int, data[6])]\n",
    "        push!(results, rs)\n",
    "    end\n",
    "    \n",
    "    return results\n",
    "end"
   ]
  },
  {
   "cell_type": "code",
   "execution_count": 6,
   "metadata": {},
   "outputs": [
    {
     "data": {
      "text/plain": [
       "(Dict(\"JaenMountainCubes2018\"=>2018-10-13,\"HelsinkiBlindWeekend2015\"=>2015-08-15,\"SanLorenzoInvierno2015\"=>2015-08-15,\"AustrianOpen2016\"=>2016-06-18,\"TokaiOpen2014\"=>2014-12-06,\"FinnishOpen2016\"=>2016-04-16,\"DniproCubeGeneration2018\"=>2018-04-28,\"ThailandChampionship2014\"=>2014-06-21,\"IICEFETMGUAIBitsOpen2018\"=>2018-05-05,\"ByczyCubeRace2017\"=>2017-06-24…), Tuple{Date,String}[(1982-06-05, \"WC1982\"), (2003-08-23, \"WC2003\"), (2003-10-11, \"DutchOpen2003\"), (2004-01-24, \"CaltechWinter2004\"), (2004-04-03, \"CaltechSpring2004\"), (2004-04-16, \"France2004\"), (2004-04-24, \"GermanOpen2004\"), (2004-07-10, \"US2004\"), (2004-08-07, \"Euro2004\"), (2004-10-10, \"DutchOpen2004\")  …  (2019-07-06, \"WarmUpSydney2019\"), (2019-07-11, \"WC2019\"), (2019-07-13, \"CubingHeredia2019\"), (2019-07-20, \"NishinomiyaOpen2019\"), (2019-07-26, \"ChinaChampionship2019\"), (2019-07-27, \"LeedsOpen2019\"), (2019-08-01, \"CubingUSANationals2019\"), (2019-08-02, \"GermanNationals2019\"), (2019-08-24, \"ABHC2019\"), (2019-09-28, \"LiechtensteinOpen2019\")])"
      ]
     },
     "execution_count": 6,
     "metadata": {},
     "output_type": "execute_result"
    }
   ],
   "source": [
    "compDict, sortedCompsArray = makeCompDict(\"WCA_export045_20190303T112134Z.tsv/WCA_export_Competitions.tsv\")"
   ]
  },
  {
   "cell_type": "code",
   "execution_count": 7,
   "metadata": {
    "collapsed": true
   },
   "outputs": [
    {
     "data": {
      "text/plain": [
       "2046649-element Array{Any,1}:\n",
       " Any[\"2007AMAN01\", \"333\", 2007-09-01, 2128]\n",
       " Any[\"2004ROUA01\", \"333\", 2007-09-01, 2140]\n",
       " Any[\"2005SIMO01\", \"333\", 2007-09-01, 2637]\n",
       " Any[\"2007MALL01\", \"333\", 2007-09-01, 2637]\n",
       " Any[\"2007DESM01\", \"333\", 2007-09-01, 2906]\n",
       " Any[\"2003DENN01\", \"333\", 2007-09-01, 2910]\n",
       " Any[\"2006GALE01\", \"333\", 2007-09-01, 2910]\n",
       " Any[\"2007CORN01\", \"333\", 2007-09-01, 3111]\n",
       " Any[\"2005WOIT01\", \"333\", 2007-09-01, 3111]\n",
       " Any[\"2007POIN01\", \"333\", 2007-09-01, 3265]\n",
       " Any[\"2007LEMO01\", \"333\", 2007-09-01, 3337]\n",
       " Any[\"2006MATH01\", \"333\", 2007-09-01, 3949]\n",
       " Any[\"2007TERR01\", \"333\", 2007-09-01, 4430]\n",
       " ⋮                                         \n",
       " Any[\"2016QUAN03\", \"444bf\", 2019-03-02, 0] \n",
       " Any[\"2014CAIJ02\", \"444bf\", 2019-03-02, 0] \n",
       " Any[\"2016DEXT01\", \"444bf\", 2019-03-02, 0] \n",
       " Any[\"2014KIPR01\", \"444bf\", 2019-03-02, 0] \n",
       " Any[\"2010STOL01\", \"444bf\", 2019-03-02, 0] \n",
       " Any[\"2017HUGH04\", \"444bf\", 2019-03-02, 0] \n",
       " Any[\"2016JARM01\", \"444bf\", 2019-03-02, 0] \n",
       " Any[\"2015STEV03\", \"444bf\", 2019-03-02, 0] \n",
       " Any[\"2016EPST02\", \"444bf\", 2019-03-02, 0] \n",
       " Any[\"2011ZHUT01\", \"444bf\", 2019-03-02, 0] \n",
       " Any[\"2018LOHT01\", \"444bf\", 2019-03-02, 0] \n",
       " Any[\"2016JONE04\", \"444bf\", 2019-03-02, 0] "
      ]
     },
     "execution_count": 7,
     "metadata": {},
     "output_type": "execute_result"
    }
   ],
   "source": [
    "results = makeResults(\"WCA_export045_20190303T112134Z.tsv/WCA_export_Results.tsv\")"
   ]
  },
  {
   "cell_type": "code",
   "execution_count": 8,
   "metadata": {},
   "outputs": [
    {
     "data": {
      "text/plain": [
       "getGlobalResults (generic function with 1 method)"
      ]
     },
     "execution_count": 8,
     "metadata": {},
     "output_type": "execute_result"
    }
   ],
   "source": [
    "function getGlobalResults(res, event, dt, dtend)\n",
    "    a = []\n",
    "    for r in res\n",
    "        if r[2] == event && r[3] > dt && r[3] < dtend\n",
    "            push!(a, [r[1], r[4]])\n",
    "        end\n",
    "    end\n",
    "    return a\n",
    "end"
   ]
  },
  {
   "cell_type": "code",
   "execution_count": 120,
   "metadata": {},
   "outputs": [
    {
     "data": {
      "text/plain": [
       "getResults (generic function with 1 method)"
      ]
     },
     "execution_count": 120,
     "metadata": {},
     "output_type": "execute_result"
    }
   ],
   "source": [
    "function getResults(res, event)\n",
    "    a = []\n",
    "    for r in res\n",
    "        if r[2] == event\n",
    "            push!(a, [r[1], r[2], r[3], r[4]])\n",
    "        end\n",
    "    end\n",
    "    return a\n",
    "end"
   ]
  },
  {
   "cell_type": "code",
   "execution_count": 23,
   "metadata": {
    "collapsed": true
   },
   "outputs": [
    {
     "data": {
      "text/plain": [
       "8765-element Array{Any,1}:\n",
       " Any[\"2009FUSH01\", 822] \n",
       " Any[\"2008HASH02\", 999] \n",
       " Any[\"2007OMUR01\", 1001]\n",
       " Any[\"2015TAKA06\", 1005]\n",
       " Any[\"2018YOSH03\", 1012]\n",
       " Any[\"2015CHEN56\", 1016]\n",
       " Any[\"2014JITT01\", 1039]\n",
       " Any[\"2011IRIF01\", 1053]\n",
       " Any[\"2011IIDA01\", 1059]\n",
       " Any[\"2008UENO01\", 1084]\n",
       " Any[\"2017ALIB02\", 1102]\n",
       " Any[\"2013YAMA01\", 1111]\n",
       " Any[\"2009KOBA02\", 1117]\n",
       " ⋮                      \n",
       " Any[\"2016WOJC02\", -1]  \n",
       " Any[\"2017CEGI01\", -1]  \n",
       " Any[\"2016KOLA02\", 755] \n",
       " Any[\"2015GROH02\", 784] \n",
       " Any[\"2014OMIA01\", 786] \n",
       " Any[\"2013BURL01\", 792] \n",
       " Any[\"2014CZAP01\", 816] \n",
       " Any[\"2014ZYCH01\", 835] \n",
       " Any[\"2013MALI03\", 852] \n",
       " Any[\"2014ZAKR01\", 889] \n",
       " Any[\"2014QUYN02\", 946] \n",
       " Any[\"2011KNOT01\", 977] "
      ]
     },
     "execution_count": 23,
     "metadata": {},
     "output_type": "execute_result"
    }
   ],
   "source": [
    "globalResults = getGlobalResults(results, \"333\", Date(2019, 2, 1), Date(2019, 3, 1))"
   ]
  },
  {
   "cell_type": "code",
   "execution_count": 28,
   "metadata": {},
   "outputs": [
    {
     "data": {
      "text/plain": [
       "findPersonResults (generic function with 1 method)"
      ]
     },
     "execution_count": 28,
     "metadata": {},
     "output_type": "execute_result"
    }
   ],
   "source": [
    "function findPersonResults(id)\n",
    "    presults = Float64[]\n",
    "    for r in globalResults\n",
    "        if r[1] == id\n",
    "            push!(presults, r[2]/100)\n",
    "        end\n",
    "    end\n",
    "    return presults\n",
    "end"
   ]
  },
  {
   "cell_type": "code",
   "execution_count": 29,
   "metadata": {},
   "outputs": [
    {
     "data": {
      "text/plain": [
       "genLazerDict (generic function with 1 method)"
      ]
     },
     "execution_count": 29,
     "metadata": {},
     "output_type": "execute_result"
    }
   ],
   "source": [
    "function genLazerDict()\n",
    "    ids = String[]\n",
    "    ratings = Float64[]\n",
    "    for r in ranks\n",
    "        push!(ids, r[4])\n",
    "        push!(ratings, r[2])\n",
    "    end\n",
    "    lazerDict = Dict(zip(ids, ratings))\n",
    "    \n",
    "    return lazerDict\n",
    "end"
   ]
  },
  {
   "cell_type": "code",
   "execution_count": 30,
   "metadata": {
    "collapsed": true
   },
   "outputs": [
    {
     "data": {
      "text/plain": [
       "Dict{String,Float64} with 113977 entries:\n",
       "  \"2016CARO05\" => NaN\n",
       "  \"2015OMOR01\" => NaN\n",
       "  \"2010PARA01\" => NaN\n",
       "  \"2016FARN01\" => NaN\n",
       "  \"2014HICK01\" => NaN\n",
       "  \"2006OHYA01\" => NaN\n",
       "  \"2016GOLD03\" => NaN\n",
       "  \"2018ALME02\" => NaN\n",
       "  \"2018NOOR02\" => NaN\n",
       "  \"2017MART13\" => NaN\n",
       "  \"2015CHEN72\" => 27.6575\n",
       "  \"2013SANT20\" => NaN\n",
       "  \"2016COXE01\" => NaN\n",
       "  \"2016NOGU01\" => NaN\n",
       "  \"2012KUMA05\" => NaN\n",
       "  \"2016BADI01\" => NaN\n",
       "  \"2018HANS07\" => NaN\n",
       "  \"2017RADI01\" => NaN\n",
       "  \"2017SEOM01\" => NaN\n",
       "  \"2016CUNA01\" => 20.6333\n",
       "  \"2018NIXO01\" => NaN\n",
       "  \"2016BRUY02\" => NaN\n",
       "  \"2012CRAM02\" => NaN\n",
       "  \"2010TEIC01\" => NaN\n",
       "  \"2018YUAN21\" => 18.5275\n",
       "  ⋮            => ⋮"
      ]
     },
     "execution_count": 30,
     "metadata": {},
     "output_type": "execute_result"
    }
   ],
   "source": [
    "lazerDict = genLazerDict()"
   ]
  },
  {
   "cell_type": "code",
   "execution_count": 14,
   "metadata": {},
   "outputs": [
    {
     "data": {
      "text/plain": [
       "compareRating (generic function with 1 method)"
      ]
     },
     "execution_count": 14,
     "metadata": {},
     "output_type": "execute_result"
    }
   ],
   "source": [
    "function compareRating(id, dict)\n",
    "    apr = findPersonResults(id)\n",
    "    pr = []\n",
    "    for i in apr\n",
    "        if !(i<=0)\n",
    "            push!(pr, i)\n",
    "        end\n",
    "    end\n",
    "    rmean = mean(pr)\n",
    "    rating = try \n",
    "            dict[id]\n",
    "        catch\n",
    "            NaN\n",
    "        end\n",
    "    dev = abs(rmean - rating)\n",
    "    #print(\"\\n\\r $id $rating $pr $rmean\")\n",
    "    return dev\n",
    "end"
   ]
  },
  {
   "cell_type": "code",
   "execution_count": 31,
   "metadata": {},
   "outputs": [
    {
     "data": {
      "text/plain": [
       "0.2590180982294594"
      ]
     },
     "execution_count": 31,
     "metadata": {},
     "output_type": "execute_result"
    }
   ],
   "source": [
    "compareRating(\"2012LEWI01\", lazerDict)"
   ]
  },
  {
   "cell_type": "code",
   "execution_count": 32,
   "metadata": {},
   "outputs": [
    {
     "data": {
      "text/plain": [
       "doStats (generic function with 1 method)"
      ]
     },
     "execution_count": 32,
     "metadata": {},
     "output_type": "execute_result"
    }
   ],
   "source": [
    "function doStats(res)\n",
    "    ids = []\n",
    "    for i in res\n",
    "        push!(ids, i[1])\n",
    "    end\n",
    "    total_dev = 0\n",
    "    squared_total_dev = 0\n",
    "    len = length(ids)\n",
    "    rsquared_total_dev = 0\n",
    "    rlen = length(ids)\n",
    "    for i in 1:length(ids)\n",
    "        print(\"\\r $i / $len\")\n",
    "        dev = compareRating(ids[i], lazerDict)\n",
    "        if dev/dev != 1 && dev != 0\n",
    "            len -= 1\n",
    "        else\n",
    "            total_dev += dev\n",
    "            squared_total_dev += dev^2\n",
    "        end\n",
    "        rdev = compareRating(ids[i], ranks333Dict)\n",
    "        if rdev/rdev != 1 && rdev != 0\n",
    "            rlen -= 1\n",
    "        else\n",
    "            rsquared_total_dev += rdev^2\n",
    "        end\n",
    "    end\n",
    "    return [\"RMSE (LR)\", sqrt(squared_total_dev / len)], [\"RMSE (wca)\", sqrt(rsquared_total_dev / rlen)]\n",
    "end"
   ]
  },
  {
   "cell_type": "code",
   "execution_count": 33,
   "metadata": {
    "scrolled": true
   },
   "outputs": [
    {
     "data": {
      "text/plain": [
       "reduceResults (generic function with 1 method)"
      ]
     },
     "execution_count": 33,
     "metadata": {},
     "output_type": "execute_result"
    }
   ],
   "source": [
    "function reduceResults(results, cutoff)\n",
    "    out = []\n",
    "    for r in results\n",
    "        if r[2] < cutoff && r[2] > 0\n",
    "            push!(out, r)\n",
    "        end\n",
    "    end\n",
    "    return out\n",
    "end"
   ]
  },
  {
   "cell_type": "code",
   "execution_count": 38,
   "metadata": {},
   "outputs": [
    {
     "data": {
      "text/plain": [
       "reduceResults (generic function with 2 methods)"
      ]
     },
     "execution_count": 38,
     "metadata": {},
     "output_type": "execute_result"
    }
   ],
   "source": [
    "function reduceResults(results, low, high)\n",
    "    out = []\n",
    "    for r in results\n",
    "        if r[2] <= high && r[2] > low\n",
    "            push!(out, r)\n",
    "        end\n",
    "    end\n",
    "    return out\n",
    "end"
   ]
  },
  {
   "cell_type": "code",
   "execution_count": null,
   "metadata": {},
   "outputs": [],
   "source": [
    "reduce"
   ]
  },
  {
   "cell_type": "code",
   "execution_count": 18,
   "metadata": {
    "collapsed": true
   },
   "outputs": [
    {
     "data": {
      "text/plain": [
       "11182-element Array{Any,1}:\n",
       " Any[\"2019ADHI01\", 2720]\n",
       " Any[\"2019ADHI01\", 2632]\n",
       " Any[\"2019ADHI01\", 2606]\n",
       " Any[\"2019REGM01\", 6415]\n",
       " Any[\"2019REGM01\", 4669]\n",
       " Any[\"2019KCAA01\", 9050]\n",
       " Any[\"2019GUPT01\", 2995]\n",
       " Any[\"2019GUPT01\", 2942]\n",
       " Any[\"2019GUPT01\", 2612]\n",
       " Any[\"2017JOSH04\", 1957]\n",
       " Any[\"2017JOSH04\", 1590]\n",
       " Any[\"2019POKH01\", 3102]\n",
       " Any[\"2019POKH01\", 3004]\n",
       " ⋮                      \n",
       " Any[\"2018MEHD01\", 2247]\n",
       " Any[\"2018ALIY01\", 2717]\n",
       " Any[\"2019NAGI01\", 3915]\n",
       " Any[\"2018HASA05\", 3931]\n",
       " Any[\"2018MIRZ03\", 4594]\n",
       " Any[\"2015MURS01\", 5256]\n",
       " Any[\"2018HASA06\", 1449]\n",
       " Any[\"2017MEMM02\", 1775]\n",
       " Any[\"2017MAMM01\", 1882]\n",
       " Any[\"2018MEHD01\", 2306]\n",
       " Any[\"2018ALIY01\", 2743]\n",
       " Any[\"2019NAGI01\", 4105]"
      ]
     },
     "execution_count": 18,
     "metadata": {},
     "output_type": "execute_result"
    }
   ],
   "source": [
    "sub7results = reduceResults(globalResults, 700)\n",
    "sub8results = reduceResults(globalResults, 800)\n",
    "sub9results = reduceResults(globalResults, 900)\n",
    "sub10results = reduceResults(globalResults, 1000)\n",
    "sub15results = reduceResults(globalResults, 1500)\n",
    "sub20results = reduceResults(globalResults, 2000)\n",
    "sub600results = reduceResults(globalResults, 60000)"
   ]
  },
  {
   "cell_type": "code",
   "execution_count": 41,
   "metadata": {
    "collapsed": true
   },
   "outputs": [
    {
     "data": {
      "text/plain": [
       "2925-element Array{Any,1}:\n",
       " Any[\"2016UMET02\", 2009]\n",
       " Any[\"2018TAKA03\", 2047]\n",
       " Any[\"2018ONOT01\", 2050]\n",
       " Any[\"2018NARI01\", 2109]\n",
       " Any[\"2017MIYA04\", 2124]\n",
       " Any[\"2016YAMA02\", 2152]\n",
       " Any[\"2019TAMU01\", 2152]\n",
       " Any[\"2018KAWA05\", 2202]\n",
       " Any[\"2017MIYA02\", 2214]\n",
       " Any[\"2011YOSH01\", 2273]\n",
       " Any[\"2019OOMO01\", 2289]\n",
       " Any[\"2019VACH01\", 2299]\n",
       " Any[\"2016KURA01\", 2306]\n",
       " ⋮                      \n",
       " Any[\"2018LUKA08\", 2499]\n",
       " Any[\"2018REWE01\", 2567]\n",
       " Any[\"2018DUDE02\", 2631]\n",
       " Any[\"2005DURK01\", 3186]\n",
       " Any[\"2019MIKO01\", 3278]\n",
       " Any[\"2019PAKU01\", 3579]\n",
       " Any[\"2019BLAU01\", 3696]\n",
       " Any[\"2019BILI01\", 5106]\n",
       " Any[\"2019SZYM01\", 6600]\n",
       " Any[\"2019SMOL02\", 6729]\n",
       " Any[\"2018CHOD01\", 9684]\n",
       " Any[\"2017CZAR01\", 2237]"
      ]
     },
     "execution_count": 41,
     "metadata": {},
     "output_type": "execute_result"
    }
   ],
   "source": [
    "res07 = reduceResults(globalResults, 0, 700)\n",
    "res78 = reduceResults(globalResults, 700, 800)\n",
    "res89 = reduceResults(globalResults, 800, 900)\n",
    "res910 = reduceResults(globalResults, 900, 1000)\n",
    "res1015 = reduceResults(globalResults, 1000, 1500)\n",
    "res1520 = reduceResults(globalResults, 1500, 2000)\n",
    "res20600 = reduceResults(globalResults, 2000, 60000)"
   ]
  },
  {
   "cell_type": "code",
   "execution_count": 63,
   "metadata": {},
   "outputs": [
    {
     "name": "stdout",
     "output_type": "stream",
     "text": [
      " 276 / 262"
     ]
    },
    {
     "data": {
      "text/plain": [
       "(Any[\"RMSE (LR)\", 0.394717], Any[\"RMSE (wca)\", 2.53707])"
      ]
     },
     "execution_count": 63,
     "metadata": {},
     "output_type": "execute_result"
    }
   ],
   "source": [
    "doStats(res89)"
   ]
  },
  {
   "cell_type": "code",
   "execution_count": 21,
   "metadata": {},
   "outputs": [
    {
     "data": {
      "text/plain": [
       "makeRanks (generic function with 1 method)"
      ]
     },
     "execution_count": 21,
     "metadata": {},
     "output_type": "execute_result"
    }
   ],
   "source": [
    "function makeRanks(wcafile, event)\n",
    "    ranks = Any[]\n",
    "    lines = readlines(wcafile)\n",
    "    for i = 2:length(lines) # skip header line\n",
    "        line = lines[i]\n",
    "        data = split(line, \"\\t\")\n",
    "        rs = [data[1], parse(Int, data[3])/100]\n",
    "        if data[2] == event\n",
    "            push!(ranks, rs)\n",
    "        end\n",
    "    end\n",
    "    ids = []\n",
    "    values = []\n",
    "    for r in ranks\n",
    "        push!(ids, r[1])\n",
    "        push!(values, r[2])\n",
    "    end\n",
    "    \n",
    "    ranksDict = Dict(zip(ids, values))\n",
    "    \n",
    "    return ranks, ranksDict\n",
    "end"
   ]
  },
  {
   "cell_type": "code",
   "execution_count": 51,
   "metadata": {
    "scrolled": true
   },
   "outputs": [
    {
     "data": {
      "text/plain": [
       "(Any[Any[\"2015DUYU01\", 3.47], Any[\"2009ZEMD01\", 4.22], Any[\"2012PARK03\", 4.4], Any[\"2012CHOS01\", 4.59], Any[\"2010KIPA01\", 4.59], Any[\"2013BALI01\", 4.64], Any[\"2012PONC02\", 4.69], Any[\"2014XUZI01\", 4.72], Any[\"2007VALK01\", 4.74], Any[\"2010BRAD01\", 4.76]  …  Any[\"2014RAND03\", 420.12], Any[\"2017SALI08\", 422.99], Any[\"2018CHOW01\", 435.46], Any[\"2017KUMA54\", 461.14], Any[\"2008YANG07\", 476.66], Any[\"2013MILO01\", 484.74], Any[\"2017POLK02\", 493.91], Any[\"2009URBA02\", 553.81], Any[\"2010PETR02\", 593.53], Any[\"2013ORPH01\", 648.0]], Dict{Any,Any}(\"2016CARO05\"=>45.52,\"2015OMOR01\"=>9.97,\"2010PARA01\"=>25.68,\"2016FARN01\"=>45.9,\"2014HICK01\"=>38.11,\"2006OHYA01\"=>189.3,\"2016GOLD03\"=>39.52,\"2018ALME02\"=>12.23,\"2018NOOR02\"=>19.09,\"2017MART13\"=>19.14…))"
      ]
     },
     "execution_count": 51,
     "metadata": {},
     "output_type": "execute_result"
    }
   ],
   "source": [
    "ranks333, ranks333Dict = makeRanks(\"WCA_export_RanksSingle.tsv\", \"333\")"
   ]
  },
  {
   "cell_type": "code",
   "execution_count": 125,
   "metadata": {},
   "outputs": [],
   "source": [
    "path_persons = \"WCA_export045_20190303T112134Z.tsv/WCA_export_Persons.tsv\"\n",
    "wca_persons = loadtable(path_persons; delim = '\\t', quotechar = '\\\\',\n",
    "    colparsers=Dict(\"id\"=>String,\"subid\"=>Int, \"name\"=>String, \"CountryId\"=>String, \"gender\"=>String));\n",
    "\n",
    "persons = loadndsparse(path_persons; delim = '\\t', quotechar = '\\\\', indexcols = [:id, :subid],\n",
    "    colparsers=Dict(\"id\"=>String,\"subid\"=>Int, \"name\"=>String, \"CountryId\"=>String, \"gender\"=>String));"
   ]
  },
  {
   "cell_type": "code",
   "execution_count": 183,
   "metadata": {},
   "outputs": [
    {
     "data": {
      "text/plain": [
       "genHistoryofAverages (generic function with 2 methods)"
      ]
     },
     "execution_count": 183,
     "metadata": {},
     "output_type": "execute_result"
    }
   ],
   "source": [
    "function genHistoryofAverages(event)\n",
    "    playerids = []\n",
    "    for i in 1:length(wca_persons)\n",
    "        push!(playerids, wca_persons[i][1])\n",
    "    end\n",
    "    #reset dicts\n",
    "    averages = []\n",
    "    for i in 1:length(playerids)\n",
    "        push!(averages, NaN)\n",
    "    end\n",
    "    avgdict = Dict(zip(playerids, averages))\n",
    "    \n",
    "    sortedResults = sort!(getResults(results, event), by = x -> x[3])\n",
    "    \n",
    "    historyDict = []\n",
    "    currentDate = Date(1982, 6, 5)\n",
    "    len = length(sortedResults)\n",
    "    for i in 1:len\n",
    "        dict$i = avgdict\n",
    "        if sortedResults[i][4] < avgdict[sortedResults[i][1]] || isnan(avgdict[sortedResults[i][1]]) || avgdict[sortedResults[i][1]] == 0\n",
    "            avgdict[sortedResults[i][1]] = sortedResults[i][4]\n",
    "        end\n",
    "        dt = sortedResults[i][3]\n",
    "        if Month(dt) > Month(currentDate) || Year(dt) > Year(currentDate)\n",
    "            print(\"\\r $i / $len\")\n",
    "            currentDate = dt\n",
    "            @save \"avgdict_$currentDate.jld2\" avgdict\n",
    "        end\n",
    "    end\n",
    "    return avgdict\n",
    "end"
   ]
  },
  {
   "cell_type": "code",
   "execution_count": 185,
   "metadata": {
    "collapsed": true
   },
   "outputs": [
    {
     "name": "stdout",
     "output_type": "stream",
     "text": [
      " 579433 / 579505"
     ]
    },
    {
     "data": {
      "text/plain": [
       "Dict{Any,Any} with 120226 entries:\n",
       "  \"2016CARO05\" => 5117\n",
       "  \"2015OMOR01\" => 1460\n",
       "  \"2010PARA01\" => 3217\n",
       "  \"2016FARN01\" => 5096\n",
       "  \"2014HICK01\" => 3878\n",
       "  \"2006OHYA01\" => 0\n",
       "  \"2016GOLD03\" => 4772\n",
       "  \"2018NOOR02\" => 2039\n",
       "  \"2018ALME02\" => 1452\n",
       "  \"2017MART13\" => 2370\n",
       "  \"2015CHEN72\" => 2584\n",
       "  \"2013SANT20\" => 6712\n",
       "  \"2016COXE01\" => 3980\n",
       "  \"2016NOGU01\" => 1632\n",
       "  \"2012KUMA05\" => 0\n",
       "  \"2016BADI01\" => 5344\n",
       "  \"2018HANS07\" => 8170\n",
       "  \"2017RADI01\" => 2906\n",
       "  \"2017SEOM01\" => 3678\n",
       "  \"2016CUNA01\" => -1\n",
       "  \"2015KISI01\" => NaN\n",
       "  \"2016BRUY02\" => 2104\n",
       "  \"2018NIXO01\" => 4239\n",
       "  \"2012CRAM02\" => 1304\n",
       "  \"2010TEIC01\" => 6209\n",
       "  ⋮            => ⋮"
      ]
     },
     "execution_count": 185,
     "metadata": {},
     "output_type": "execute_result"
    }
   ],
   "source": [
    "avgdict = genHistoryofAverages(\"333\")"
   ]
  },
  {
   "cell_type": "code",
   "execution_count": 197,
   "metadata": {},
   "outputs": [
    {
     "data": {
      "text/plain": [
       "1-element Array{Symbol,1}:\n",
       " :avgdict"
      ]
     },
     "execution_count": 197,
     "metadata": {},
     "output_type": "execute_result"
    }
   ],
   "source": [
    "@load \"avgdict_2011-12-03.jld2\" avgdict"
   ]
  },
  {
   "cell_type": "code",
   "execution_count": 199,
   "metadata": {},
   "outputs": [
    {
     "data": {
      "text/plain": [
       "764"
      ]
     },
     "execution_count": 199,
     "metadata": {},
     "output_type": "execute_result"
    }
   ],
   "source": [
    "avgdict[\"2009ZEMD01\"]"
   ]
  },
  {
   "cell_type": "code",
   "execution_count": null,
   "metadata": {},
   "outputs": [],
   "source": []
  }
 ],
 "metadata": {
  "kernelspec": {
   "display_name": "Julia 1.1.0",
   "language": "julia",
   "name": "julia-1.1"
  },
  "language_info": {
   "file_extension": ".jl",
   "mimetype": "application/julia",
   "name": "julia",
   "version": "1.1.0"
  }
 },
 "nbformat": 4,
 "nbformat_minor": 2
}
