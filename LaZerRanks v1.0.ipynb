{
 "cells": [
  {
   "cell_type": "markdown",
   "metadata": {},
   "source": [
    "# LaZerRanks v1.0"
   ]
  },
  {
   "cell_type": "code",
   "execution_count": 1,
   "metadata": {},
   "outputs": [
    {
     "name": "stderr",
     "output_type": "stream",
     "text": [
      "WARNING: Method definition midpoints(Base.Range{T} where T) in module Base at deprecated.jl:56 overwritten in module StatsBase at /Users/phillip/.julia/v0.6/StatsBase/src/hist.jl:535.\n",
      "WARNING: Method definition midpoints(AbstractArray{T, 1} where T) in module Base at deprecated.jl:56 overwritten in module StatsBase at /Users/phillip/.julia/v0.6/StatsBase/src/hist.jl:533.\n",
      "WARNING: JuliaDB.DTable is deprecated, use JuliaDB.DNDSparse{K, V} where V where K instead.\n",
      "  likely near In[1]:3\n",
      "WARNING: JuliaDB.DTable is deprecated, use JuliaDB.DNDSparse{K, V} where V where K instead.\n",
      "  likely near In[1]:6\n",
      "WARNING: JuliaDB.DTable is deprecated, use JuliaDB.DNDSparse{K, V} where V where K instead.\n",
      "  likely near In[1]:7\n",
      "WARNING: JuliaDB.DTable is deprecated, use JuliaDB.DNDSparse{K, V} where V where K instead.\n",
      "  likely near In[1]:10\n",
      "WARNING: Method definition ==(Base.Nullable{S}, Base.Nullable{T}) in module Base at nullable.jl:238 overwritten in module NullableArrays at /Users/phillip/.julia/v0.6/NullableArrays/src/operators.jl:99.\n"
     ]
    }
   ],
   "source": [
    "using JuliaDB, FileIO, IterableTables, CSVFiles, CSV;"
   ]
  },
  {
   "cell_type": "code",
   "execution_count": 2,
   "metadata": {},
   "outputs": [
    {
     "data": {
      "text/plain": [
       "false"
      ]
     },
     "execution_count": 2,
     "metadata": {},
     "output_type": "execute_result"
    }
   ],
   "source": [
    "IndexedTables.set_show_compact!(false)"
   ]
  },
  {
   "cell_type": "code",
   "execution_count": 3,
   "metadata": {},
   "outputs": [
    {
     "data": {
      "text/plain": [
       "genresults (generic function with 1 method)"
      ]
     },
     "execution_count": 3,
     "metadata": {},
     "output_type": "execute_result"
    }
   ],
   "source": [
    "function genresults(fileid)\n",
    "    path_comps = \"WCA_export$fileid/WCA_export_Competitions.tsv\"\n",
    "    wca_comps = loadndsparse(path_comps; delim = '\\t', quotechar = '\\\\', indexcols = [:id],\n",
    "        colparsers=Dict(\"id\"=>String, \"name\"=>String, \"cityName\"=>String, \n",
    "            \"countryId\"=>String, \"information\"=>String, \"year\"=>Int, \n",
    "            \"month\"=>Int, \"day\"=>Int, \"endMonth\"=>Int, \"endDay\"=>Int,\n",
    "            \"eventSpecs\"=>String, \"wcaDelegate\"=>String, \"organiser\"=>String,\n",
    "            \"venue\"=>String, \"venueAddress\"=>String, \"venueDetails\"=>String,\n",
    "            \"external_website\"=>String, \"cellName\"=>String, \"latitude\"=>Int,\n",
    "            \"longitude\"=>Int))\n",
    "    path_results = \"WCA_export$fileid/WCA_export_Results.tsv\"\n",
    "    wca_results = loadtable(path_results; delim = '\\t', \n",
    "        indexcols = [:personId, :eventId, :competitionId, :roundTypeId],\n",
    "        colparsers=Dict(\"competitionId\"=>String, \"eventId\"=>String, \"roundTypeId\"=>String, \n",
    "            \"pos\"=>Int, \"best\"=>Int, \"average\"=>Int, \n",
    "            \"personName\"=>String, \"personId\"=>String, \"personCountryId\"=>String, \"formatId\"=>String,\n",
    "            \"value1\"=>Int, \"value2\"=>Int, \"value3\"=>Int,\"value4\"=>Int, \"value5\"=>Int, \n",
    "            \"regionalSingleRecord\"=>String, \"regionalAverageRecord\"=>String))\n",
    "    function comp_date(comp_id, comps_data)\n",
    "    c    = wca_comps[comp_id]\n",
    "    dt   = Date(c[5], c[6], c[7])\n",
    "    end\n",
    "    function days_elapsed(comp_id, comps_data)\n",
    "         Date(now()) - comp_date(comp_id, comps_data)\n",
    "    end\n",
    "    wca_results_select = select(wca_results, (:personId, :eventId, :competitionId, :roundTypeId,\n",
    "                                          :value1, :value2, :value3, :value4, :value5,\n",
    "                                          :personName, :personCountryId))\n",
    "    date_of_comps = map(p->@NT(date=comp_date(p.competitionId, wca_comps)), wca_results)\n",
    "    elapsed_of_comps = map(p->@NT(elapsed=days_elapsed(p.competitionId, wca_comps).value), wca_results)\n",
    "    dtofc = []\n",
    "    for i in 1:length(date_of_comps)\n",
    "        dt = date_of_comps[i][1]\n",
    "        push!(dtofc, dt)\n",
    "    end\n",
    "    deofc = []\n",
    "    for i in 1:length(elapsed_of_comps)\n",
    "        de = elapsed_of_comps[i][1]\n",
    "        push!(deofc, de)\n",
    "    end\n",
    "    results_date = insertcolafter(wca_results_select, :competitionId, :date, dtofc)\n",
    "    results_elapsed = insertcolafter(results_date, :date, :elapsed, deofc)\n",
    "    results = reindex(results_elapsed, (:personId, :eventId, :elapsed))\n",
    "    FileIO.save(\"results$fileid.csv\", results)\n",
    "    JuliaDB.save(results, \"results$fileid\")\n",
    "end"
   ]
  },
  {
   "cell_type": "code",
   "execution_count": 4,
   "metadata": {},
   "outputs": [
    {
     "data": {
      "text/plain": [
       "genresultsCompressed (generic function with 1 method)"
      ]
     },
     "execution_count": 4,
     "metadata": {},
     "output_type": "execute_result"
    }
   ],
   "source": [
    "function genresultsCompressed(fileid)\n",
    "    path_comps = \"WCA_export$fileid/WCA_export_Competitions.tsv\"\n",
    "    wca_comps = loadndsparse(path_comps; delim = '\\t', quotechar = '\\\\', indexcols = [:id],\n",
    "        colparsers=Dict(\"id\"=>String, \"name\"=>String, \"cityName\"=>String, \n",
    "            \"countryId\"=>String, \"information\"=>String, \"year\"=>Int, \n",
    "            \"month\"=>Int, \"day\"=>Int, \"endMonth\"=>Int, \"endDay\"=>Int,\n",
    "            \"eventSpecs\"=>String, \"wcaDelegate\"=>String, \"organiser\"=>String,\n",
    "            \"venue\"=>String, \"venueAddress\"=>String, \"venueDetails\"=>String,\n",
    "            \"external_website\"=>String, \"cellName\"=>String, \"latitude\"=>Int,\n",
    "            \"longitude\"=>Int))\n",
    "    path_results = \"WCA_export$fileid/WCA_export_Results.tsv\"\n",
    "    wca_results = loadtable(path_results; delim = '\\t', \n",
    "        indexcols = [:personId, :eventId, :competitionId, :roundTypeId],\n",
    "        colparsers=Dict(\"competitionId\"=>String, \"eventId\"=>String, \"roundTypeId\"=>String, \n",
    "            \"pos\"=>Int, \"best\"=>Int, \"average\"=>Int, \n",
    "            \"personName\"=>String, \"personId\"=>String, \"personCountryId\"=>String, \"formatId\"=>String,\n",
    "            \"value1\"=>Int, \"value2\"=>Int, \"value3\"=>Int,\"value4\"=>Int, \"value5\"=>Int, \n",
    "            \"regionalSingleRecord\"=>String, \"regionalAverageRecord\"=>String))\n",
    "    function comp_date(comp_id, comps_data)\n",
    "    c    = wca_comps[comp_id]\n",
    "    dt   = Date(c[5], c[6], c[7])\n",
    "    end\n",
    "    function days_elapsed(comp_id, comps_data)\n",
    "         Date(now()) - comp_date(comp_id, comps_data)\n",
    "    end\n",
    "    wca_results_select = select(wca_results, (:personId, :eventId, :competitionId,\n",
    "                                          :value1, :value2, :value3, :value4, :value5,\n",
    "                                          :personName, :personCountryId))\n",
    "    date_of_comps = map(p->@NT(date=comp_date(p.competitionId, wca_comps)), wca_results)\n",
    "    elapsed_of_comps = map(p->@NT(elapsed=days_elapsed(p.competitionId, wca_comps).value), wca_results)\n",
    "    dtofc = []\n",
    "    for i in 1:length(date_of_comps)\n",
    "        dt = date_of_comps[i][1]\n",
    "        push!(dtofc, dt)\n",
    "    end\n",
    "    deofc = []\n",
    "    for i in 1:length(elapsed_of_comps)\n",
    "        de = elapsed_of_comps[i][1]\n",
    "        push!(deofc, de)\n",
    "    end\n",
    "    results_date = insertcolafter(wca_results_select, :competitionId, :date, dtofc)\n",
    "    results_elapsed = insertcolafter(results_date, :date, :elapsed, deofc)\n",
    "    results_indexed = reindex(results_elapsed, (:personId, :eventId, :elapsed))\n",
    "    resultsCompressed = select(results_indexed, (:personId, :eventId,\n",
    "                                          :value1, :value2, :value3, :value4, :value5,\n",
    "                                          :personName, :personCountryId))\n",
    "    FileIO.save(\"resultsCompressed$fileid.csv\", resultsCompressed)\n",
    "    JuliaDB.save(resultsCompressed, \"resultsCompressed$fileid\")\n",
    "end"
   ]
  },
  {
   "cell_type": "code",
   "execution_count": 5,
   "metadata": {},
   "outputs": [
    {
     "data": {
      "text/plain": [
       "gentabs (generic function with 1 method)"
      ]
     },
     "execution_count": 5,
     "metadata": {},
     "output_type": "execute_result"
    }
   ],
   "source": [
    "function gentabs(fileid)\n",
    "    results = loadndsparse(\"results$fileid.csv\",\n",
    "        indexcols = [:personId, :eventId, :elapsed],\n",
    "        colparsers=Dict(\"competitionId\"=>String, \"eventId\"=>String, \"roundTypeId\"=>String,\n",
    "            \"personName\"=>String, \"personId\"=>String, \"personCountryId\"=>String,\n",
    "            \"value1\"=>Int, \"value2\"=>Int, \"value3\"=>Int,\"value4\"=>Int, \"value5\"=>Int,\n",
    "            \"elapsed\"=>Int, \"date\"=>String))\n",
    "\n",
    "    path_ranksavg = \"WCA_export$fileid/WCA_export_RanksAverage.tsv\"\n",
    "    ranks_avg = loadndsparse(path_ranksavg; delim = '\\t', indexcols = [:worldRank, :eventId, :personId],\n",
    "        colparsers=Dict(\"personId\"=>String, \"eventId\"=>String, \"best\"=>String,\n",
    "            \"worldRank\"=>Int, \"continentRank\"=>Int, \"countryRank\"=>Int));\n",
    "    ranks_avg_333 = table(ranks_avg[:,\"333\",:])\n",
    "    ranks_avg_444 = table(ranks_avg[:,\"444\",:])\n",
    "    ranks_avg_555 = table(ranks_avg[:,\"555\",:])\n",
    "    ranks_avg_minx = table(ranks_avg[:,\"minx\",:])\n",
    "\n",
    "    path_persons = \"WCA_export$fileid/WCA_export_Persons.tsv\"\n",
    "    persons = loadtable(path_persons; delim = '\\t',\n",
    "        colparsers=Dict(\"id\"=>String, \"subid\"=>Int, \"name\"=>String,\n",
    "            \"countryId\"=>String, \"gender\"=>String))\n",
    "    return results, ranks_avg, ranks_avg_333, ranks_avg_444, ranks_avg_555, persons, ranks_avg_minx\n",
    "end"
   ]
  },
  {
   "cell_type": "code",
   "execution_count": 6,
   "metadata": {},
   "outputs": [
    {
     "data": {
      "text/plain": [
       "genEventCSV (generic function with 1 method)"
      ]
     },
     "execution_count": 6,
     "metadata": {},
     "output_type": "execute_result"
    }
   ],
   "source": [
    "function genEventCSV(fileid, eventid)\n",
    "    results = loadndsparse(\"results$fileid.csv\",\n",
    "        indexcols = [:personId, :eventId, :elapsed],\n",
    "        colparsers=Dict(\"competitionId\"=>String, \"eventId\"=>String, \"roundTypeId\"=>String,\n",
    "            \"personName\"=>String, \"personId\"=>String, \"personCountryId\"=>String,\n",
    "            \"value1\"=>Int, \"value2\"=>Int, \"value3\"=>Int,\"value4\"=>Int, \"value5\"=>Int,\n",
    "            \"elapsed\"=>Int, \"date\"=>String))\n",
    "    \n",
    "    path_ranksavg = \"WCA_export$fileid/WCA_export_RanksAverage.tsv\"\n",
    "    ranks_avg = loadndsparse(path_ranksavg; delim = '\\t', indexcols = [:worldRank, :eventId, :personId],\n",
    "        colparsers=Dict(\"personId\"=>String, \"eventId\"=>String, \"best\"=>String,\n",
    "            \"worldRank\"=>Int, \"continentRank\"=>Int, \"countryRank\"=>Int));\n",
    "    \n",
    "    ranks_avgEvent = table(ranks_avg[:,eventid,:])\n",
    "    FileIO.save(\"ranks$eventid\\_1000$fileid.csv\", ranks_avgEvent[1:1000])\n",
    "    resultsEvent = table(results[:,eventid,:])\n",
    "    set_wcaIdsEvent_1000 = Set(genwcaIds(ranks_avgEvent[1:1000]))\n",
    "    resultsEvent_1000_filtered = filter(i->in(i.personId, set_wcaIdsEvent_1000), resultsEvent)\n",
    "    resultsEvent_1000 = select(resultsEvent_1000_filtered, (:personId, :personName, :personCountryId,\n",
    "                                                        :value1, :value2, :value3, :value4, :value5,\n",
    "                                                        :elapsed, :date))\n",
    "    FileIO.save(\"results$eventid\\_1000$fileid.csv\", resultsEvent_1000)\n",
    "end"
   ]
  },
  {
   "cell_type": "code",
   "execution_count": 7,
   "metadata": {},
   "outputs": [
    {
     "data": {
      "text/plain": [
       "genLowEventCSV (generic function with 1 method)"
      ]
     },
     "execution_count": 7,
     "metadata": {},
     "output_type": "execute_result"
    }
   ],
   "source": [
    "function genLowEventCSV(fileid, eventid)\n",
    "    results = loadndsparse(\"results$fileid.csv\",\n",
    "        indexcols = [:personId, :eventId, :elapsed],\n",
    "        colparsers=Dict(\"competitionId\"=>String, \"eventId\"=>String, \"roundTypeId\"=>String,\n",
    "            \"personName\"=>String, \"personId\"=>String, \"personCountryId\"=>String,\n",
    "            \"value1\"=>Int, \"value2\"=>Int, \"value3\"=>Int,\"value4\"=>Int, \"value5\"=>Int,\n",
    "            \"elapsed\"=>Int, \"date\"=>String))\n",
    "    \n",
    "    path_ranks_single = \"WCA_export$fileid/WCA_export_RanksSingle.tsv\"\n",
    "    ranks_single = loadndsparse(path_ranks_single; delim = '\\t', indexcols = [:worldRank, :eventId, :personId],\n",
    "        colparsers=Dict(\"personId\"=>String, \"eventId\"=>String, \"best\"=>String,\n",
    "            \"worldRank\"=>Int, \"continentRank\"=>Int, \"countryRank\"=>Int));\n",
    "    \n",
    "    ranks_singleEvent = table(ranks_single[:,eventid,:])\n",
    "    FileIO.save(\"ranks$eventid\\_300$fileid.csv\", ranks_singleEvent[1:300])\n",
    "    resultsEvent = table(results[:,eventid,:])\n",
    "    set_wcaIdsEvent_300 = Set(genwcaIds(ranks_singleEvent[1:300]))\n",
    "    resultsEvent_300_filtered = filter(i->in(i.personId, set_wcaIdsEvent_300), resultsEvent)\n",
    "    resultsEvent_300 = select(resultsEvent_300_filtered, (:personId, :personName, :personCountryId,\n",
    "                                                        :value1, :value2, :value3, :value4, :value5,\n",
    "                                                        :elapsed, :date))\n",
    "    FileIO.save(\"results$eventid\\_300$fileid.csv\", resultsEvent_300)\n",
    "end"
   ]
  },
  {
   "cell_type": "code",
   "execution_count": 8,
   "metadata": {},
   "outputs": [
    {
     "data": {
      "text/plain": [
       "genresults1000 (generic function with 1 method)"
      ]
     },
     "execution_count": 8,
     "metadata": {},
     "output_type": "execute_result"
    }
   ],
   "source": [
    "function genresults1000(fileid)\n",
    "    genEventCSV(fileid,\"222\")\n",
    "    genEventCSV(fileid,\"333\")\n",
    "    genEventCSV(fileid,\"444\")\n",
    "    genEventCSV(fileid,\"555\")\n",
    "    genEventCSV(fileid,\"666\")\n",
    "    genEventCSV(fileid,\"777\")\n",
    "    genEventCSV(fileid,\"333oh\")\n",
    "    genEventCSV(fileid,\"333bf\")\n",
    "    genEventCSV(fileid,\"333ft\")\n",
    "    genEventCSV(fileid,\"minx\")\n",
    "    genEventCSV(fileid,\"pyram\")\n",
    "    genEventCSV(fileid,\"skewb\")\n",
    "    genEventCSV(fileid,\"sq1\")\n",
    "    genEventCSV(fileid,\"clock\")\n",
    "    genEventCSV(fileid,\"333fm\")\n",
    "end"
   ]
  },
  {
   "cell_type": "code",
   "execution_count": 9,
   "metadata": {},
   "outputs": [
    {
     "data": {
      "text/plain": [
       "genresults300 (generic function with 1 method)"
      ]
     },
     "execution_count": 9,
     "metadata": {},
     "output_type": "execute_result"
    }
   ],
   "source": [
    "function genresults300(fileid)\n",
    "    genLowEventCSV(fileid,\"444bf\")\n",
    "    genLowEventCSV(fileid,\"555bf\")\n",
    "end"
   ]
  },
  {
   "cell_type": "code",
   "execution_count": 10,
   "metadata": {},
   "outputs": [
    {
     "data": {
      "text/plain": [
       "LaZerRating (generic function with 1 method)"
      ]
     },
     "execution_count": 10,
     "metadata": {},
     "output_type": "execute_result"
    }
   ],
   "source": [
    "function LaZerRating(id, event, days)\n",
    "    wcalimit = 60000 # 10:00 minutes (wca time limit)\n",
    "    k = 43252003274489856000\n",
    "\n",
    "    rs = table(results[id, event, days])\n",
    "\n",
    "    if length(rs) == 0\n",
    "        rs = table(results[id,:,:])\n",
    "        rating = wcalimit/100\n",
    "        pdnf = 100\n",
    "        nsolves = 0\n",
    "        name = rs[1][11]\n",
    "        country = rs[1][12]\n",
    "        best = wcalimit/100\n",
    "        lastcomp = 0\n",
    "        return rating,pdnf,nsolves,country,name,best,lastcomp\n",
    "    end\n",
    "\n",
    "    times = []\n",
    "    for i in 1:length(rs)\n",
    "        append!(times, rs[i][5:9])\n",
    "    end\n",
    "\n",
    "    elapsed = []\n",
    "    for i in 1:length(rs)\n",
    "        append!(elapsed, repeat([rs[i][1]], inner=5))\n",
    "    end\n",
    "\n",
    "    dnfs = find(x->x == -1 || x == -2 || x == 0, times)\n",
    "    times[dnfs] = k\n",
    "    skipk = find(x->x != k, times)\n",
    "\n",
    "    weights = []\n",
    "    for i in 1:length(skipk)\n",
    "        push!(weights, 1/elapsed[skipk][i])\n",
    "    end\n",
    "\n",
    "    sw = sum(weights)\n",
    "\n",
    "    weighted_times = []\n",
    "    for i in 1:length(skipk)\n",
    "        push!(weighted_times, times[skipk][i]*weights[i])\n",
    "    end\n",
    "\n",
    "    rating = sum(weighted_times)/sw/100\n",
    "\n",
    "    #percent DNF\n",
    "    ndnf = length(rs)*5 - length(skipk)\n",
    "    if event == \"777\" || event == \"666\" || event == \"333fm\" || event == \"333ft\" || event == \"333bf\"\n",
    "        pdnf = ((ndnf/(length(rs)*5))*100)-40\n",
    "        nsolves = length(rs)*5-(2/5)*length(rs)*5\n",
    "    else\n",
    "        pdnf = ndnf/(length(rs)*5)*100\n",
    "        nsolves = length(rs)*5\n",
    "    end\n",
    "\n",
    "    #additional person Info\n",
    "    name = rs[1][10]\n",
    "    country = rs[1][11]\n",
    "\n",
    "    #best time\n",
    "    if event == \"333fm\"\n",
    "        best = minimum(times[skipk])\n",
    "    else\n",
    "        best = minimum(times[skipk])/100\n",
    "    end\n",
    "\n",
    "    # days since last comp\n",
    "    elapsedlastcomp = minimum(elapsed)\n",
    "    \n",
    "    # date of last comp\n",
    "    dates = []\n",
    "    for i in 1:length(rs)\n",
    "        append!(dates, repeat([rs[i][3]], inner=5))\n",
    "    end\n",
    "    datelastcomp = maximum(dates)\n",
    "\n",
    "    return rating,pdnf,nsolves,country,name,best,elapsedlastcomp,datelastcomp\n",
    "end\n"
   ]
  },
  {
   "cell_type": "code",
   "execution_count": 11,
   "metadata": {},
   "outputs": [
    {
     "data": {
      "text/plain": [
       "printrt (generic function with 1 method)"
      ]
     },
     "execution_count": 11,
     "metadata": {},
     "output_type": "execute_result"
    }
   ],
   "source": [
    "function printrt(rt)\n",
    "    htb = @sprintf \"%4s %-30s \\t %7s %7s%6s %-15s %6s %5s %-10s\" \"Rank\" \"Name\" \"Rating\" \"+/-\" \"Best\" \"Citizen of\" \"Solves\" \"%DNF\" \"Date Achieved\"\n",
    "    println(htb)\n",
    "    for i in 1:length(rt)\n",
    "        name = rt[i][1][5]\n",
    "        if length(name) > 30\n",
    "            name = name[1:30]\"...\"\n",
    "        end\n",
    "        tb = @sprintf \"%4d %30s \\t %7.3f %+7.3f%6.2f %-15s %6d %5.2f %10s\" i  rpad(name, 30) rt[i][1][1] rt[i][2] rt[i][1][6] rpad(rt[i][1][4], 15) rt[i][1][3] rt[i][1][2] rt[i][1][8]\n",
    "        println(tb)\n",
    "    end\n",
    "end\n"
   ]
  },
  {
   "cell_type": "code",
   "execution_count": 12,
   "metadata": {},
   "outputs": [
    {
     "data": {
      "text/plain": [
       "compactprintrt (generic function with 1 method)"
      ]
     },
     "execution_count": 12,
     "metadata": {},
     "output_type": "execute_result"
    }
   ],
   "source": [
    "function compactprintrt(rt)\n",
    "    htb = @sprintf \"%4s %-30s \\t %7s %6s %-15s %-10s\" \"Rank\" \"Name\" \"Rating\" \"Best\" \"Citizen of\" \"Date Achieved\"\n",
    "    println(htb)\n",
    "    for i in 1:length(rt)\n",
    "        name = rt[i][1][5]\n",
    "        if length(name) > 30\n",
    "            name = name[1:30]\"...\"\n",
    "        end\n",
    "        tb = @sprintf \"%4d %30s \\t %7.3f %6.2f %-15s %10s\" i  rpad(name, 30) rt[i][1][1] rt[i][1][6] rpad(rt[i][1][4], 15) rt[i][1][8]\n",
    "        println(tb)\n",
    "    end\n",
    "end"
   ]
  },
  {
   "cell_type": "code",
   "execution_count": 13,
   "metadata": {},
   "outputs": [
    {
     "data": {
      "text/plain": [
       "genrt (generic function with 1 method)"
      ]
     },
     "execution_count": 13,
     "metadata": {},
     "output_type": "execute_result"
    }
   ],
   "source": [
    "function genrt(ranks, event, days)\n",
    "    rating = []\n",
    "    change = []\n",
    "    for i in 1:length(ranks)\n",
    "        r = LaZerRating(ranks[i][2], event, days)\n",
    "        push!(rating, r)\n",
    "        if LaZerRating(ranks[i][2], event, ((days)+(LaZerRating(ranks[i][2], event, days)[7]+1)))[1] == 600.0\n",
    "        c = 0.000\n",
    "        else\n",
    "        c = LaZerRating(ranks[i][2], event, days)[1] - \n",
    "            LaZerRating(ranks[i][2], event, ((days)+(LaZerRating(ranks[i][2], event, days)[7]+1)))[1]\n",
    "        end\n",
    "        push!(change, c)\n",
    "    end\n",
    "    rt = table(rating, change, names=[:rating, :change], pkey = :rating)\n",
    "end"
   ]
  },
  {
   "cell_type": "code",
   "execution_count": 14,
   "metadata": {
    "scrolled": true
   },
   "outputs": [
    {
     "data": {
      "text/plain": [
       "genratings (generic function with 1 method)"
      ]
     },
     "execution_count": 14,
     "metadata": {},
     "output_type": "execute_result"
    }
   ],
   "source": [
    "function genratings(wcaId, event)\n",
    "    ratings = []\n",
    "    for n in 5000:-7:0\n",
    "        r = LaZerRating(wcaId, event, n:n+365)\n",
    "        push!(ratings, r)\n",
    "    end\n",
    "    rt = table(ratings, names=[:ratings])\n",
    "    return rt\n",
    "end"
   ]
  },
  {
   "cell_type": "code",
   "execution_count": 15,
   "metadata": {},
   "outputs": [
    {
     "data": {
      "text/plain": [
       "genminrt (generic function with 1 method)"
      ]
     },
     "execution_count": 15,
     "metadata": {},
     "output_type": "execute_result"
    }
   ],
   "source": [
    "function genminrt(ranks, event)\n",
    "        rating = []\n",
    "        for i in 1:length(ranks)\n",
    "            r = minimum(genratings(ranks[i][2], event))\n",
    "        append!(rating, r)\n",
    "        end\n",
    "        rt = table(rating, names=[:rating], pkey = :rating)\n",
    "end"
   ]
  },
  {
   "cell_type": "code",
   "execution_count": 16,
   "metadata": {},
   "outputs": [
    {
     "data": {
      "text/plain": [
       "gentable (generic function with 1 method)"
      ]
     },
     "execution_count": 16,
     "metadata": {},
     "output_type": "execute_result"
    }
   ],
   "source": [
    "function gentable(rt)\n",
    "    rating = []\n",
    "    pdnf = []\n",
    "    nsolves = []\n",
    "    country = []\n",
    "    name = []\n",
    "    best = []\n",
    "    elapsedlastcomp = []\n",
    "    datelastcomp = []\n",
    "    change = []\n",
    "    rank = []\n",
    "    for i in 1:length(rt)\n",
    "        r = rt[i][1][1]\n",
    "        push!(rating, r)\n",
    "        p = rt[i][1][2]\n",
    "        push!(pdnf, p)\n",
    "        ns = rt[i][1][3]\n",
    "        push!(nsolves, ns)\n",
    "        c = rt[i][1][4]\n",
    "        push!(country, c)\n",
    "        n = rt[i][1][5]\n",
    "        push!(name, n)\n",
    "        b = rt[i][1][6]\n",
    "        push!(best, b)\n",
    "        e = rt[i][1][7]\n",
    "        push!(elapsedlastcomp, e)\n",
    "        d = rt[i][1][8]\n",
    "        push!(datelastcomp, d)\n",
    "        ch = rt[i][2]\n",
    "        push!(change, ch)\n",
    "        ri = i\n",
    "        push!(rank, ri)\n",
    "    end   \n",
    "\n",
    "    newrt = table(rank, name, rating, change, best, country, nsolves, pdnf, datelastcomp, \n",
    "                    names=[:Rank, :Name, :Rating, :Change, :Best, :Country, :Solves, :pctDNF, :Date])\n",
    "    \n",
    "    return newrt\n",
    "end\n",
    "    "
   ]
  },
  {
   "cell_type": "code",
   "execution_count": 17,
   "metadata": {
    "scrolled": true
   },
   "outputs": [
    {
     "data": {
      "text/plain": [
       "genwcaIds (generic function with 1 method)"
      ]
     },
     "execution_count": 17,
     "metadata": {},
     "output_type": "execute_result"
    }
   ],
   "source": [
    "function genwcaIds(ranks)\n",
    "        wcaIds = []\n",
    "        for i in 1:length(ranks)\n",
    "            id = ranks[i][2]\n",
    "        push!(wcaIds, id)\n",
    "        end\n",
    "    return wcaIds\n",
    "end"
   ]
  },
  {
   "cell_type": "code",
   "execution_count": 18,
   "metadata": {},
   "outputs": [
    {
     "data": {
      "text/plain": [
       "genAvgCSV (generic function with 1 method)"
      ]
     },
     "execution_count": 18,
     "metadata": {},
     "output_type": "execute_result"
    }
   ],
   "source": [
    "function genAvgCSV(fileid)\n",
    "    path_comps = \"WCA_export$fileid/WCA_export_Competitions.tsv\"\n",
    "    wca_comps = loadndsparse(path_comps; delim = '\\t', quotechar = '\\\\', indexcols = [:id],\n",
    "        colparsers=Dict(\"id\"=>String, \"name\"=>String, \"cityName\"=>String, \n",
    "            \"countryId\"=>String, \"information\"=>String, \"year\"=>Int, \n",
    "            \"month\"=>Int, \"day\"=>Int, \"endMonth\"=>Int, \"endDay\"=>Int,\n",
    "            \"eventSpecs\"=>String, \"wcaDelegate\"=>String, \"organiser\"=>String,\n",
    "            \"venue\"=>String, \"venueAddress\"=>String, \"venueDetails\"=>String,\n",
    "            \"external_website\"=>String, \"cellName\"=>String, \"latitude\"=>Int,\n",
    "            \"longitude\"=>Int))\n",
    "    path_results = \"WCA_export$fileid/WCA_export_Results.tsv\"\n",
    "    wca_results = loadtable(path_results; delim = '\\t', \n",
    "        indexcols = [:personId, :eventId, :competitionId, :roundTypeId],\n",
    "        colparsers=Dict(\"competitionId\"=>String, \"eventId\"=>String, \"roundTypeId\"=>String, \n",
    "            \"pos\"=>Int, \"best\"=>Int, \"average\"=>Int, \n",
    "            \"personName\"=>String, \"personId\"=>String, \"personCountryId\"=>String, \"formatId\"=>String,\n",
    "            \"value1\"=>Int, \"value2\"=>Int, \"value3\"=>Int,\"value4\"=>Int, \"value5\"=>Int, \n",
    "            \"regionalSingleRecord\"=>String, \"regionalAverageRecord\"=>String))\n",
    "    function comp_date(comp_id, comps_data)\n",
    "    c    = wca_comps[comp_id]\n",
    "    dt   = Date(c[5], c[6], c[7])\n",
    "    end\n",
    "    function days_elapsed(comp_id, comps_data)\n",
    "         Date(now()) - comp_date(comp_id, comps_data)\n",
    "    end\n",
    "    wca_results_select = select(wca_results, (:personId, :eventId, :average, :personName, :competitionId))\n",
    "    date_of_comps = map(p->@NT(date=comp_date(p.competitionId, wca_comps)), wca_results)\n",
    "    elapsed_of_comps = map(p->@NT(elapsed=days_elapsed(p.competitionId, wca_comps).value), wca_results)\n",
    "    dtofc = []\n",
    "    for i in 1:length(date_of_comps)\n",
    "        dt = date_of_comps[i][1]\n",
    "        push!(dtofc, dt)\n",
    "    end\n",
    "    deofc = []\n",
    "    for i in 1:length(elapsed_of_comps)\n",
    "        de = elapsed_of_comps[i][1]\n",
    "        push!(deofc, de)\n",
    "    end\n",
    "    Avgs_date = insertcolafter(wca_results_select, :competitionId, :date, dtofc)\n",
    "    Avgs_elapsed = insertcolafter(Avgs_date, :date, :elapsed, deofc)\n",
    "    Avgs_indexed = reindex(Avgs_elapsed, (:personId, :eventId, :elapsed))\n",
    "    Avgs = select(Avgs_indexed, (:personId, :eventId, :elapsed, :date, :average))\n",
    "    FileIO.save(\"Avgs$fileid.csv\", Avgs)\n",
    "    JuliaDB.save(Avgs, \"Avgs$fileid\")\n",
    "end"
   ]
  },
  {
   "cell_type": "code",
   "execution_count": 28,
   "metadata": {
    "collapsed": true
   },
   "outputs": [
    {
     "data": {
      "text/plain": [
       "Table with 1965270 rows, 13 columns:\n",
       "\u001b[1mpersonId      \u001b[22m\u001b[1meventId  \u001b[22m\u001b[1melapsed  \u001b[22mcompetitionId            date        roundTypeId  value1  value2  value3  value4  value5  personName                        personCountryId\n",
       "────────────────────────────────────────────────────────────────────────────────────────────────────────────────────────────────────────────────────────────────────────────\n",
       "\"1982BORS01\"  \"333\"    13350    \"WC1982\"                 1982-06-05  \"f\"          3675    3533    3002    0       0       \"Jozsef Borsos\"                   \"Serbia\"\n",
       "\"1982BRIN01\"  \"333\"    13350    \"WC1982\"                 1982-06-05  \"f\"          3480    3059    3232    0       0       \"Roland Brinkmann\"                \"Germany\"\n",
       "\"1982CHIL01\"  \"333\"    13350    \"WC1982\"                 1982-06-05  \"f\"          3059    2595    2746    0       0       \"Julian Chilvers\"                 \"United Kingdom\"\n",
       "\"1982FRID01\"  \"333\"    4285     \"Cornell2007\"            2007-03-31  \"1\"          2016    2252    1983    0       0       \"Jessica Fridrich\"                \"USA\"\n",
       "\"1982FRID01\"  \"333\"    4285     \"Cornell2007\"            2007-03-31  \"2\"          1994    3438    2336    0       0       \"Jessica Fridrich\"                \"USA\"\n",
       "\"1982FRID01\"  \"333\"    5090     \"CaltechWinter2005\"      2005-01-15  \"1\"          2516    2069    2219    0       0       \"Jessica Fridrich\"                \"USA\"\n",
       "\"1982FRID01\"  \"333\"    5090     \"CaltechWinter2005\"      2005-01-15  \"2\"          2456    2287    1852    2423    2089    \"Jessica Fridrich\"                \"USA\"\n",
       "\"1982FRID01\"  \"333\"    5090     \"CaltechWinter2005\"      2005-01-15  \"f\"          1875    3125    2412    3133    2128    \"Jessica Fridrich\"                \"USA\"\n",
       "\"1982FRID01\"  \"333\"    5601     \"WC2003\"                 2003-08-23  \"1\"          2336    2325    1977    0       0       \"Jessica Fridrich\"                \"USA\"\n",
       "\"1982FRID01\"  \"333\"    5601     \"WC2003\"                 2003-08-23  \"2\"          2294    1807    2551    0       0       \"Jessica Fridrich\"                \"USA\"\n",
       "\"1982FRID01\"  \"333\"    5601     \"WC2003\"                 2003-08-23  \"f\"          2753    2222    1733    1712    2188    \"Jessica Fridrich\"                \"USA\"\n",
       "\"1982FRID01\"  \"333\"    13350    \"WC1982\"                 1982-06-05  \"f\"          3149    2911    3320    0       0       \"Jessica Fridrich\"                \"Czech Republic\"\n",
       "⋮\n",
       "\"2018ZYMU01\"  \"333\"    162      \"IrishChampionship2018\"  2018-07-14  \"1\"          6364    5045    4668    5474    6056    \"Agata Żymuła\"                    \"Poland\"\n",
       "\"2018ZYMU02\"  \"333\"    162      \"IrishChampionship2018\"  2018-07-14  \"1\"          7047    6320    7729    7643    7548    \"Celina Zymula\"                   \"Poland\"\n",
       "\"2018ZYMU03\"  \"333\"    162      \"IrishChampionship2018\"  2018-07-14  \"1\"          3642    3042    3670    3386    3401    \"Tomasz Żymuła\"                   \"Poland\"\n",
       "\"2018ZYNE01\"  \"222\"    8        \"CubersEve2018\"          2018-12-15  \"1\"          1056    805     744     1106    915     \"Arkadiusz Żynel\"                 \"Poland\"\n",
       "\"2018ZYNE01\"  \"333\"    8        \"CubersEve2018\"          2018-12-15  \"1\"          1342    1155    1662    1394    1116    \"Arkadiusz Żynel\"                 \"Poland\"\n",
       "\"2018ZYNE01\"  \"333\"    8        \"CubersEve2018\"          2018-12-15  \"2\"          1490    1272    -1      1327    1165    \"Arkadiusz Żynel\"                 \"Poland\"\n",
       "\"2018ZYNE01\"  \"444\"    8        \"CubersEve2018\"          2018-12-15  \"d\"          8688    8447    0       0       0       \"Arkadiusz Żynel\"                 \"Poland\"\n",
       "\"2018ZYNE01\"  \"pyram\"  8        \"CubersEve2018\"          2018-12-15  \"1\"          2583    2898    1920    2222    2472    \"Arkadiusz Żynel\"                 \"Poland\"\n",
       "\"2018ZYRY01\"  \"333\"    225      \"SPBIsland2018\"          2018-05-12  \"1\"          3458    4001    2816    4586    3557    \"Demid Zyryanov (Демид Зырянов)\"  \"Russia\"\n",
       "\"2018ZYRY01\"  \"333fm\"  225      \"SPBIsland2018\"          2018-05-12  \"f\"          -1      -1      -1      0       0       \"Demid Zyryanov (Демид Зырянов)\"  \"Russia\"\n",
       "\"2018ZYRY01\"  \"clock\"  225      \"SPBIsland2018\"          2018-05-12  \"1\"          5348    5327    5845    3365    3592    \"Demid Zyryanov (Демид Зырянов)\"  \"Russia\""
      ]
     },
     "execution_count": 28,
     "metadata": {},
     "output_type": "execute_result"
    }
   ],
   "source": [
    "genresults(\"068_20181223T152246Z\")"
   ]
  },
  {
   "cell_type": "code",
   "execution_count": 29,
   "metadata": {},
   "outputs": [],
   "source": [
    "genresults1000(\"068_20181223T152246Z\")"
   ]
  },
  {
   "cell_type": "code",
   "execution_count": 30,
   "metadata": {},
   "outputs": [],
   "source": [
    "genresults300(\"068_20181223T152246Z\")"
   ]
  },
  {
   "cell_type": "code",
   "execution_count": 27,
   "metadata": {
    "collapsed": true
   },
   "outputs": [
    {
     "data": {
      "text/plain": [
       "Table with 1965270 rows, 5 columns:\n",
       "\u001b[1mpersonId      \u001b[22m\u001b[1meventId  \u001b[22m\u001b[1melapsed  \u001b[22mdate        average\n",
       "───────────────────────────────────────────────────\n",
       "\"1982BORS01\"  \"333\"    13350    1982-06-05  0\n",
       "\"1982BRIN01\"  \"333\"    13350    1982-06-05  0\n",
       "\"1982CHIL01\"  \"333\"    13350    1982-06-05  0\n",
       "\"1982FRID01\"  \"333\"    4285     2007-03-31  0\n",
       "\"1982FRID01\"  \"333\"    4285     2007-03-31  0\n",
       "\"1982FRID01\"  \"333\"    5090     2005-01-15  0\n",
       "\"1982FRID01\"  \"333\"    5090     2005-01-15  2266\n",
       "\"1982FRID01\"  \"333\"    5090     2005-01-15  2555\n",
       "\"1982FRID01\"  \"333\"    5601     2003-08-23  0\n",
       "\"1982FRID01\"  \"333\"    5601     2003-08-23  0\n",
       "\"1982FRID01\"  \"333\"    5601     2003-08-23  2048\n",
       "\"1982FRID01\"  \"333\"    13350    1982-06-05  0\n",
       "⋮\n",
       "\"2018ZYMU01\"  \"333\"    162      2018-07-14  5525\n",
       "\"2018ZYMU02\"  \"333\"    162      2018-07-14  7413\n",
       "\"2018ZYMU03\"  \"333\"    162      2018-07-14  3476\n",
       "\"2018ZYNE01\"  \"222\"    8        2018-12-15  925\n",
       "\"2018ZYNE01\"  \"333\"    8        2018-12-15  1297\n",
       "\"2018ZYNE01\"  \"333\"    8        2018-12-15  1363\n",
       "\"2018ZYNE01\"  \"444\"    8        2018-12-15  0\n",
       "\"2018ZYNE01\"  \"pyram\"  8        2018-12-15  2426\n",
       "\"2018ZYRY01\"  \"333\"    225      2018-05-12  3672\n",
       "\"2018ZYRY01\"  \"333fm\"  225      2018-05-12  -1\n",
       "\"2018ZYRY01\"  \"clock\"  225      2018-05-12  4756"
      ]
     },
     "execution_count": 27,
     "metadata": {},
     "output_type": "execute_result"
    }
   ],
   "source": [
    "genAvgCSV(\"068_20181223T152246Z\") "
   ]
  },
  {
   "cell_type": "code",
   "execution_count": 31,
   "metadata": {
    "collapsed": true
   },
   "outputs": [
    {
     "data": {
      "text/plain": [
       "Table with 1965270 rows, 9 columns:\n",
       "\u001b[1mpersonId      \u001b[22m\u001b[1meventId  \u001b[22mvalue1  value2  value3  value4  value5  personName                        personCountryId\n",
       "─────────────────────────────────────────────────────────────────────────────────────────────────────────────────\n",
       "\"1982BORS01\"  \"333\"    3675    3533    3002    0       0       \"Jozsef Borsos\"                   \"Serbia\"\n",
       "\"1982BRIN01\"  \"333\"    3480    3059    3232    0       0       \"Roland Brinkmann\"                \"Germany\"\n",
       "\"1982CHIL01\"  \"333\"    3059    2595    2746    0       0       \"Julian Chilvers\"                 \"United Kingdom\"\n",
       "\"1982FRID01\"  \"333\"    2016    2252    1983    0       0       \"Jessica Fridrich\"                \"USA\"\n",
       "\"1982FRID01\"  \"333\"    1994    3438    2336    0       0       \"Jessica Fridrich\"                \"USA\"\n",
       "\"1982FRID01\"  \"333\"    2516    2069    2219    0       0       \"Jessica Fridrich\"                \"USA\"\n",
       "\"1982FRID01\"  \"333\"    2456    2287    1852    2423    2089    \"Jessica Fridrich\"                \"USA\"\n",
       "\"1982FRID01\"  \"333\"    1875    3125    2412    3133    2128    \"Jessica Fridrich\"                \"USA\"\n",
       "\"1982FRID01\"  \"333\"    2336    2325    1977    0       0       \"Jessica Fridrich\"                \"USA\"\n",
       "\"1982FRID01\"  \"333\"    2294    1807    2551    0       0       \"Jessica Fridrich\"                \"USA\"\n",
       "\"1982FRID01\"  \"333\"    2753    2222    1733    1712    2188    \"Jessica Fridrich\"                \"USA\"\n",
       "\"1982FRID01\"  \"333\"    3149    2911    3320    0       0       \"Jessica Fridrich\"                \"Czech Republic\"\n",
       "⋮\n",
       "\"2018ZYMU01\"  \"333\"    6364    5045    4668    5474    6056    \"Agata Żymuła\"                    \"Poland\"\n",
       "\"2018ZYMU02\"  \"333\"    7047    6320    7729    7643    7548    \"Celina Zymula\"                   \"Poland\"\n",
       "\"2018ZYMU03\"  \"333\"    3642    3042    3670    3386    3401    \"Tomasz Żymuła\"                   \"Poland\"\n",
       "\"2018ZYNE01\"  \"222\"    1056    805     744     1106    915     \"Arkadiusz Żynel\"                 \"Poland\"\n",
       "\"2018ZYNE01\"  \"333\"    1342    1155    1662    1394    1116    \"Arkadiusz Żynel\"                 \"Poland\"\n",
       "\"2018ZYNE01\"  \"333\"    1490    1272    -1      1327    1165    \"Arkadiusz Żynel\"                 \"Poland\"\n",
       "\"2018ZYNE01\"  \"444\"    8688    8447    0       0       0       \"Arkadiusz Żynel\"                 \"Poland\"\n",
       "\"2018ZYNE01\"  \"pyram\"  2583    2898    1920    2222    2472    \"Arkadiusz Żynel\"                 \"Poland\"\n",
       "\"2018ZYRY01\"  \"333\"    3458    4001    2816    4586    3557    \"Demid Zyryanov (Демид Зырянов)\"  \"Russia\"\n",
       "\"2018ZYRY01\"  \"333fm\"  -1      -1      -1      0       0       \"Demid Zyryanov (Демид Зырянов)\"  \"Russia\"\n",
       "\"2018ZYRY01\"  \"clock\"  5348    5327    5845    3365    3592    \"Demid Zyryanov (Демид Зырянов)\"  \"Russia\""
      ]
     },
     "execution_count": 31,
     "metadata": {},
     "output_type": "execute_result"
    }
   ],
   "source": [
    "genresultsCompressed(\"068_20181223T152246Z\")"
   ]
  },
  {
   "cell_type": "code",
   "execution_count": 32,
   "metadata": {},
   "outputs": [],
   "source": [
    "tabs = gentabs(\"068_20181223T152246Z\");"
   ]
  },
  {
   "cell_type": "code",
   "execution_count": 33,
   "metadata": {},
   "outputs": [],
   "source": [
    "results = tabs[1]\n",
    "ranks_avg = tabs[2]\n",
    "ranks_avg_333 = tabs[3]\n",
    "ranks_avg_444 = tabs[4]\n",
    "ranks_avg_555 = tabs[5]\n",
    "persons = tabs[6]\n",
    "ranks_avg_minx = tabs[7];"
   ]
  },
  {
   "cell_type": "code",
   "execution_count": 36,
   "metadata": {},
   "outputs": [
    {
     "name": "stdout",
     "output_type": "stream",
     "text": [
      "Rank Name                           \t  Rating     +/-  Best Citizen of      Solves  %DNF Date Achieved\n",
      "   1 Max Park                       \t   6.359  -0.328  4.40 USA                345  0.00 2018-12-22\n",
      "   2 Feliks Zemdegs                 \t   6.824  -0.103  4.22 Australia          325  0.62 2018-12-15\n",
      "   3 Seung Hyuk Nahm (남승혁)       \t   6.980  -0.143  4.96 Korea              100  1.00 2018-12-16\n",
      "   4 Philipp Weyer                  \t   7.020  -0.099  4.81 Germany            330  0.91 2018-12-15\n",
      "   5 Hyeon Kyo Kyoung               \t   7.272  -0.772  6.35 Korea               15  0.00 2018-01-26\n",
      "   6 Bill Wang                      \t   7.473  +0.086  4.76 Canada             110  0.91 2018-12-01\n",
      "   7 Patrick Ponce                  \t   7.492  +0.025  5.04 USA                275  1.09 2018-12-14\n",
      "   8 Sebastian Weyer                \t   7.582  +0.071  4.83 Germany            295  0.68 2018-12-08\n",
      "   9 Kai-Wen Wang (王楷文)          \t   7.600  -0.620  5.60 Taiwan              95  3.16 2018-12-15\n",
      "  10 Leo Borromeo                   \t   7.635  -0.228  5.12 Philippines        115  0.00 2018-11-30\n",
      "  11 Zibo Xu (徐子博)               \t   7.669  -0.197  4.72 China              145  1.38 2018-12-09\n",
      "  12 Mats Valk                      \t   7.741  +0.078  5.19 Netherlands        300  1.00 2018-12-15\n",
      "  13 Christopher Yen                \t   7.816  -0.141  5.13 USA                170  1.76 2018-10-21\n",
      "  14 Antonie Paterakis              \t   7.909  -0.362  5.58 Greece             175  0.00 2018-12-15\n",
      "  15 Kian Mansour                   \t   7.915  -0.041  5.93 Canada              90  1.11 2018-08-24\n",
      "  16 Phillip Lewicki                \t   7.921  -0.105  6.04 USA                265  0.38 2018-12-15\n",
      "  17 Kevin Gerhardt                 \t   7.972  +0.108  5.72 Germany            150  0.00 2018-11-17\n",
      "  18 Alexandre Carlier              \t   7.978  +0.058  5.19 France             190  2.11 2018-12-08\n",
      "  19 Jayden McNeill                 \t   8.001  -0.250  4.97 Australia          220  0.00 2018-12-08\n",
      "  20 Danny SungIn Park              \t   8.002  +0.040  5.16 Korea              225  1.33 2018-12-22\n",
      "  21 Drew Brads                     \t   8.016  -0.130  5.67 USA                 90  1.11 2018-10-27\n",
      "  22 Martin Vædele Egdal            \t   8.023  -0.117  5.06 Denmark            225  0.00 2018-12-01\n",
      "  23 Rami Sbahi                     \t   8.025  -0.070  6.27 USA                 85  3.53 2018-11-10\n",
      "  24 Tommy Kiprillis                \t   8.073  -0.148  5.34 Australia          125  0.80 2018-12-08\n",
      "  25 Ciarán Beahan                  \t   8.103  -0.020  5.69 Ireland            130  0.00 2018-11-24\n",
      "  26 Dylan Miller                   \t   8.116  -0.079  5.91 USA                285  0.70 2018-11-17\n",
      "  27 Matty Hiroto Inaba             \t   8.117  +0.146  5.93 USA                 70  4.29 2018-12-22\n",
      "  28 Cornelius Dieckmann            \t   8.140  +0.223  4.77 Germany            195  1.54 2018-12-15\n",
      "  29 Michał Rzewuski                \t   8.231  -0.020  5.82 Poland             310  1.61 2018-12-08\n",
      "  30 Yi-Fan Wu (吳亦凡)             \t   8.246  -0.114  5.64 Taiwan             190  0.53 2018-12-01\n",
      "  31 Aryan Chhabra                  \t   8.253  -0.334  5.86 India              170  1.18 2018-12-22\n",
      "  32 Richard Delacoste              \t   8.278  -0.067  6.18 Switzerland        215  1.40 2018-12-01\n",
      "  33 Dario Roa Sánchez              \t   8.325  +0.164  6.27 Spain               50  0.00 2018-11-24\n",
      "  34 Lukas Shelley                  \t   8.331  -0.054  5.89 Denmark            215  0.93 2018-11-24\n",
      "  35 Michał Pleskowicz              \t   8.336  +0.038  5.72 Poland             255  0.39 2018-12-08\n",
      "  36 Luke Tycksen                   \t   8.363  +0.023  5.72 USA                185  0.54 2018-12-08\n",
      "  37 Jiayu Wang (王佳宇)            \t   8.375  -0.019  5.83 China              485  3.09 2018-12-09\n",
      "  38 Nicolás Sánchez                \t   8.376  +0.002  4.99 USA                165  0.61 2018-12-14\n",
      "  39 Mulun Yin (阴目仑)             \t   8.387  +0.047  5.71 China              250  2.00 2018-11-18\n",
      "  40 Bautista Bonazzola             \t   8.429  -0.343  5.77 Argentina          150  2.00 2018-12-08\n",
      "  41 Natthaphat Mahtani (ณัฐภ...     \t   8.435  -0.021  6.10 Thailand            50  0.00 2018-09-15\n",
      "  42 Brian Johnson                  \t   8.444  -0.329  6.04 USA                125  0.80 2018-12-08\n",
      "  43 Firstian Fushada (符逢城)      \t   8.455  -0.215  6.36 Indonesia          145  0.69 2018-12-15\n",
      "  44 Dmitry Dobrjakov               \t   8.482  +0.100  6.41 Russia             110  2.73 2018-11-23\n",
      "  45 Alexander Lau                  \t   8.508  -0.006  6.45 United Kingdom      35  0.00 2018-10-26\n",
      "  46 Staš Zupanc                    \t   8.508  -0.073  6.47 Slovenia            30  0.00 2018-07-19\n",
      "  47 Richard Jay S. Apagar          \t   8.519  -0.149  5.71 Philippines         45  2.22 2018-10-21\n",
      "  48 Daniel Rose-Levine             \t   8.536  +0.088  5.38 USA                280  0.71 2018-12-08\n",
      "  49 Ujjawal Pabreja                \t   8.542  -0.384  5.57 India              180  1.67 2018-12-22\n",
      "  50 SeungBeom Cho (조승범)         \t   8.546  +0.056  5.48 Korea               55  0.00 2018-12-01\n",
      "  51 Keaton Ellis                   \t   8.565  -0.097  5.73 USA                190  0.53 2018-11-03\n",
      "  52 Daniel Karnaukh                \t   8.583  +0.143  5.85 USA                260  1.15 2018-12-08\n",
      "  53 Max Siauw                      \t   8.587  -0.106  6.11 USA                260  0.77 2018-12-08\n",
      "  54 Andy Denney                    \t   8.592  -0.002  6.27 USA                225  0.44 2018-12-01\n",
      "  55 Daniel Wannamaker              \t   8.594  +0.240  6.32 USA                 50  0.00 2018-04-13\n",
      "  56 Yusheng Du (杜宇生)            \t   8.625  +0.098  3.47 China              290  4.48 2018-12-15\n",
      "  57 Luke Garrett                   \t   8.645  -0.033  5.87 USA                300  2.00 2018-12-08\n",
      "  58 Antoine Cantin                 \t   8.655  +0.097  5.10 Canada             260  1.92 2018-12-15\n",
      "  59 Leon Schmidtchen               \t   8.660  -0.040  6.43 Germany            210  0.00 2018-11-17\n",
      "  60 Łukasz Burliga                 \t   8.671  -0.153  5.48 Poland             260  1.15 2018-12-08\n",
      "  61 Morten Arborg                  \t   8.682  -0.287  7.49 Norway              20  0.00 2018-04-06\n",
      "  62 Amos Nordman                   \t   8.688  -0.001  6.52 Finland            140  0.71 2018-12-15\n",
      "  63 Martin Fronescu                \t   8.691  -0.342  6.63 Romania            125  0.00 2018-11-30\n",
      "  64 Will Newhoff                   \t   8.691  -0.198  5.51 USA                120  0.83 2018-11-17\n",
      "  65 Juliette Sébastien             \t   8.732  +0.035  5.81 France             265  0.75 2018-12-15\n",
      "  66 Kaijun Lin (林恺俊)            \t   8.768  -0.069  6.53 China              225  0.44 2018-11-24\n",
      "  67 Carlos Méndez García-Barroso   \t   8.769  -0.083  5.81 Spain              155  0.65 2018-11-10\n",
      "  68 Mika Smulders                  \t   8.778  +0.118  5.63 Netherlands        225  0.44 2018-12-15\n",
      "  69 Kevin Costello III             \t   8.780  -0.059  7.16 USA                 25  0.00 2018-10-06\n",
      "  70 Haluk Ulkusal                  \t   8.812  -0.195  6.37 Romania             80  8.75 2018-11-30\n",
      "  71 Kennan LeJeune                 \t   8.813  +0.079  5.78 USA                105  3.81 2018-10-20\n",
      "  72 Tymon Kolasiński               \t   8.843  +0.020  5.76 Poland             345  2.61 2018-12-08\n",
      "  73 Matěj Grohmann                 \t   8.861  -0.041  5.33 Czech Republic      85  0.00 2018-10-20\n",
      "  74 Weihao Kong (孔维浩)           \t   8.862  -0.383  5.76 China              130  2.31 2018-11-24\n",
      "  75 Blake Thompson                 \t   8.871  -0.195  5.73 USA                325  1.23 2018-11-10\n",
      "  76 Jay Benedict Alfaras           \t   8.890  -0.197  5.12 Philippines        130  0.00 2018-11-30\n",
      "  77 Linus Laurén                   \t   8.900  +0.149  6.32 Finland            115  0.87 2018-12-15\n",
      "  78 Rowe Hessler                   \t   8.914  +0.249  6.61 USA                135  2.22 2018-11-17\n",
      "  79 Jules Desjardin                \t   8.919  +0.169  6.16 France             310  0.65 2018-12-01\n",
      "  80 Tee Kai Yang                   \t   8.926  -0.296  6.54 Malaysia           110  0.00 2018-11-23\n",
      "  81 Arifumi Fushimi (伏見有史)     \t   8.961  +0.672  5.71 Japan              205  0.49 2018-12-22\n",
      "  82 Paul Mahvi                     \t   8.991  -0.051  6.21 USA                270  1.11 2018-12-14\n",
      "  83 Daniel Wallin                  \t   9.011  +0.009  6.25 Sweden             325  1.54 2018-11-30\n",
      "  84 Elian Beguec                   \t   9.016  -0.127  5.12 France             125  0.00 2018-10-06\n",
      "  85 Vincent Wong                   \t   9.027  +0.260  7.08 Australia           45  0.00 2018-11-11\n",
      "  86 AJ Kamal                       \t   9.039  +0.236  5.63 USA                270  2.59 2018-12-08\n",
      "  87 Jabari Nuruddin                \t   9.049  -1.001  6.14 USA                 15  6.67 2018-02-17\n",
      "  88 Tanzer Balimtas                \t   9.055  +0.146  4.64 USA                225  0.00 2018-11-03\n",
      "  89 Caio Hideaki Sato              \t   9.095  -0.144  6.84 Brazil             205  0.49 2018-12-15\n",
      "  90 Amod Mathur                    \t   9.142  -0.229  6.52 USA                160  3.13 2018-11-03\n",
      "  91 Maksym Yeli (Максим Єлі)       \t   9.190  +0.018  6.42 Ukraine            170  2.35 2018-11-09\n",
      "  92 Jonathan Esparaz               \t   9.190  +0.545  6.52 Canada             110  0.00 2018-12-01\n",
      "  93 Jonathan Hamstad               \t   9.219  +0.148  6.09 Norway              95  0.00 2018-12-08\n",
      "  94 Dana Yi                        \t   9.378  +0.194  5.82 USA                325  0.92 2018-12-08\n",
      "  95 Reinier Schippers              \t   9.389  +0.306  5.92 Netherlands        135  0.00 2018-12-15\n",
      "  96 Lev Holub (Лев Голуб)          \t   9.439  +0.030  6.33 Ukraine            200  1.00 2018-11-09\n",
      "  97 Haowei Fan (樊浩玮)            \t   9.451  +0.049  6.95 China               25  0.00 2018-04-06\n",
      "  98 Ping-Yueh Huang (黃品越)       \t   9.553  -0.061  6.60 Taiwan             150  0.67 2018-10-07\n"
     ]
    },
    {
     "ename": "LoadError",
     "evalue": "\u001b[91mBoundsError: attempt to access (600.0, 100, 0, \"USA\", \"Collin Burns\", 600.0, 0)\n  at index [8]\u001b[39m",
     "output_type": "error",
     "traceback": [
      "\u001b[91mBoundsError: attempt to access (600.0, 100, 0, \"USA\", \"Collin Burns\", 600.0, 0)\n  at index [8]\u001b[39m",
      "",
      "Stacktrace:",
      " [1] \u001b[1mgetindex\u001b[22m\u001b[22m\u001b[1m(\u001b[22m\u001b[22m::Tuple{Float64,Int64,Int64,String,String,Float64,Int64}, ::Int64\u001b[1m)\u001b[22m\u001b[22m at \u001b[1m./tuple.jl:21\u001b[22m\u001b[22m",
      " [2] \u001b[1mprintrt\u001b[22m\u001b[22m\u001b[1m(\u001b[22m\u001b[22m::IndexedTables.NextTable{IndexedTables.Columns{NamedTuples._NT_rating_change{Any,Any},NamedTuples._NT_rating_change{Array{Any,1},Array{Any,1}}}}\u001b[1m)\u001b[22m\u001b[22m at \u001b[1m./In[11]:9\u001b[22m\u001b[22m",
      " [3] \u001b[1minclude_string\u001b[22m\u001b[22m\u001b[1m(\u001b[22m\u001b[22m::String, ::String\u001b[1m)\u001b[22m\u001b[22m at \u001b[1m./loading.jl:522\u001b[22m\u001b[22m"
     ]
    }
   ],
   "source": [
    "printrt(genrt(ranks_avg_333[1:100], \"333\", 0:365))"
   ]
  },
  {
   "cell_type": "code",
   "execution_count": 61,
   "metadata": {},
   "outputs": [],
   "source": [
    "FileIO.save(\"333top100_140_20180627.csv\", gentable(genrt(ranks_avg_333[1:1000], \"333\", 0:365)[1:100]))"
   ]
  },
  {
   "cell_type": "code",
   "execution_count": 21,
   "metadata": {
    "collapsed": true
   },
   "outputs": [
    {
     "name": "stdout",
     "output_type": "stream",
     "text": [
      "Rank Name                           \t  Rating     +/-  Best Citizen of      Solves  %DNF Date Achieved\n",
      "   1 Yu Da-Hyun (유다현)            \t  34.296  -2.218 30.12 Korea               15  0.00 2018-02-24\n",
      "   2 Juan Pablo Huanqui             \t  36.684  -0.840 31.08 Peru                70  4.29 2018-04-21\n",
      "   3 Nicolas Naing                  \t  37.051  -2.351 33.52 USA                 15  0.00 2018-06-16\n",
      "   4 Amos Nordman                   \t  38.459  -1.286 32.53 Finland             55  0.00 2018-06-08\n",
      "   5 Andy Denney                    \t  42.965  -0.691 37.10 USA                 60  1.67 2018-05-18\n",
      "   6 Junze Zhao (赵俊泽)            \t  43.836  -1.773 37.35 China               75  4.00 2018-06-17\n",
      "   7 Simon Westlund                 \t  43.965  -1.865 37.40 Sweden              55  0.00 2018-05-11\n",
      "   8 Feliks Zemdegs                 \t  44.001  -0.972 34.60 Australia           95  0.00 2018-06-02\n",
      "   9 Yunliang Zhang (张赟量)        \t  44.514  -3.346 39.66 China               50  2.00 2018-06-17\n",
      "  10 AJ Kamal                       \t  45.374  -1.814 36.46 USA                 50  0.00 2018-06-16\n",
      "  11 Oscar Roth Andersen            \t  45.404  -1.239 38.00 Denmark             75  0.00 2018-05-11\n",
      "  12 Alexei Sinyavin                \t  45.553  -2.508 37.86 USA                 40  0.00 2018-06-16\n",
      "  13 Ethan Davis                    \t  46.297  -0.781 39.18 USA                 55  0.00 2018-05-26\n",
      "  14 Kevin Gerhardt                 \t  46.405  -0.863 37.86 Germany             60  0.00 2018-05-12\n",
      "  15 Patrick Ponce                  \t  46.615  -6.547 40.72 USA                 40  2.50 2018-06-16\n",
      "  16 Théo Paris                     \t  47.004  -0.890 39.98 France              30  0.00 2018-04-28\n",
      "  17 Clyde Dencer Tutor             \t  47.255  -3.549 43.97 Philippines         15  0.00 2018-04-21\n",
      "  18 Vito Kosasih                   \t  47.398  -1.096 44.34 Indonesia           25  0.00 2018-06-02\n",
      "  19 Lucas Wesche                   \t  47.465  +0.047 41.08 Germany             40  0.00 2018-05-12\n",
      "  20 Isaac Lai Yin Chung            \t  47.514  -8.913 40.71 Singapore            5  0.00 2018-02-24\n",
      "  21 Jacky Koo Chun Ki (顧俊祺)     \t  47.624  -2.440 40.66 Hong Kong           25  0.00 2018-04-30\n",
      "  22 Ray Bai                        \t  47.650  -5.910 40.93 USA                 30  0.00 2018-06-16\n",
      "  23 Felipe Rueda Hernández         \t  48.173  +0.571 41.52 Colombia            10  0.00 2017-06-28\n",
      "  24 Nikhil Soares                  \t  48.275  -2.155 40.92 India               55  0.00 2018-05-25\n",
      "  25 Cristian Huamaní               \t  48.353  -3.794 38.36 Peru                35  5.71 2018-04-21\n",
      "  26 Sheng Cao (曹晟)               \t  48.587  -1.270 42.36 China               60  1.67 2018-06-18\n",
      "  27 Ernest Seroczyński             \t  48.695  -1.472 37.22 Poland              80  1.25 2018-03-03\n",
      "  28 Alan Goasdoue                  \t  49.099  +0.271 40.38 France              25  0.00 2018-03-31\n",
      "  29 Rami Sbahi                     \t  49.318  +0.086 43.55 USA                 35  0.00 2018-04-29\n",
      "  30 Renxin Tang (汤任欣)           \t  49.369  -0.882 42.49 China              130  2.31 2018-06-17\n",
      "  31 Jan Zych                       \t  49.563  -8.283 41.60 Poland              95  2.11 2018-03-03\n",
      "  32 Henri Gerber                   \t  49.634  -0.164 42.65 Germany             35  2.86 2017-12-02\n",
      "  33 Daniel Yang                    \t  49.796  -6.514 44.96 USA                 10  0.00 2017-10-14\n",
      "  34 Emric Månsson                  \t  49.986  -2.786 41.14 Sweden              45  0.00 2018-05-11\n",
      "  35 Victor Wijsman                 \t  50.236  -0.275 41.84 France              60  3.33 2018-05-19\n",
      "  36 Leopoldo Andrés Ibarra Fuentes \t  50.284  -2.767 41.61 Chile               15  0.00 2018-04-14\n",
      "  37 Jared Stinson                  \t  50.640  -2.243 40.30 USA                 85  0.00 2018-04-13\n",
      "  38 Damián Campos                  \t  50.770  +0.077 43.50 Argentina           35  0.00 2018-05-26\n",
      "  39 Joaquín Infante Medrano        \t  50.792  -1.174 40.33 Mexico              40  0.00 2018-03-30\n",
      "  40 Matic Omulec                   \t  50.841  -0.151 42.37 Slovenia            50  0.00 2018-04-28\n",
      "  41 Oleksii Lukin (Олексій Лукін)  \t  51.247  -0.127 42.61 Ukraine             20  0.00 2018-06-01\n",
      "  42 Sam Myung                      \t  51.496  -0.730 43.35 USA                 20  5.00 2018-03-18\n",
      "  43 Arifumi Fushimi (伏見有史)     \t  51.540  +0.780 39.48 Japan               40  0.00 2018-02-03\n",
      "  44 Leow Yi Jun                    \t  51.670  -1.026 44.23 Malaysia            55  3.64 2018-06-14\n",
      "  45 Shun-Hsin Chang (張舜欣)       \t  51.767  -1.000 44.24 Taiwan              50  0.00 2018-04-14\n",
      "  46 Chenxiao He (何辰骁)           \t  51.808  +0.336 43.26 China               80  0.00 2018-06-17\n",
      "  47 Tiannan Wang (王天南)          \t  51.898  -4.334 44.68 China               40  0.00 2018-06-17\n",
      "  48 Jonathan Cookmeyer             \t  51.915  -6.405 40.75 USA                 40  2.50 2018-06-15\n",
      "  49 Martin Vædele Egdal            \t  51.952  -1.971 40.64 Denmark             75  0.00 2018-05-11\n",
      "  50 José Leonardo Chaparro Prieto  \t  52.125  -0.552 44.16 Colombia           125  3.20 2018-06-16\n",
      "  51 Minjie Ding (丁敏杰)           \t  52.166  +0.000 45.70 China               10  0.00 2017-08-05\n",
      "  52 Nick Rech                      \t  52.239  +0.543 45.65 USA                 30  0.00 2018-06-16\n",
      "  53 Darren Siew Ee Yaang           \t  52.345  -4.298 41.02 Malaysia            75  6.67 2018-06-14\n",
      "  54 Gabriel Sargeiro Gomes de Mell... \t  52.380  -0.408 47.40 Brazil              30  0.00 2018-05-05\n",
      "  55 Louis Cormier                  \t  52.380  +0.000 48.38 Canada               5  0.00 2018-06-02\n",
      "  56 Jakob Gunnarsson               \t  52.610  -1.382 43.73 Sweden              35  0.00 2018-05-11\n",
      "  57 Seung Hyuk Nahm (남승혁)       \t  52.642  +0.872 45.89 Korea               10  0.00 2018-02-24\n",
      "  58 Rodrigo Cabezas                \t  52.680  -1.614 47.24 Chile               15  0.00 2018-04-14\n",
      "  59 Andrey Che                     \t  52.924  -1.381 46.80 Russia              20  0.00 2018-05-18\n",
      "  60 Mattia Furlan                  \t  52.925  -1.356 41.83 Italy               15  0.00 2017-12-16\n",
      "  61 Luke Tycksen                   \t  52.932  -0.437 45.24 USA                 40  0.00 2018-05-05\n",
      "  62 Vladimir Korovin               \t  52.974  -3.498 48.30 Russia              10 10.00 2018-05-18\n",
      "  63 Lukas Pohořelický              \t  53.294  -3.776 48.72 Czech Republic       5  0.00 2017-08-26\n",
      "  64 Yuchen Huang (黄禹尘)          \t  53.330  +0.663 44.21 China               25  0.00 2017-10-15\n",
      "  65 Elias Fischer                  \t  53.340  -4.378 47.81 Germany             10  0.00 2017-09-01\n",
      "  66 Alexis Rodrigo Cazu Mendoza    \t  53.499  -0.305 44.07 Mexico              65  0.00 2018-03-30\n",
      "  67 Emily Wang                     \t  53.524  -2.626 49.08 Canada              10  0.00 2018-02-17\n",
      "  68 Dana Yi                        \t  53.653  -0.709 44.85 USA                 75  1.33 2018-06-16\n",
      "  69 Kostiantyn Stadnyk (Костя...   \t  53.674  -5.799 46.11 Ukraine             20  0.00 2018-06-01\n",
      "  70 Lester Cabrera                 \t  53.691 -12.258 49.29 Guatemala           10  0.00 2017-07-01\n",
      "  71 Tianlang Han (韩天朗)          \t  53.988  +0.125 43.33 China              105  0.00 2018-06-17\n",
      "  72 Zhongyu Zheng (郑仲宇)         \t  54.089 -45.383 41.25 China               15  0.00 2018-04-30\n",
      "  73 Mohammad Ibnu Sabilillah       \t  54.095  -4.253 42.74 Indonesia           30  0.00 2018-06-02\n",
      "  74 Karina Grandjean Beck          \t  54.197  -1.161 46.14 Denmark             30  0.00 2018-03-17\n",
      "  75 Heewon Seo                     \t  54.367 -10.941 46.76 USA                 10  0.00 2018-06-16\n",
      "  76 Masayuki Hirai (平井雅之)      \t  54.399  -1.463 47.59 Japan               35  0.00 2018-03-31\n",
      "  77 Riley Woo                      \t  54.465  -1.624 47.35 USA                 60  0.00 2018-06-15\n",
      "  78 Phillip Lewicki                \t  54.625  -1.559 40.76 USA                 60  0.00 2018-04-29\n",
      "  79 Daniel Grabski                 \t  54.643  -3.197 45.89 Austria             10  0.00 2017-12-16\n",
      "  80 Adrian Walkowiak               \t  54.660  -1.551 44.36 Poland              50  0.00 2018-03-03\n",
      "  81 Manuel Bühler                  \t  54.734  -0.875 48.92 Switzerland         30  0.00 2018-05-12\n",
      "  82 James Macdiarmid               \t  54.916  -7.494 44.39 New Zealand        105  0.95 2018-05-27\n",
      "  83 Ishaan Lal                     \t  55.096  -1.403 43.42 USA                 50  0.00 2018-06-16\n",
      "  84 Paris Dorn                     \t  55.167  -3.100 46.04 Canada              35  0.00 2018-05-26\n",
      "  85 Eli Parker                     \t  55.176  -3.484 49.37 USA                 25  0.00 2018-04-21\n",
      "  86 Robert Yau                     \t  55.429  -1.359 46.01 United Kingdom      80  0.00 2018-06-02\n",
      "  87 Ainesh Sevellaraja             \t  55.635  -3.699 49.79 Malaysia            45  0.00 2018-06-14\n",
      "  88 Juliette Sébastien             \t  55.671  -1.110 44.06 France              85  0.00 2018-04-28\n",
      "  89 Joshua Santiago Monterrosa Her... \t  55.785 -10.483 48.52 Mexico              20  5.00 2018-03-30\n",
      "  90 Victor Rafael Ortiz Villaseñor \t  56.078  +0.315 47.83 Mexico              30  0.00 2017-08-05\n",
      "  91 Rusty Louis Domingo            \t  56.166  -3.001 50.53 Philippines         10  0.00 2017-09-15\n",
      "  92 Isaac Langer                   \t  56.232  +0.707 50.17 USA                 15  0.00 2018-01-27\n",
      "  93 Ihor Tarasov (Ігор Тарасов)    \t  56.371  -3.540 47.50 Ukraine             50  0.00 2018-06-01\n",
      "  94 Palaash Goel                   \t  56.411  -6.062 49.27 India               25  0.00 2018-05-05\n",
      "  95 Daniel Wannamaker              \t  56.472  -0.521 45.60 USA                 35  0.00 2018-04-13\n",
      "  96 Luigi Soriano                  \t  56.594  -1.184 45.35 USA                 80  1.25 2018-06-16\n",
      "  97 Weijie Fang (方伟杰)           \t  56.744  -0.812 46.38 China               15  0.00 2018-05-20\n",
      "  98 Bill Wang                      \t  56.763  +1.071 49.79 Canada              15  0.00 2018-06-02\n",
      "  99 Renzo Rodriguez Moreno         \t  56.819  +0.106 48.90 Colombia            35  2.86 2017-11-11\n",
      " 100 Jiawei Wu (伍嘉维)             \t  56.847  -0.356 48.35 China               45  2.22 2018-05-20\n",
      " 101 Dmitry Aniskin                 \t  57.033  -0.028 46.76 Russia              25  4.00 2018-02-09\n"
     ]
    },
    {
     "name": "stdout",
     "output_type": "stream",
     "text": [
      " 102 Rodrigo Paz Vaca               \t  57.234  -1.535 48.23 Bolivia             50  0.00 2018-05-12\n",
      " 103 Zhichun Li (李志纯)            \t  57.362  -0.567 47.37 China               25  0.00 2018-04-30\n",
      " 104 Mattias Uvesten                \t  57.496  -3.168 47.39 Sweden              55  0.00 2018-05-11\n",
      " 105 Brian Johnson                  \t  57.713  -0.562 49.77 USA                 35  2.86 2018-06-03\n",
      " 106 Jintao Jin (金锦涛)            \t  57.750 -13.436 51.02 China               30  6.67 2018-06-17\n",
      " 107 Chris Wall                     \t  57.929  -1.819 53.07 United Kingdom      10  0.00 2018-01-27\n",
      " 108 Daniel Rose-Levine             \t  58.074  -0.114 46.66 USA                105  0.00 2018-06-16\n",
      " 109 Richard Jay S. Apagar          \t  58.261  +0.834 50.45 Philippines         15  0.00 2018-02-24\n",
      " 110 Richie Lim                     \t  58.319  +0.000 50.77 Australia           10  0.00 2017-09-23\n",
      " 111 Oliver Fritz                   \t  58.458  -2.269 50.53 Germany             35  0.00 2018-04-28\n",
      " 112 Mats Valk                      \t  58.517  +1.160 43.73 Netherlands         55  1.82 2018-06-08\n",
      " 113 Leo Högh                       \t  58.518  -3.128 49.04 Sweden              40  0.00 2018-05-11\n",
      " 114 Simon Blanchard                \t  58.535  -1.050 52.39 France              20  0.00 2018-03-31\n",
      " 115 Artur Kristof                  \t  58.742  -0.626 51.14 Poland              25  0.00 2017-11-17\n",
      " 116 Ilona Ansel                    \t  58.840  -4.792 48.10 France              20  0.00 2018-03-31\n",
      " 117 Ivan Lew Yi Wen                \t  58.895  -2.508 49.05 Malaysia            75  1.33 2018-05-27\n",
      " 118 Shang Liu (刘尚)               \t  58.979  -2.554 52.01 China               30  3.33 2018-06-17\n",
      " 119 Jayden McNeill                 \t  59.040  -4.088 49.22 Australia           80  1.25 2018-06-02\n",
      " 120 Luis Sinhue Medina Salas       \t  59.044  -3.096 46.34 Mexico              50  0.00 2018-03-30\n",
      " 121 Raúl Ponciano Nuñez            \t  59.109  +0.000 49.94 Peru                10  0.00 2018-05-19\n",
      " 122 Hill Pong Yong Feng            \t  59.184 -12.182 51.95 Malaysia            20 15.00 2018-06-14\n",
      " 123 John Brechon                   \t  59.314  -1.583 51.58 USA                 40  0.00 2018-05-26\n",
      " 124 Marco Belotti                  \t  59.329  +1.968 52.12 Italy               20  0.00 2018-03-25\n",
      " 125 Ping-Yueh Huang (黃品越)       \t  59.343  -1.901 48.03 Taiwan              60  1.67 2018-04-30\n",
      " 126 Eli Jay                        \t  59.361 -12.573 45.71 United Kingdom      55  1.82 2018-06-02\n",
      " 127 Manuel Prieto de Antón         \t  59.463  -0.474 43.55 Spain               60  0.00 2018-06-16\n",
      " 128 Piero Gerardo Kaqui Aspajo     \t  59.844  -3.217 52.17 Peru                30  0.00 2018-05-19\n",
      " 129 Ethan Misteri                  \t  60.040  -4.914 46.24 USA                 25  0.00 2018-04-28\n",
      " 130 Michał Pleskowicz              \t  60.200  -4.456 50.04 Poland              70  0.00 2018-05-25\n",
      " 131 Jong-Ho Jeong (정종호)         \t  60.422  +0.680 49.41 Korea                5  0.00 2017-11-25\n",
      " 132 Jorge Augusto Siqueira Pinto   \t  60.636  -2.411 48.43 Brazil              20  0.00 2017-10-21\n",
      " 133 Matěj Grohmann                 \t  60.889  -1.133 51.32 Czech Republic      35  0.00 2018-03-17\n",
      " 134 Yulun Wu (吴宇伦)              \t  61.129  -0.644 50.50 China               75  1.33 2018-05-26\n",
      " 135 Choi Hyo-jin (최효진)          \t  61.195  -8.049 49.98 Korea               15 13.33 2018-02-24\n",
      " 136 DongSu Park (박동수)           \t  61.251  -3.678 50.45 Korea               20 10.00 2018-02-24\n",
      " 137 Luboš Bartík                   \t  61.461  +2.086 56.66 Czech Republic      10  0.00 2017-09-30\n",
      " 138 Leon Achata                    \t  61.574  -3.446 49.71 Peru                35  2.86 2018-02-25\n",
      " 139 Aolin Tang (唐奥林)            \t  61.606 -25.532 49.26 China               20  0.00 2018-04-30\n",
      " 140 Filip Miazek                   \t  62.279  +5.636 55.06 Poland              10  0.00 2017-11-17\n",
      " 141 Szymon Malinowski              \t  62.900  -4.014 42.15 Poland              80  0.00 2018-03-03\n",
      " 142 Ty Marshall                    \t  62.962 +10.556 50.06 USA                 15  0.00 2018-06-15\n",
      " 143 Muhammad Hariz Bin Azizan      \t  64.915  -3.640 50.55 Malaysia            30  0.00 2018-04-28\n",
      " 144 Fabricio Andrés Yañez Terrazas \t  64.968  -1.168 49.72 Bolivia             75  1.33 2018-05-12\n",
      " 145 Haojiang Zou (邹昊江)          \t  66.368  +9.880 50.12 China               10  0.00 2017-09-17\n"
     ]
    },
    {
     "ename": "LoadError",
     "evalue": "\u001b[91mBoundsError: attempt to access (600.0, 100, 0, \"China\", \"Yuhao Chen (陈宇浩)\", 600.0, 0)\n  at index [8]\u001b[39m",
     "output_type": "error",
     "traceback": [
      "\u001b[91mBoundsError: attempt to access (600.0, 100, 0, \"China\", \"Yuhao Chen (陈宇浩)\", 600.0, 0)\n  at index [8]\u001b[39m",
      "",
      "Stacktrace:",
      " [1] \u001b[1mgetindex\u001b[22m\u001b[22m\u001b[1m(\u001b[22m\u001b[22m::Tuple{Float64,Int64,Int64,String,String,Float64,Int64}, ::Int64\u001b[1m)\u001b[22m\u001b[22m at \u001b[1m./tuple.jl:21\u001b[22m\u001b[22m",
      " [2] \u001b[1mprintrt\u001b[22m\u001b[22m\u001b[1m(\u001b[22m\u001b[22m::IndexedTables.NextTable{IndexedTables.Columns{NamedTuples._NT_rating_change{Any,Any},NamedTuples._NT_rating_change{Array{Any,1},Array{Any,1}}}}\u001b[1m)\u001b[22m\u001b[22m at \u001b[1m./In[6]:9\u001b[22m\u001b[22m",
      " [3] \u001b[1minclude_string\u001b[22m\u001b[22m\u001b[1m(\u001b[22m\u001b[22m::String, ::String\u001b[1m)\u001b[22m\u001b[22m at \u001b[1m./loading.jl:522\u001b[22m\u001b[22m"
     ]
    }
   ],
   "source": [
    "printrt(genrt(ranks_avg_minx[1:150], \"minx\", 0:365))"
   ]
  },
  {
   "cell_type": "code",
   "execution_count": 39,
   "metadata": {},
   "outputs": [],
   "source": [
    "FileIO.save(\"LRtop100_100_138_20180625.csv\", gentable(genrt(ranks_avg_333[1:1000], \"333\", 0:365)[1:100]))"
   ]
  },
  {
   "cell_type": "code",
   "execution_count": 38,
   "metadata": {
    "collapsed": true
   },
   "outputs": [
    {
     "data": {
      "text/plain": [
       "Table with 100 rows, 9 columns:\n",
       "Rank  Name                        Rating   Change      Best  Country        Solves  pctDNF    Date\n",
       "──────────────────────────────────────────────────────────────────────────────────────────────────────────\n",
       "1     \"Max Park\"                  6.62518  0.00772643  4.78  \"USA\"          360     0.555556  \"2018-06-15\"\n",
       "2     \"Feliks Zemdegs\"            6.91503  -0.0323178  4.22  \"Australia\"    275     0.0       \"2018-06-02\"\n",
       "3     \"Seung Hyuk Nahm (남승혁)\"  7.39983  0.0264538   4.9   \"Korea\"        105     0.952381  \"2018-05-13\"\n",
       "4     \"Bill Wang\"                 7.40533  -0.0755359  4.76  \"Canada\"       175     0.571429  \"2018-04-28\"\n",
       "5     \"Hyeon Kyo Kyoung\"          7.47256  -0.550866   6.14  \"Korea\"        35      0.0       \"2018-01-26\"\n",
       "6     \"Patrick Ponce\"             7.4787   0.0045665   4.69  \"USA\"          255     0.784314  \"2018-06-16\"\n",
       "7     \"Lucas Etter\"               7.48452  -0.37316    5.74  \"USA\"          40      0.0       \"2017-07-13\"\n",
       "8     \"Philipp Weyer\"             7.53738  0.0408171   5.05  \"Germany\"      305     0.327869  \"2018-06-09\"\n",
       "9     \"Sebastian Weyer\"           7.61343  0.00230127  5.22  \"Germany\"      275     1.45455   \"2018-06-02\"\n",
       "10    \"Rami Sbahi\"                7.77595  -0.555509   6.6   \"USA\"          90      0.0       \"2018-06-17\"\n",
       "11    \"Mats Valk\"                 7.84748  0.347963    5.05  \"Netherlands\"  290     0.344828  \"2018-06-23\"\n",
       "12    \"Kevin Gerhardt\"            7.88879  -0.114192   4.94  \"Germany\"      170     0.0       \"2018-05-12\"\n",
       "⋮\n",
       "90    \"Jonathan Hamstad\"          8.99248  -0.184849   6.43  \"Norway\"       75      1.33333   \"2018-04-06\"\n",
       "91    \"Juliette Sébastien\"        8.9979   -0.263708   6.06  \"France\"       255     0.392157  \"2018-06-02\"\n",
       "92    \"Will Newhoff\"              9.00293  -0.888315   6.95  \"USA\"          105     0.952381  \"2018-06-15\"\n",
       "93    \"Pedro Roque\"               9.00416  -0.0788238  6.84  \"Brazil\"       120     0.833333  \"2018-05-05\"\n",
       "94    \"Samuel Brenner\"            9.0165   0.0119239   6.95  \"USA\"          80      0.0       \"2018-05-12\"\n",
       "95    \"Hendry Cahyadi\"            9.02118  -0.732884   7.07  \"Indonesia\"    60      0.0       \"2018-06-02\"\n",
       "96    \"Dawei Xu (徐大卫)\"         9.02715  -0.265675   7.41  \"China\"        70      0.0       \"2018-06-10\"\n",
       "97    \"Rodrigo Paz Vaca\"          9.03809  -0.224015   6.52  \"Bolivia\"      90      2.22222   \"2018-05-12\"\n",
       "98    \"Kevin Hays\"                9.04472  -0.168256   6.67  \"USA\"          275     0.363636  \"2018-06-15\"\n",
       "99    \"Rituraj Sohoni\"            9.04779  -0.128534   6.27  \"India\"        110     0.0       \"2018-05-05\"\n",
       "100   \"Kavin Tangtartharakul\"     9.06574  -0.483615   6.74  \"USA\"          60      1.66667   \"2018-05-12\""
      ]
     },
     "execution_count": 38,
     "metadata": {},
     "output_type": "execute_result"
    }
   ],
   "source": [
    "gentable(genrt(ranks_avg_333[1:1000], \"333\", 0:365)[1:100])"
   ]
  },
  {
   "cell_type": "code",
   "execution_count": null,
   "metadata": {},
   "outputs": [],
   "source": []
  }
 ],
 "metadata": {
  "kernelspec": {
   "display_name": "Julia 0.6.2",
   "language": "julia",
   "name": "julia-0.6"
  },
  "language_info": {
   "file_extension": ".jl",
   "mimetype": "application/julia",
   "name": "julia",
   "version": "0.6.2"
  }
 },
 "nbformat": 4,
 "nbformat_minor": 2
}
