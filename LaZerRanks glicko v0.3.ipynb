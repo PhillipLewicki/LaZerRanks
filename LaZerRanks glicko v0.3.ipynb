{
 "cells": [
  {
   "cell_type": "code",
   "execution_count": 1,
   "metadata": {
    "collapsed": true
   },
   "outputs": [
    {
     "name": "stderr",
     "output_type": "stream",
     "text": [
      "┌ Info: Precompiling JuliaDB [a93385a2-3734-596a-9a66-3cfbb77141e6]\n",
      "└ @ Base loading.jl:1189\n",
      "┌ Info: Precompiling IterableTables [1c8ee90f-4401-5389-894e-7a04a3dc0f4d]\n",
      "└ @ Base loading.jl:1189\n"
     ]
    }
   ],
   "source": [
    "using JuliaDB, IterableTables, Dates, Printf;"
   ]
  },
  {
   "cell_type": "code",
   "execution_count": 2,
   "metadata": {},
   "outputs": [
    {
     "data": {
      "text/plain": [
       "makeCompDict (generic function with 1 method)"
      ]
     },
     "execution_count": 2,
     "metadata": {},
     "output_type": "execute_result"
    }
   ],
   "source": [
    "function makeCompDict(wcafile)\n",
    "    compids = String[]\n",
    "    compdates = Date[]\n",
    "    lines = readlines(wcafile)\n",
    "    for i = 2:length(lines) # skip header line\n",
    "        line = lines[i]\n",
    "        data = split(line, \"\\t\")\n",
    "        push!(compids, data[1])\n",
    "        compdate = string(data[6], \"-\", data[7], \"-\", data[8])\n",
    "        push!(compdates, Date(compdate, \"y-m-d\"))\n",
    "    end\n",
    "        compDict = Dict(zip(compids, compdates))\n",
    "        sortedCompsArray = sort(collect(zip(values(compDict),keys(compDict))))\n",
    "    \n",
    "    return compDict, sortedCompsArray\n",
    "end"
   ]
  },
  {
   "cell_type": "code",
   "execution_count": 10,
   "metadata": {},
   "outputs": [
    {
     "data": {
      "text/plain": [
       "genGlickoArray (generic function with 1 method)"
      ]
     },
     "execution_count": 10,
     "metadata": {},
     "output_type": "execute_result"
    }
   ],
   "source": [
    "function genGlickoArray(comp, event, round)\n",
    "    \n",
    "    myresults = table(results[comp, event, round, :])\n",
    "    mytable = table(select(myresults, (:personId, :pos)), pkey=:pos)\n",
    "    \n",
    "    output = []\n",
    "    for i in 1:length(mytable), j in (i+1):length(mytable)\n",
    "        o = [mytable[i].personId, mytable[j].personId, 1]\n",
    "        o2 = [mytable[j].personId, mytable[i].personId, 0]\n",
    "        push!(output, o)\n",
    "        push!(output, o2)\n",
    "    end\n",
    "    \n",
    "    return output\n",
    "end"
   ]
  },
  {
   "cell_type": "code",
   "execution_count": 5,
   "metadata": {},
   "outputs": [
    {
     "data": {
      "text/plain": [
       "genAllGlickoArrays (generic function with 1 method)"
      ]
     },
     "execution_count": 5,
     "metadata": {},
     "output_type": "execute_result"
    }
   ],
   "source": [
    "function genAllGlickoArrays(event)\n",
    "    compDict, sortedCompsArray = makeCompDict(\"WCA_export_Competitions.tsv\")\n",
    "    allGlickoArrays = []\n",
    "    lengthOfComps = length(sortedCompsArray)\n",
    "    for i in 1:length(sortedCompsArray)\n",
    "        index = sortedCompsArray[i][1]\n",
    "        push!(allGlickoArrays, genGlickoArray(sortedCompsArray[i][2], event, \"0\"))\n",
    "        push!(allGlickoArrays, genGlickoArray(sortedCompsArray[i][2], event, \"1\"))\n",
    "        push!(allGlickoArrays, genGlickoArray(sortedCompsArray[i][2], event, \"2\"))\n",
    "        push!(allGlickoArrays, genGlickoArray(sortedCompsArray[i][2], event, \"3\"))\n",
    "        push!(allGlickoArrays, genGlickoArray(sortedCompsArray[i][2], event, \"b\"))\n",
    "        push!(allGlickoArrays, genGlickoArray(sortedCompsArray[i][2], event, \"c\"))\n",
    "        push!(allGlickoArrays, genGlickoArray(sortedCompsArray[i][2], event, \"d\"))\n",
    "        push!(allGlickoArrays, genGlickoArray(sortedCompsArray[i][2], event, \"e\"))\n",
    "        push!(allGlickoArrays, genGlickoArray(sortedCompsArray[i][2], event, \"f\"))\n",
    "        push!(allGlickoArrays, genGlickoArray(sortedCompsArray[i][2], event, \"g\"))\n",
    "        push!(allGlickoArrays, genGlickoArray(sortedCompsArray[i][2], event, \"h\"))\n",
    "        print(\"\\r $i / $lengthOfComps Comps  ||  $index\")\n",
    "    end\n",
    "    output = []\n",
    "    for i in 1:length(allGlickoArrays)\n",
    "        if length(allGlickoArrays[i]) != 0\n",
    "            push!(output, allGlickoArrays[i])\n",
    "        end\n",
    "    end\n",
    "    return output\n",
    "end"
   ]
  },
  {
   "cell_type": "code",
   "execution_count": 57,
   "metadata": {},
   "outputs": [
    {
     "data": {
      "text/plain": [
       "calcRating (generic function with 3 methods)"
      ]
     },
     "execution_count": 57,
     "metadata": {},
     "output_type": "execute_result"
    }
   ],
   "source": [
    "function calcRating(p1,p2,sc, localratingdict, localRDdict, ratingdict, RDdict, voldict)\n",
    "    tau = 0.5\n",
    "    g(phi) = (1 + (3*(phi^2)*2)/(2*(pi^2)))^(-1/2)\n",
    "    E(mu1, mu2, phi2) = 1/(1 + exp(-g(phi2)*(mu1 - mu2)))\n",
    "    f(x) = (exp(x)*(delta^2 - phi1^2 - v - exp(x)))/(2*(phi1^2 + v + exp(x))^2) - (x-a)/(tau^2)\n",
    "    \n",
    "    r1 = ratingdict[p1]\n",
    "    r2 = localratingdict[p2]\n",
    "    RD1 = RDdict[p1]\n",
    "    RD2 = localRDdict[p2]\n",
    "    sigma1 = voldict[p1]\n",
    "    \n",
    "    mu1 = (r1 - 1500)/173.7178\n",
    "    phi1 = RD1/173.7178\n",
    "    mu2 = (r2 - 1500)/173.7178\n",
    "    phi2 = RD2/173.7178\n",
    "    \n",
    "    v = ((g(phi2)^2)*E(mu1, mu2, phi2)*(1 - E(mu1, mu2, phi2)))^-1\n",
    "    delta = v*(g(phi2)*(sc - E(mu1, mu2, phi2)))\n",
    "    epsilon = 0.000001\n",
    "    \n",
    "    A = a = log(sigma1^2)\n",
    "    if delta^2 > phi1^2 + v\n",
    "        B = log(delta^2 - phi1^2 - v)\n",
    "    else\n",
    "        k = 1\n",
    "        while f(a - k*tau) < 0\n",
    "            k += 1\n",
    "        end\n",
    "        B = a - k*tau \n",
    "    end\n",
    "    fA = f(A)\n",
    "    fB = f(B)\n",
    "    while abs(B-A) > epsilon\n",
    "        C = A + ((A - B)*fA)/(fB - fA)\n",
    "        fC = f(C)\n",
    "        if fC*fB < 0 \n",
    "            A = B\n",
    "            fA = fB\n",
    "        else\n",
    "            fA = fA/2\n",
    "        end\n",
    "        B = C\n",
    "        fB = fC\n",
    "    end\n",
    "    \n",
    "    sigma1prime = exp(A/2)\n",
    "    phistar = sqrt(phi1^2 + sigma1prime^2)\n",
    "    phi1prime = 1/sqrt(1/(phistar^2) + 1/v)\n",
    "    mu1prime = mu1 + (phi1prime^2)*(g(phi2)*(sc - E(mu1, mu2, phi2)))\n",
    "   \n",
    "    r1prime  = 173.7178*mu1prime + 1500\n",
    "    RD1prime = 173.7178*phi1prime\n",
    "    \n",
    "    return r1prime, RD1prime, sigma1prime\n",
    "end"
   ]
  },
  {
   "cell_type": "code",
   "execution_count": 71,
   "metadata": {},
   "outputs": [
    {
     "data": {
      "text/plain": [
       "generateRatings (generic function with 2 methods)"
      ]
     },
     "execution_count": 71,
     "metadata": {},
     "output_type": "execute_result"
    }
   ],
   "source": [
    "function generateRatings(data, RD, vol)\n",
    "    playerids = []\n",
    "    for i in 1:length(wca_persons)\n",
    "        push!(playerids, wca_persons[i][1])\n",
    "    end\n",
    "\n",
    "    #reset ratings\n",
    "    ratings = []\n",
    "    RDs = []\n",
    "    vols = []\n",
    "    for i in 1:length(playerids)\n",
    "        push!(ratings, 1500.0)\n",
    "        push!(RDs, RD)\n",
    "        push!(vols, vol)\n",
    "    end\n",
    "\n",
    "    ratingdict = Dict(zip(playerids, ratings))\n",
    "    RDdict = Dict(zip(playerids, RDs))\n",
    "    voldict = Dict(zip(playerids, vols));\n",
    "    \n",
    "    for i in 1:length(data)\n",
    "        localratingdict = ratingdict\n",
    "        localRDdict = RDdict\n",
    "        ratingdict, RDdict, voldict = calcRatings(data[i], localratingdict, localRDdict, ratingdict, RDdict, voldict)\n",
    "        print(\"\\r$i / \", length(data))\n",
    "    end\n",
    "    \n",
    "    RatingList = sort(collect(zip(values(ratingdict),keys(ratingdict))), rev = true)\n",
    "    \n",
    "    return RatingList   \n",
    "end    "
   ]
  },
  {
   "cell_type": "code",
   "execution_count": 59,
   "metadata": {},
   "outputs": [
    {
     "data": {
      "text/plain": [
       "calcRatings (generic function with 2 methods)"
      ]
     },
     "execution_count": 59,
     "metadata": {},
     "output_type": "execute_result"
    }
   ],
   "source": [
    "function calcRatings(data, localratingdict, localRDdict, ratingdict, RDdict, voldict)\n",
    "    for i in 1:length(data)\n",
    "        r1prime, RD1prime, sigma1prime = calcRating(data[i][1], data[i][2], data[i][3], localratingdict, localRDdict, ratingdict, RDdict, voldict)\n",
    "        ratingdict[data[i][1]] = r1prime\n",
    "        RDdict[data[i][1]] = RD1prime\n",
    "        voldict[data[i][1]] = sigma1prime\n",
    "    end\n",
    "    return ratingdict, RDdict, voldict\n",
    "end\n",
    "    "
   ]
  },
  {
   "cell_type": "code",
   "execution_count": 69,
   "metadata": {},
   "outputs": [
    {
     "data": {
      "text/plain": [
       "printRatings (generic function with 1 method)"
      ]
     },
     "execution_count": 69,
     "metadata": {},
     "output_type": "execute_result"
    }
   ],
   "source": [
    "function printRatings(RatingList)\n",
    "    htb = @sprintf \"%4s %-30s \\t %-7s %-15s\" \"Rank\" \"Name\" \"Rating\" \"Citizen of\"\n",
    "    println()\n",
    "    println(htb)\n",
    "    for i in 1:length(RatingList)\n",
    "        id = RatingList[i][2]\n",
    "        name = persons[id, 1].name\n",
    "        if length(name) > 30\n",
    "            name = name[1:30]*\"...\"\n",
    "        end\n",
    "        rating = RatingList[i][1]\n",
    "        country = persons[id, 1].countryId\n",
    "        tb = @sprintf \"%4d %30s \\t %6.2f %-15s\" i rpad(name, 30) rating rpad(country, 15)\n",
    "        println(tb)\n",
    "    end\n",
    "end"
   ]
  },
  {
   "cell_type": "code",
   "execution_count": 3,
   "metadata": {
    "collapsed": true
   },
   "outputs": [
    {
     "data": {
      "text/plain": [
       "4-d NDSparse with 1965270 values (13 field named tuples):\n",
       "    \u001b[4mDimensions\u001b[24m\u001b[1m#  \u001b[22m\u001b[1mcolname        \u001b[22m\u001b[1mtype\u001b[22m\n",
       "────────────────────────\n",
       "1  competitionId  String\n",
       "2  eventId        String\n",
       "3  roundTypeId    String\n",
       "4  personId       String\n",
       "    \u001b[4mValues\u001b[24m\u001b[1m#   \u001b[22m\u001b[1mcolname                \u001b[22m\u001b[1mtype\u001b[22m\n",
       "─────────────────────────────────\n",
       "5   pos                    Int64\n",
       "6   best                   Int64\n",
       "7   average                Int64\n",
       "8   personName             String\n",
       "9   personCountryId        String\n",
       "10  formatId               String\n",
       "11  value1                 Int64\n",
       "12  value2                 Int64\n",
       "13  value3                 Int64\n",
       "14  value4                 Int64\n",
       "15  value5                 Int64\n",
       "16  regionalSingleRecord   String\n",
       "17  regionalAverageRecord  String"
      ]
     },
     "execution_count": 3,
     "metadata": {},
     "output_type": "execute_result"
    }
   ],
   "source": [
    "results = loadndsparse(\"WCA_export_Results.tsv\"; delim = '\\t',\n",
    "          indexcols = [:competitionId, :eventId, :roundTypeId, :personId],\n",
    "          colparsers=Dict(\"personId\"=>String,\"eventId\"=>String,\"competitionId\"=>String, \"roundTypeId\"=>String, \"pos\" =>Int))"
   ]
  },
  {
   "cell_type": "code",
   "execution_count": 6,
   "metadata": {},
   "outputs": [],
   "source": [
    "path_persons = \"WCA_export_Persons.tsv\"\n",
    "wca_persons = loadtable(path_persons; delim = '\\t', quotechar = '\\\\',\n",
    "    colparsers=Dict(\"id\"=>String,\"subid\"=>Int, \"name\"=>String, \"CountryId\"=>String, \"gender\"=>String));\n",
    "\n",
    "persons = loadndsparse(path_persons; delim = '\\t', quotechar = '\\\\', indexcols = [:id, :subid],\n",
    "    colparsers=Dict(\"id\"=>String,\"subid\"=>Int, \"name\"=>String, \"CountryId\"=>String, \"gender\"=>String));"
   ]
  },
  {
   "cell_type": "code",
   "execution_count": 20,
   "metadata": {
    "collapsed": true
   },
   "outputs": [
    {
     "name": "stdout",
     "output_type": "stream",
     "text": [
      " 5566 / 5566 Comps  ||  2019-07-06"
     ]
    },
    {
     "data": {
      "text/plain": [
       "14928-element Array{Any,1}:\n",
       " Any[Any[\"1982THAI01\", \"1982RAZO01\", 1], Any[\"1982RAZO01\", \"1982THAI01\", 0], Any[\"1982THAI01\", \"1982LABA01\", 1], Any[\"1982LABA01\", \"1982THAI01\", 0], Any[\"1982THAI01\", \"1982PETR01\", 1], Any[\"1982PETR01\", \"1982THAI01\", 0], Any[\"1982THAI01\", \"1982UENO01\", 1], Any[\"1982UENO01\", \"1982THAI01\", 0], Any[\"1982THAI01\", \"1982JEAN01\", 1], Any[\"1982JEAN01\", \"1982THAI01\", 0]  …  Any[\"1982GALR01\", \"1982TENE01\", 1], Any[\"1982TENE01\", \"1982GALR01\", 0], Any[\"1982GALR01\", \"1982TRAJ01\", 1], Any[\"1982TRAJ01\", \"1982GALR01\", 0], Any[\"1982SEBE01\", \"1982TENE01\", 1], Any[\"1982TENE01\", \"1982SEBE01\", 0], Any[\"1982SEBE01\", \"1982TRAJ01\", 1], Any[\"1982TRAJ01\", \"1982SEBE01\", 0], Any[\"1982TENE01\", \"1982TRAJ01\", 1], Any[\"1982TRAJ01\", \"1982TENE01\", 0]]\n",
       " Any[Any[\"2003KNIG01\", \"2003AKIM01\", 1], Any[\"2003AKIM01\", \"2003KNIG01\", 0], Any[\"2003KNIG01\", \"2003ALLE01\", 1], Any[\"2003ALLE01\", \"2003KNIG01\", 0], Any[\"2003KNIG01\", \"2003VAND01\", 1], Any[\"2003VAND01\", \"2003KNIG01\", 0], Any[\"2003KNIG01\", \"1982FRID01\", 1], Any[\"1982FRID01\", \"2003KNIG01\", 0], Any[\"2003KNIG01\", \"2003BOND01\", 1], Any[\"2003BOND01\", \"2003KNIG01\", 0]  …  Any[\"2003TING01\", \"2003GRAN01\", 1], Any[\"2003GRAN01\", \"2003TING01\", 0], Any[\"2003TING01\", \"2003POUR01\", 1], Any[\"2003POUR01\", \"2003TING01\", 0], Any[\"2003ZBOR01\", \"2003GRAN01\", 1], Any[\"2003GRAN01\", \"2003ZBOR01\", 0], Any[\"2003ZBOR01\", \"2003POUR01\", 1], Any[\"2003POUR01\", \"2003ZBOR01\", 0], Any[\"2003GRAN01\", \"2003POUR01\", 1], Any[\"2003POUR01\", \"2003GRAN01\", 0]]\n",
       " Any[Any[\"2003BOND01\", \"2003ALLE01\", 1], Any[\"2003ALLE01\", \"2003BOND01\", 0], Any[\"2003BOND01\", \"2003VAND01\", 1], Any[\"2003VAND01\", \"2003BOND01\", 0], Any[\"2003BOND01\", \"2003MEAN01\", 1], Any[\"2003MEAN01\", \"2003BOND01\", 0], Any[\"2003BOND01\", \"2003BRUC01\", 1], Any[\"2003BRUC01\", \"2003BOND01\", 0], Any[\"2003BOND01\", \"2003KNIG01\", 1], Any[\"2003KNIG01\", \"2003BOND01\", 0]  …  Any[\"2003ATKI01\", \"2003MORR01\", 1], Any[\"2003MORR01\", \"2003ATKI01\", 0], Any[\"2003ATKI01\", \"2003WEBL01\", 1], Any[\"2003WEBL01\", \"2003ATKI01\", 0], Any[\"2003HARR01\", \"2003MORR01\", 1], Any[\"2003MORR01\", \"2003HARR01\", 0], Any[\"2003HARR01\", \"2003WEBL01\", 1], Any[\"2003WEBL01\", \"2003HARR01\", 0], Any[\"2003MORR01\", \"2003WEBL01\", 1], Any[\"2003WEBL01\", \"2003MORR01\", 0]]\n",
       " Any[Any[\"2003KNIG01\", \"1982FRID01\", 1], Any[\"1982FRID01\", \"2003KNIG01\", 0], Any[\"2003KNIG01\", \"2003WESL01\", 1], Any[\"2003WESL01\", \"2003KNIG01\", 0], Any[\"2003KNIG01\", \"2003VAND01\", 1], Any[\"2003VAND01\", \"2003KNIG01\", 0], Any[\"2003KNIG01\", \"2003BOND01\", 1], Any[\"2003BOND01\", \"2003KNIG01\", 0], Any[\"2003KNIG01\", \"2003ALLE01\", 1], Any[\"2003ALLE01\", \"2003KNIG01\", 0]  …  Any[\"2003BOND01\", \"2003MEAN01\", 1], Any[\"2003MEAN01\", \"2003BOND01\", 0], Any[\"2003BOND01\", \"2003BRUC01\", 1], Any[\"2003BRUC01\", \"2003BOND01\", 0], Any[\"2003ALLE01\", \"2003MEAN01\", 1], Any[\"2003MEAN01\", \"2003ALLE01\", 0], Any[\"2003ALLE01\", \"2003BRUC01\", 1], Any[\"2003BRUC01\", \"2003ALLE01\", 0], Any[\"2003MEAN01\", \"2003BRUC01\", 1], Any[\"2003BRUC01\", \"2003MEAN01\", 0]]\n",
       " Any[Any[\"2003BRUC01\", \"2003VAND01\", 1], Any[\"2003VAND01\", \"2003BRUC01\", 0], Any[\"2003BRUC01\", \"2003HARR01\", 1], Any[\"2003HARR01\", \"2003BRUC01\", 0], Any[\"2003BRUC01\", \"2003JANS01\", 1], Any[\"2003JANS01\", \"2003BRUC01\", 0], Any[\"2003BRUC01\", \"2003DENN01\", 1], Any[\"2003DENN01\", \"2003BRUC01\", 0], Any[\"2003BRUC01\", \"2003HELT01\", 1], Any[\"2003HELT01\", \"2003BRUC01\", 0]  …  Any[\"2003JANS01\", \"2003HELT01\", 1], Any[\"2003HELT01\", \"2003JANS01\", 0], Any[\"2003JANS01\", \"2003POCH01\", 1], Any[\"2003POCH01\", \"2003JANS01\", 0], Any[\"2003DENN01\", \"2003HELT01\", 1], Any[\"2003HELT01\", \"2003DENN01\", 0], Any[\"2003DENN01\", \"2003POCH01\", 1], Any[\"2003POCH01\", \"2003DENN01\", 0], Any[\"2003HELT01\", \"2003POCH01\", 1], Any[\"2003POCH01\", \"2003HELT01\", 0]]\n",
       " Any[Any[\"2003MAKI01\", \"1982PETR01\", 1], Any[\"1982PETR01\", \"2003MAKI01\", 0], Any[\"2003MAKI01\", \"2003BRAN01\", 1], Any[\"2003BRAN01\", \"2003MAKI01\", 0], Any[\"2003MAKI01\", \"2004LAIJ01\", 1], Any[\"2004LAIJ01\", \"2003MAKI01\", 0], Any[\"2003MAKI01\", \"2004SALV01\", 1], Any[\"2004SALV01\", \"2003MAKI01\", 0], Any[\"2003MAKI01\", \"2004ROND01\", 1], Any[\"2004ROND01\", \"2003MAKI01\", 0]  …  Any[\"2004ZHUK01\", \"2004SULL01\", 1], Any[\"2004SULL01\", \"2004ZHUK01\", 0], Any[\"2004ZHUK01\", \"2004HENA01\", 1], Any[\"2004HENA01\", \"2004ZHUK01\", 0], Any[\"2004FULT01\", \"2004SULL01\", 1], Any[\"2004SULL01\", \"2004FULT01\", 0], Any[\"2004FULT01\", \"2004HENA01\", 1], Any[\"2004HENA01\", \"2004FULT01\", 0], Any[\"2004SULL01\", \"2004HENA01\", 1], Any[\"2004HENA01\", \"2004SULL01\", 0]]\n",
       " Any[Any[\"2003MAKI01\", \"1982PETR01\", 1], Any[\"1982PETR01\", \"2003MAKI01\", 0], Any[\"2003MAKI01\", \"2003BRAN01\", 1], Any[\"2003BRAN01\", \"2003MAKI01\", 0], Any[\"2003MAKI01\", \"2004SALV01\", 1], Any[\"2004SALV01\", \"2003MAKI01\", 0], Any[\"2003MAKI01\", \"2004MCGA01\", 1], Any[\"2004MCGA01\", \"2003MAKI01\", 0], Any[\"2003MAKI01\", \"2004JOEC01\", 1], Any[\"2004JOEC01\", \"2003MAKI01\", 0]  …  Any[\"2004ROND01\", \"2004KWAK01\", 1], Any[\"2004KWAK01\", \"2004ROND01\", 0], Any[\"2004ROND01\", \"2003BRAN02\", 1], Any[\"2003BRAN02\", \"2004ROND01\", 0], Any[\"2004LAIJ01\", \"2004KWAK01\", 1], Any[\"2004KWAK01\", \"2004LAIJ01\", 0], Any[\"2004LAIJ01\", \"2003BRAN02\", 1], Any[\"2003BRAN02\", \"2004LAIJ01\", 0], Any[\"2004KWAK01\", \"2003BRAN02\", 1], Any[\"2003BRAN02\", \"2004KWAK01\", 0]]\n",
       " Any[Any[\"2003MAKI01\", \"1982PETR01\", 1], Any[\"1982PETR01\", \"2003MAKI01\", 0], Any[\"2003MAKI01\", \"2003BRAN01\", 1], Any[\"2003BRAN01\", \"2003MAKI01\", 0], Any[\"2003MAKI01\", \"2004MCGA01\", 1], Any[\"2004MCGA01\", \"2003MAKI01\", 0], Any[\"2003MAKI01\", \"2004SALV01\", 1], Any[\"2004SALV01\", \"2003MAKI01\", 0], Any[\"1982PETR01\", \"2003BRAN01\", 1], Any[\"2003BRAN01\", \"1982PETR01\", 0], Any[\"1982PETR01\", \"2004MCGA01\", 1], Any[\"2004MCGA01\", \"1982PETR01\", 0], Any[\"1982PETR01\", \"2004SALV01\", 1], Any[\"2004SALV01\", \"1982PETR01\", 0], Any[\"2003BRAN01\", \"2004MCGA01\", 1], Any[\"2004MCGA01\", \"2003BRAN01\", 0], Any[\"2003BRAN01\", \"2004SALV01\", 1], Any[\"2004SALV01\", \"2003BRAN01\", 0], Any[\"2004MCGA01\", \"2004SALV01\", 1], Any[\"2004SALV01\", \"2004MCGA01\", 0]]   \n",
       " Any[Any[\"2003MAKI01\", \"1982PETR01\", 1], Any[\"1982PETR01\", \"2003MAKI01\", 0], Any[\"2003MAKI01\", \"2004GATE02\", 1], Any[\"2004GATE02\", \"2003MAKI01\", 0], Any[\"2003MAKI01\", \"2003SAUE01\", 1], Any[\"2003SAUE01\", \"2003MAKI01\", 0], Any[\"2003MAKI01\", \"2004JIAQ01\", 1], Any[\"2004JIAQ01\", \"2003MAKI01\", 0], Any[\"2003MAKI01\", \"2004MCGA01\", 1], Any[\"2004MCGA01\", \"2003MAKI01\", 0]  …  Any[\"2004PART01\", \"2004RAND01\", 1], Any[\"2004RAND01\", \"2004PART01\", 0], Any[\"2004PART01\", \"2004HENA01\", 1], Any[\"2004HENA01\", \"2004PART01\", 0], Any[\"2004GATE01\", \"2004RAND01\", 1], Any[\"2004RAND01\", \"2004GATE01\", 0], Any[\"2004GATE01\", \"2004HENA01\", 1], Any[\"2004HENA01\", \"2004GATE01\", 0], Any[\"2004RAND01\", \"2004HENA01\", 1], Any[\"2004HENA01\", \"2004RAND01\", 0]]\n",
       " Any[Any[\"2003MAKI01\", \"1982PETR01\", 1], Any[\"1982PETR01\", \"2003MAKI01\", 0], Any[\"2003MAKI01\", \"2004DATU01\", 1], Any[\"2004DATU01\", \"2003MAKI01\", 0], Any[\"2003MAKI01\", \"2004LOLE01\", 1], Any[\"2004LOLE01\", \"2003MAKI01\", 0], Any[\"2003MAKI01\", \"2003SAUE01\", 1], Any[\"2003SAUE01\", \"2003MAKI01\", 0], Any[\"2003MAKI01\", \"2004JIAQ01\", 1], Any[\"2004JIAQ01\", \"2003MAKI01\", 0]  …  Any[\"2004KWAK01\", \"2004LIOU01\", 1], Any[\"2004LIOU01\", \"2004KWAK01\", 0], Any[\"2004KWAK01\", \"2004ZAMO01\", 1], Any[\"2004ZAMO01\", \"2004KWAK01\", 0], Any[\"2004CHAN02\", \"2004LIOU01\", 1], Any[\"2004LIOU01\", \"2004CHAN02\", 0], Any[\"2004CHAN02\", \"2004ZAMO01\", 1], Any[\"2004ZAMO01\", \"2004CHAN02\", 0], Any[\"2004LIOU01\", \"2004ZAMO01\", 1], Any[\"2004ZAMO01\", \"2004LIOU01\", 0]]\n",
       " Any[Any[\"2003MAKI01\", \"1982PETR01\", 1], Any[\"1982PETR01\", \"2003MAKI01\", 0], Any[\"2003MAKI01\", \"2004LOLE01\", 1], Any[\"2004LOLE01\", \"2003MAKI01\", 0], Any[\"2003MAKI01\", \"2003SAUE01\", 1], Any[\"2003SAUE01\", \"2003MAKI01\", 0], Any[\"2003MAKI01\", \"2004DATU01\", 1], Any[\"2004DATU01\", \"2003MAKI01\", 0], Any[\"1982PETR01\", \"2004LOLE01\", 1], Any[\"2004LOLE01\", \"1982PETR01\", 0], Any[\"1982PETR01\", \"2003SAUE01\", 1], Any[\"2003SAUE01\", \"1982PETR01\", 0], Any[\"1982PETR01\", \"2004DATU01\", 1], Any[\"2004DATU01\", \"1982PETR01\", 0], Any[\"2004LOLE01\", \"2003SAUE01\", 1], Any[\"2003SAUE01\", \"2004LOLE01\", 0], Any[\"2004LOLE01\", \"2004DATU01\", 1], Any[\"2004DATU01\", \"2004LOLE01\", 0], Any[\"2003SAUE01\", \"2004DATU01\", 1], Any[\"2004DATU01\", \"2003SAUE01\", 0]]   \n",
       " Any[Any[\"2003TEMP01\", \"2004VIEN01\", 1], Any[\"2004VIEN01\", \"2003TEMP01\", 0], Any[\"2003TEMP01\", \"2003BADI01\", 1], Any[\"2003BADI01\", \"2003TEMP01\", 0], Any[\"2003TEMP01\", \"2004FELI01\", 1], Any[\"2004FELI01\", \"2003TEMP01\", 0], Any[\"2003TEMP01\", \"2004ROUX01\", 1], Any[\"2004ROUX01\", \"2003TEMP01\", 0], Any[\"2003TEMP01\", \"2004CARA01\", 1], Any[\"2004CARA01\", \"2003TEMP01\", 0]  …  Any[\"2004GUIL01\", \"2004JOUR01\", 1], Any[\"2004JOUR01\", \"2004GUIL01\", 0], Any[\"2004GUIL01\", \"2004MEUN01\", 1], Any[\"2004MEUN01\", \"2004GUIL01\", 0], Any[\"2004DUQU01\", \"2004JOUR01\", 1], Any[\"2004JOUR01\", \"2004DUQU01\", 0], Any[\"2004DUQU01\", \"2004MEUN01\", 1], Any[\"2004MEUN01\", \"2004DUQU01\", 0], Any[\"2004JOUR01\", \"2004MEUN01\", 1], Any[\"2004MEUN01\", \"2004JOUR01\", 0]]\n",
       " Any[Any[\"2003VAND01\", \"2003BRUC01\", 1], Any[\"2003BRUC01\", \"2003VAND01\", 0], Any[\"2003VAND01\", \"2004SCHO01\", 1], Any[\"2004SCHO01\", \"2003VAND01\", 0], Any[\"2003VAND01\", \"2004BECH01\", 1], Any[\"2004BECH01\", \"2003VAND01\", 0], Any[\"2003VAND01\", \"2003JANS01\", 1], Any[\"2003JANS01\", \"2003VAND01\", 0], Any[\"2003VAND01\", \"2003HELT01\", 1], Any[\"2003HELT01\", \"2003VAND01\", 0]  …  Any[\"2004BELL01\", \"2004WOLF01\", 1], Any[\"2004WOLF01\", \"2004BELL01\", 0], Any[\"2004BELL01\", \"2003SCHE01\", 1], Any[\"2003SCHE01\", \"2004BELL01\", 0], Any[\"2004GEEL01\", \"2004WOLF01\", 1], Any[\"2004WOLF01\", \"2004GEEL01\", 0], Any[\"2004GEEL01\", \"2003SCHE01\", 1], Any[\"2003SCHE01\", \"2004GEEL01\", 0], Any[\"2004WOLF01\", \"2003SCHE01\", 1], Any[\"2003SCHE01\", \"2004WOLF01\", 0]]\n",
       " ⋮                                                                                                                                                                                                                                                                                                                                                                                                                                                                                                                                                                                                                                                                                                                                                     \n",
       " Any[Any[\"2012PARK03\", \"2015PARK13\", 1], Any[\"2015PARK13\", \"2012PARK03\", 0], Any[\"2012PARK03\", \"2013HELM02\", 1], Any[\"2013HELM02\", \"2012PARK03\", 0], Any[\"2012PARK03\", \"2012WALK02\", 1], Any[\"2012WALK02\", \"2012PARK03\", 0], Any[\"2012PARK03\", \"2016HSIE02\", 1], Any[\"2016HSIE02\", \"2012PARK03\", 0], Any[\"2012PARK03\", \"2016LAIC01\", 1], Any[\"2016LAIC01\", \"2012PARK03\", 0]  …  Any[\"2018PILE02\", \"2018STOC05\", 1], Any[\"2018STOC05\", \"2018PILE02\", 0], Any[\"2018PILE02\", \"2018SEEB03\", 1], Any[\"2018SEEB03\", \"2018PILE02\", 0], Any[\"2018WANS16\", \"2018STOC05\", 1], Any[\"2018STOC05\", \"2018WANS16\", 0], Any[\"2018WANS16\", \"2018SEEB03\", 1], Any[\"2018SEEB03\", \"2018WANS16\", 0], Any[\"2018STOC05\", \"2018SEEB03\", 1], Any[\"2018SEEB03\", \"2018STOC05\", 0]]\n",
       " Any[Any[\"2012PARK03\", \"2015PARK13\", 1], Any[\"2015PARK13\", \"2012PARK03\", 0], Any[\"2012PARK03\", \"2012WALK02\", 1], Any[\"2012WALK02\", \"2012PARK03\", 0], Any[\"2012PARK03\", \"2016HSIE02\", 1], Any[\"2016HSIE02\", \"2012PARK03\", 0], Any[\"2012PARK03\", \"2011GROG02\", 1], Any[\"2011GROG02\", \"2012PARK03\", 0], Any[\"2012PARK03\", \"2010MATT02\", 1], Any[\"2010MATT02\", \"2012PARK03\", 0]  …  Any[\"2017TRUO06\", \"2018AGUI10\", 1], Any[\"2018AGUI10\", \"2017TRUO06\", 0], Any[\"2017TRUO06\", \"2018HAEV01\", 1], Any[\"2018HAEV01\", \"2017TRUO06\", 0], Any[\"2016SHAN08\", \"2018AGUI10\", 1], Any[\"2018AGUI10\", \"2016SHAN08\", 0], Any[\"2016SHAN08\", \"2018HAEV01\", 1], Any[\"2018HAEV01\", \"2016SHAN08\", 0], Any[\"2018AGUI10\", \"2018HAEV01\", 1], Any[\"2018HAEV01\", \"2018AGUI10\", 0]]\n",
       " Any[Any[\"2012PARK03\", \"2015PARK13\", 1], Any[\"2015PARK13\", \"2012PARK03\", 0], Any[\"2012PARK03\", \"2012WALK02\", 1], Any[\"2012WALK02\", \"2012PARK03\", 0], Any[\"2012PARK03\", \"2016HSIE02\", 1], Any[\"2016HSIE02\", \"2012PARK03\", 0], Any[\"2012PARK03\", \"2013HELM02\", 1], Any[\"2013HELM02\", \"2012PARK03\", 0], Any[\"2012PARK03\", \"2011GROG02\", 1], Any[\"2011GROG02\", \"2012PARK03\", 0]  …  Any[\"2013HELM02\", \"2010MATT02\", 1], Any[\"2010MATT02\", \"2013HELM02\", 0], Any[\"2013HELM02\", \"2008YOUN02\", 1], Any[\"2008YOUN02\", \"2013HELM02\", 0], Any[\"2011GROG02\", \"2010MATT02\", 1], Any[\"2010MATT02\", \"2011GROG02\", 0], Any[\"2011GROG02\", \"2008YOUN02\", 1], Any[\"2008YOUN02\", \"2011GROG02\", 0], Any[\"2010MATT02\", \"2008YOUN02\", 1], Any[\"2008YOUN02\", \"2010MATT02\", 0]]\n",
       " Any[Any[\"2012SOHO01\", \"2016INAB01\", 1], Any[\"2016INAB01\", \"2012SOHO01\", 0], Any[\"2012SOHO01\", \"2009FUSH01\", 1], Any[\"2009FUSH01\", \"2012SOHO01\", 0], Any[\"2012SOHO01\", \"2010SUGA01\", 1], Any[\"2010SUGA01\", \"2012SOHO01\", 0], Any[\"2012SOHO01\", \"2016YONG02\", 1], Any[\"2016YONG02\", \"2012SOHO01\", 0], Any[\"2012SOHO01\", \"2008SAJI01\", 1], Any[\"2008SAJI01\", \"2012SOHO01\", 0]  …  Any[\"2018AKAN03\", \"2018KAMA06\", 1], Any[\"2018KAMA06\", \"2018AKAN03\", 0], Any[\"2018AKAN03\", \"2015HAYA02\", 1], Any[\"2015HAYA02\", \"2018AKAN03\", 0], Any[\"2018KAJI03\", \"2018KAMA06\", 1], Any[\"2018KAMA06\", \"2018KAJI03\", 0], Any[\"2018KAJI03\", \"2015HAYA02\", 1], Any[\"2015HAYA02\", \"2018KAJI03\", 0], Any[\"2018KAMA06\", \"2015HAYA02\", 1], Any[\"2015HAYA02\", \"2018KAMA06\", 0]]\n",
       " Any[Any[\"2016INAB01\", \"2014JITT01\", 1], Any[\"2014JITT01\", \"2016INAB01\", 0], Any[\"2016INAB01\", \"2012SOHO01\", 1], Any[\"2012SOHO01\", \"2016INAB01\", 0], Any[\"2016INAB01\", \"2011IRIF01\", 1], Any[\"2011IRIF01\", \"2016INAB01\", 0], Any[\"2016INAB01\", \"2016KIDA02\", 1], Any[\"2016KIDA02\", \"2016INAB01\", 0], Any[\"2016INAB01\", \"2010SUGA01\", 1], Any[\"2010SUGA01\", \"2016INAB01\", 0]  …  Any[\"2010TERA01\", \"2014ISHI04\", 1], Any[\"2014ISHI04\", \"2010TERA01\", 0], Any[\"2010TERA01\", \"2006SUZU03\", 1], Any[\"2006SUZU03\", \"2010TERA01\", 0], Any[\"2005SUSE01\", \"2014ISHI04\", 1], Any[\"2014ISHI04\", \"2005SUSE01\", 0], Any[\"2005SUSE01\", \"2006SUZU03\", 1], Any[\"2006SUZU03\", \"2005SUSE01\", 0], Any[\"2014ISHI04\", \"2006SUZU03\", 1], Any[\"2006SUZU03\", \"2014ISHI04\", 0]]\n",
       " Any[Any[\"2016INAB01\", \"2010SUGA01\", 1], Any[\"2010SUGA01\", \"2016INAB01\", 0], Any[\"2016INAB01\", \"2012SOHO01\", 1], Any[\"2012SOHO01\", \"2016INAB01\", 0], Any[\"2016INAB01\", \"2009FUSH01\", 1], Any[\"2009FUSH01\", \"2016INAB01\", 0], Any[\"2016INAB01\", \"2011IRIF01\", 1], Any[\"2011IRIF01\", \"2016INAB01\", 0], Any[\"2016INAB01\", \"2011IIDA01\", 1], Any[\"2011IIDA01\", \"2016INAB01\", 0]  …  Any[\"2010SICH01\", \"2015TAKA06\", 1], Any[\"2015TAKA06\", \"2010SICH01\", 0], Any[\"2010SICH01\", \"2006TSAI03\", 1], Any[\"2006TSAI03\", \"2010SICH01\", 0], Any[\"2016KIDA02\", \"2015TAKA06\", 1], Any[\"2015TAKA06\", \"2016KIDA02\", 0], Any[\"2016KIDA02\", \"2006TSAI03\", 1], Any[\"2006TSAI03\", \"2016KIDA02\", 0], Any[\"2015TAKA06\", \"2006TSAI03\", 1], Any[\"2006TSAI03\", \"2015TAKA06\", 0]]\n",
       " Any[Any[\"2014LOKW01\", \"2016GUOJ02\", 1], Any[\"2016GUOJ02\", \"2014LOKW01\", 0], Any[\"2014LOKW01\", \"2013RUIX02\", 1], Any[\"2013RUIX02\", \"2014LOKW01\", 0], Any[\"2014LOKW01\", \"2017MENG07\", 1], Any[\"2017MENG07\", \"2014LOKW01\", 0], Any[\"2014LOKW01\", \"2013WUFA03\", 1], Any[\"2013WUFA03\", \"2014LOKW01\", 0], Any[\"2014LOKW01\", \"2016WUZI03\", 1], Any[\"2016WUZI03\", \"2014LOKW01\", 0]  …  Any[\"2018LIPE05\", \"2018FANG26\", 1], Any[\"2018FANG26\", \"2018LIPE05\", 0], Any[\"2018LIPE05\", \"2017ZHOU58\", 1], Any[\"2017ZHOU58\", \"2018LIPE05\", 0], Any[\"2018LUZI04\", \"2018FANG26\", 1], Any[\"2018FANG26\", \"2018LUZI04\", 0], Any[\"2018LUZI04\", \"2017ZHOU58\", 1], Any[\"2017ZHOU58\", \"2018LUZI04\", 0], Any[\"2018FANG26\", \"2017ZHOU58\", 1], Any[\"2017ZHOU58\", \"2018FANG26\", 0]]\n",
       " Any[Any[\"2013RUIX02\", \"2014LOKW01\", 1], Any[\"2014LOKW01\", \"2013RUIX02\", 0], Any[\"2013RUIX02\", \"2016GUOJ02\", 1], Any[\"2016GUOJ02\", \"2013RUIX02\", 0], Any[\"2013RUIX02\", \"2016WUZI03\", 1], Any[\"2016WUZI03\", \"2013RUIX02\", 0], Any[\"2013RUIX02\", \"2013WUFA03\", 1], Any[\"2013WUFA03\", \"2013RUIX02\", 0], Any[\"2013RUIX02\", \"2007YUNQ01\", 1], Any[\"2007YUNQ01\", \"2013RUIX02\", 0]  …  Any[\"2018XUTA01\", \"2018ZHEN61\", 1], Any[\"2018ZHEN61\", \"2018XUTA01\", 0], Any[\"2018XUTA01\", \"2018ZHAC08\", 1], Any[\"2018ZHAC08\", \"2018XUTA01\", 0], Any[\"2018GAOW02\", \"2018ZHEN61\", 1], Any[\"2018ZHEN61\", \"2018GAOW02\", 0], Any[\"2018GAOW02\", \"2018ZHAC08\", 1], Any[\"2018ZHAC08\", \"2018GAOW02\", 0], Any[\"2018ZHEN61\", \"2018ZHAC08\", 1], Any[\"2018ZHAC08\", \"2018ZHEN61\", 0]]\n",
       " Any[Any[\"2013RUIX02\", \"2016WUZI03\", 1], Any[\"2016WUZI03\", \"2013RUIX02\", 0], Any[\"2013RUIX02\", \"2014LOKW01\", 1], Any[\"2014LOKW01\", \"2013RUIX02\", 0], Any[\"2013RUIX02\", \"2016GUOJ02\", 1], Any[\"2016GUOJ02\", \"2013RUIX02\", 0], Any[\"2013RUIX02\", \"2013LIZO01\", 1], Any[\"2013LIZO01\", \"2013RUIX02\", 0], Any[\"2013RUIX02\", \"2017CHEN36\", 1], Any[\"2017CHEN36\", \"2013RUIX02\", 0]  …  Any[\"2017MENG07\", \"2012GAOK01\", 1], Any[\"2012GAOK01\", \"2017MENG07\", 0], Any[\"2017MENG07\", \"2011WANG33\", 1], Any[\"2011WANG33\", \"2017MENG07\", 0], Any[\"2016LIBO05\", \"2012GAOK01\", 1], Any[\"2012GAOK01\", \"2016LIBO05\", 0], Any[\"2016LIBO05\", \"2011WANG33\", 1], Any[\"2011WANG33\", \"2016LIBO05\", 0], Any[\"2012GAOK01\", \"2011WANG33\", 1], Any[\"2011WANG33\", \"2012GAOK01\", 0]]\n",
       " Any[Any[\"2015CHHA03\", \"2015PABR01\", 1], Any[\"2015PABR01\", \"2015CHHA03\", 0], Any[\"2015CHHA03\", \"2012RUPE01\", 1], Any[\"2012RUPE01\", \"2015CHHA03\", 0], Any[\"2015CHHA03\", \"2011BANS02\", 1], Any[\"2011BANS02\", \"2015CHHA03\", 0], Any[\"2015CHHA03\", \"2017TIKK01\", 1], Any[\"2017TIKK01\", \"2015CHHA03\", 0], Any[\"2015CHHA03\", \"2013GHOD01\", 1], Any[\"2013GHOD01\", \"2015CHHA03\", 0]  …  Any[\"2018KART13\", \"2018AGAR17\", 1], Any[\"2018AGAR17\", \"2018KART13\", 0], Any[\"2018KART13\", \"2018AGAR18\", 1], Any[\"2018AGAR18\", \"2018KART13\", 0], Any[\"2018JAIN37\", \"2018AGAR17\", 1], Any[\"2018AGAR17\", \"2018JAIN37\", 0], Any[\"2018JAIN37\", \"2018AGAR18\", 1], Any[\"2018AGAR18\", \"2018JAIN37\", 0], Any[\"2018AGAR17\", \"2018AGAR18\", 1], Any[\"2018AGAR18\", \"2018AGAR17\", 0]]\n",
       " Any[Any[\"2015CHHA03\", \"2015PABR01\", 1], Any[\"2015PABR01\", \"2015CHHA03\", 0], Any[\"2015CHHA03\", \"2011BANS02\", 1], Any[\"2011BANS02\", \"2015CHHA03\", 0], Any[\"2015CHHA03\", \"2017TIKK01\", 1], Any[\"2017TIKK01\", \"2015CHHA03\", 0], Any[\"2015CHHA03\", \"2012RUPE01\", 1], Any[\"2012RUPE01\", \"2015CHHA03\", 0], Any[\"2015CHHA03\", \"2014KOUL01\", 1], Any[\"2014KOUL01\", \"2015CHHA03\", 0]  …  Any[\"2018AWAS02\", \"2018GANG01\", 1], Any[\"2018GANG01\", \"2018AWAS02\", 0], Any[\"2018AWAS02\", \"2018SING59\", 1], Any[\"2018SING59\", \"2018AWAS02\", 0], Any[\"2018BUDH01\", \"2018GANG01\", 1], Any[\"2018GANG01\", \"2018BUDH01\", 0], Any[\"2018BUDH01\", \"2018SING59\", 1], Any[\"2018SING59\", \"2018BUDH01\", 0], Any[\"2018GANG01\", \"2018SING59\", 1], Any[\"2018SING59\", \"2018GANG01\", 0]]\n",
       " Any[Any[\"2015PABR01\", \"2015CHHA03\", 1], Any[\"2015CHHA03\", \"2015PABR01\", 0], Any[\"2015PABR01\", \"2012RUPE01\", 1], Any[\"2012RUPE01\", \"2015PABR01\", 0], Any[\"2015PABR01\", \"2011BANS02\", 1], Any[\"2011BANS02\", \"2015PABR01\", 0], Any[\"2015PABR01\", \"2017TIKK01\", 1], Any[\"2017TIKK01\", \"2015PABR01\", 0], Any[\"2015PABR01\", \"2014KOUL01\", 1], Any[\"2014KOUL01\", \"2015PABR01\", 0]  …  Any[\"2013GHOD01\", \"2018SACH02\", 1], Any[\"2018SACH02\", \"2013GHOD01\", 0], Any[\"2013GHOD01\", \"2018MATH19\", 1], Any[\"2018MATH19\", \"2013GHOD01\", 0], Any[\"2016JOSH02\", \"2018SACH02\", 1], Any[\"2018SACH02\", \"2016JOSH02\", 0], Any[\"2016JOSH02\", \"2018MATH19\", 1], Any[\"2018MATH19\", \"2016JOSH02\", 0], Any[\"2018SACH02\", \"2018MATH19\", 1], Any[\"2018MATH19\", \"2018SACH02\", 0]]"
      ]
     },
     "execution_count": 20,
     "metadata": {},
     "output_type": "execute_result"
    }
   ],
   "source": [
    "thing = genAllGlickoArrays(\"333\")"
   ]
  },
  {
   "cell_type": "code",
   "execution_count": 67,
   "metadata": {},
   "outputs": [
    {
     "name": "stdout",
     "output_type": "stream",
     "text": [
      "14928 / 14928"
     ]
    },
    {
     "data": {
      "text/plain": [
       "116190-element Array{Tuple{Any,Any},1}:\n",
       " (3520.9440405477544, \"2012PARK03\")\n",
       " (3456.539347748617, \"2009ZEMD01\") \n",
       " (3357.244878789832, \"2010WEYE01\") \n",
       " (3223.00587419787, \"2010WANG68\")  \n",
       " (3204.44641492145, \"2013NAHM01\")  \n",
       " (3194.8727484707197, \"2011ETTE01\")\n",
       " (3179.3412557520587, \"2010WEYE02\")\n",
       " (3154.1345170167115, \"2012PONC02\")\n",
       " (3116.895331505723, \"2007VALK01\") \n",
       " (3060.4675615607034, \"2013GERH01\")\n",
       " (3057.624536477354, \"2014XUZI01\") \n",
       " (3048.592691258791, \"2012CARL03\") \n",
       " (3010.8566888404366, \"2012BEAH01\")\n",
       " ⋮                                 \n",
       " (815.6621053020974, \"2012SIDO01\") \n",
       " (815.0576388470544, \"2014TRAY01\") \n",
       " (810.7890614420199, \"2018WANG97\") \n",
       " (808.4815059944215, \"2016HUAN47\") \n",
       " (807.2009064542543, \"2014GUIL01\") \n",
       " (806.9830704133698, \"2016BERL01\") \n",
       " (805.2552060194757, \"2016VIKS01\") \n",
       " (799.4244115999846, \"2016SANC43\") \n",
       " (775.0975083612126, \"2012GUIL01\") \n",
       " (731.3006430195829, \"2013CIUK02\") \n",
       " (703.1908673816719, \"2012RONK01\") \n",
       " (659.8325508236318, \"2015CLAR13\") "
      ]
     },
     "execution_count": 67,
     "metadata": {},
     "output_type": "execute_result"
    }
   ],
   "source": [
    "RatingList = generateRatings(thing, 35, 0.006)"
   ]
  },
  {
   "cell_type": "code",
   "execution_count": 73,
   "metadata": {},
   "outputs": [
    {
     "name": "stdout",
     "output_type": "stream",
     "text": [
      "mean: 1456.8872021233763\n",
      "median: 1433.2399560022309\n",
      "min: 659.8325508236318\n",
      "max: 3520.9440405477544\n"
     ]
    }
   ],
   "source": [
    "sum = 0\n",
    "for i in 1:length(RatingList)\n",
    "    sum += RatingList[i][1]\n",
    "end\n",
    "println(\"mean: \", sum/length(RatingList))\n",
    "println(\"median: \", RatingList[Int.(length(RatingList)/2)][1])\n",
    "println(\"min: \", RatingList[length(RatingList)][1])\n",
    "println(\"max: \", RatingList[1][1])"
   ]
  },
  {
   "cell_type": "code",
   "execution_count": 70,
   "metadata": {},
   "outputs": [
    {
     "name": "stdout",
     "output_type": "stream",
     "text": [
      "\n",
      "Rank Name                           \t Rating  Citizen of     \n",
      "   1 Max Park                       \t 3520.94 USA            \n",
      "   2 Feliks Zemdegs                 \t 3456.54 Australia      \n",
      "   3 Philipp Weyer                  \t 3357.24 Germany        \n",
      "   4 Bill Wang                      \t 3223.01 Canada         \n",
      "   5 Seung Hyuk Nahm (남승혁)          \t 3204.45 Korea          \n",
      "   6 Lucas Etter                    \t 3194.87 USA            \n",
      "   7 Sebastian Weyer                \t 3179.34 Germany        \n",
      "   8 Patrick Ponce                  \t 3154.13 USA            \n",
      "   9 Mats Valk                      \t 3116.90 Netherlands    \n",
      "  10 Kevin Gerhardt                 \t 3060.47 Germany        \n",
      "  11 Zibo Xu (徐子博)                  \t 3057.62 China          \n",
      "  12 Alexandre Carlier              \t 3048.59 France         \n",
      "  13 Ciarán Beahan                  \t 3010.86 Ireland        \n",
      "  14 Michał Rzewuski                \t 3003.45 Poland         \n",
      "  15 Phillip Lewicki                \t 3003.08 USA            \n",
      "  16 Cornelius Dieckmann            \t 2983.45 Germany        \n",
      "  17 Martin Vædele Egdal            \t 2981.55 Denmark        \n",
      "  18 Drew Brads                     \t 2970.92 USA            \n",
      "  19 Richard Delacoste              \t 2964.58 Switzerland    \n",
      "  20 Collin Burns                   \t 2960.96 USA            \n",
      "  21 Christopher Yen                \t 2957.04 USA            \n",
      "  22 Antonie Paterakis              \t 2947.28 Greece         \n",
      "  23 Rami Sbahi                     \t 2942.66 USA            \n",
      "  24 Dylan Miller                   \t 2931.25 USA            \n",
      "  25 Daniel Rose-Levine             \t 2929.41 USA            \n",
      "  26 Michał Pleskowicz              \t 2928.94 Poland         \n",
      "  27 Dario Roa Sánchez              \t 2916.68 Spain          \n",
      "  28 Kian Mansour                   \t 2916.18 Canada         \n",
      "  29 Lukas Shelley                  \t 2910.82 Denmark        \n",
      "  30 Dmitry Dobrjakov               \t 2888.97 Russia         \n",
      "  31 Yi-Fan Wu (吳亦凡)                \t 2876.44 Taiwan         \n",
      "  32 Jiayu Wang (王佳宇)               \t 2860.97 China          \n",
      "  33 Daniel Karnaukh                \t 2840.88 USA            \n",
      "  34 Danny SungIn Park              \t 2838.58 Korea          \n",
      "  35 Alexander Lau                  \t 2836.61 United Kingdom \n",
      "  36 Jules Desjardin                \t 2833.42 France         \n",
      "  37 Antoine Cantin                 \t 2831.33 Canada         \n",
      "  38 Jayden McNeill                 \t 2827.30 Australia      \n",
      "  39 Andy Denney                    \t 2813.68 USA            \n",
      "  40 Keaton Ellis                   \t 2813.05 USA            \n",
      "  41 Mulun Yin (阴目仑)                \t 2812.00 China          \n",
      "  42 Luke Tycksen                   \t 2801.19 USA            \n",
      "  43 Staš Zupanc                    \t 2799.28 Slovenia       \n",
      "  44 Kevin Costello III             \t 2789.29 USA            \n",
      "  45 Brian Johnson                  \t 2781.21 USA            \n",
      "  46 Leon Schmidtchen               \t 2780.67 Germany        \n",
      "  47 Tymon Kolasiński               \t 2775.10 Poland         \n",
      "  48 Henri Gerber                   \t 2772.52 Germany        \n",
      "  49 Łukasz Burliga                 \t 2766.24 Poland         \n",
      "  50 Firstian Fushada (符逢城)         \t 2762.86 Indonesia      \n",
      "  51 Juliette Sébastien             \t 2761.62 France         \n",
      "  52 Maciej Czapiewski              \t 2757.27 Poland         \n",
      "  53 Morten Arborg                  \t 2756.07 Norway         \n",
      "  54 Kaijun Lin (林恺俊)               \t 2752.87 China          \n",
      "  55 Dawei Xu (徐大卫)                 \t 2749.04 China          \n",
      "  56 Max Siauw                      \t 2748.84 USA            \n",
      "  57 Nicolás Sánchez                \t 2747.32 USA            \n",
      "  58 Arifumi Fushimi (伏見有史)         \t 2746.79 Japan          \n",
      "  59 Yinqin Li (李尹钦)                \t 2741.16 China          \n",
      "  60 Zhouheng Sun (孙舟横)             \t 2732.92 China          \n",
      "  61 Daniel Wannamaker              \t 2728.07 USA            \n",
      "  62 Mika Smulders                  \t 2723.40 Netherlands    \n",
      "  63 Richard Jay S. Apagar          \t 2722.58 Philippines    \n",
      "  64 Kai-Wen Wang (王楷文)             \t 2721.04 Taiwan         \n",
      "  65 Andrey Che                     \t 2716.40 Russia         \n",
      "  66 Yusheng Du (杜宇生)               \t 2712.00 China          \n",
      "  67 Vijay Kishore                  \t 2710.69 India          \n",
      "  68 Andrew Ricci                   \t 2705.72 USA            \n",
      "  69 Arnav Arora                    \t 2705.50 India          \n",
      "  70 Sean Belke                     \t 2705.49 USA            \n",
      "  71 Harry Savage                   \t 2704.59 United Kingdom \n",
      "  72 Reinier Schippers              \t 2702.47 Netherlands    \n",
      "  73 Weihao Kong (孔维浩)              \t 2700.14 China          \n",
      "  74 Mattias Uvesten                \t 2699.90 Sweden         \n",
      "  75 Jakub Kipa                     \t 2695.29 Poland         \n",
      "  76 Aryan Chhabra                  \t 2692.77 India          \n",
      "  77 Brody Lassner                  \t 2692.60 USA            \n",
      "  78 Daniel Wallin                  \t 2688.41 Sweden         \n",
      "  79 Blake Thompson                 \t 2684.58 USA            \n",
      "  80 Jonathan Esparaz               \t 2682.87 Canada         \n",
      "  81 Jonah Crosby                   \t 2678.36 USA            \n",
      "  82 Ivan Li Ka Leong (李嘉亮)         \t 2674.75 Hong Kong      \n",
      "  83 Samuel Brenner                 \t 2673.68 USA            \n",
      "  84 Abdelhak Kaddour               \t 2670.72 France         \n",
      "  85 Kavin Tangtartharakul          \t 2670.08 USA            \n",
      "  86 Tommy Kiprillis                \t 2668.38 Australia      \n",
      "  87 Weixing Zhang (张炜星)            \t 2665.69 China          \n",
      "  88 Yinghao Wang (王鹰豪)             \t 2663.78 China          \n",
      "  89 Kennan LeJeune                 \t 2662.98 USA            \n",
      "  90 AJ Kamal                       \t 2662.45 USA            \n",
      "  91 Kailong Li (李开隆)               \t 2659.93 China          \n",
      "  92 Bautista Bonazzola             \t 2659.80 Argentina      \n",
      "  93 Ivan Vynnyk (Іван Винник)      \t 2657.64 Ukraine        \n",
      "  94 Wong Kin Lok (黃健樂)             \t 2657.11 Hong Kong      \n",
      "  95 Elian Beguec                   \t 2654.95 France         \n",
      "  96 Sergey Ryabko                  \t 2652.47 Russia         \n",
      "  97 Carlos Méndez García-Barroso   \t 2651.29 Spain          \n",
      "  98 Jakob Gunnarsson               \t 2650.13 Sweden         \n",
      "  99 Rasmus Stub Detlefsen          \t 2648.98 Denmark        \n",
      " 100 Will Newhoff                   \t 2648.72 USA            \n",
      " 101 SeungBeom Cho (조승범)            \t 2646.94 Korea          \n",
      " 102 Przemysław Kaleta              \t 2646.33 Poland         \n",
      " 103 Rituraj Sohoni                 \t 2644.50 India          \n",
      " 104 George Scholey                 \t 2643.35 United Kingdom \n",
      " 105 Haowei Fan (樊浩玮)               \t 2642.46 China          \n",
      " 106 Kai Su (苏锴)                    \t 2637.71 China          \n",
      " 107 Szymon Malinowski              \t 2637.60 Poland         \n",
      " 108 Eric Limeback                  \t 2635.90 Canada         \n",
      " 109 Pablo Contreras                \t 2634.91 France         \n",
      " 110 Mahith Bandi                   \t 2631.72 USA            \n",
      " 111 Ray Bai                        \t 2631.24 USA            \n",
      " 112 Ethan Jan                      \t 2629.80 USA            \n",
      " 113 Oliver Fritz                   \t 2626.83 Germany        \n",
      " 114 Hunor Mogyorósi                \t 2626.67 Hungary        \n",
      " 115 Maksym Yeli (Максим Єлі)       \t 2625.13 Ukraine        \n",
      " 116 Martin Brath                   \t 2620.83 Germany        \n",
      " 117 Leo Borromeo                   \t 2618.91 Philippines    \n",
      " 118 Mykyta Tytar (Микита Титарь)   \t 2618.89 Ukraine        \n",
      " 119 Paul Mahvi                     \t 2615.32 USA            \n",
      " 120 Amos Nordman                   \t 2611.27 Finland        \n",
      " 121 Igor Ośmiałowski               \t 2608.67 Poland         \n",
      " 122 Sheng Cao (曹晟)                 \t 2608.04 China          \n",
      " 123 Pedro Alejandro Condo Tellez   \t 2605.61 Peru           \n",
      " 124 Lin Chen (陈霖)                  \t 2605.37 China          \n",
      " 125 Luke Garrett                   \t 2602.38 USA            \n",
      " 126 Doyul Kim (김도율)                \t 2601.88 Korea          \n",
      " 127 Tanzer Balimtas                \t 2599.28 USA            \n",
      " 128 Amod Mathur                    \t 2598.88 USA            \n",
      " 129 Pavel Galaktionov              \t 2598.05 Russia         \n",
      " 130 Anthony Brooks                 \t 2594.08 USA            \n",
      " 131 Linus Laurén                   \t 2593.06 Finland        \n",
      " 132 Jr-Wei Jang (張智瑋)              \t 2592.97 Taiwan         \n",
      " 133 Zixuan Yang (杨子轩)              \t 2591.11 China          \n",
      " 134 Jan Zych                       \t 2589.86 Poland         \n",
      " 135 Ihor Bilchenko (Ігор Біл...    \t 2589.81 Ukraine        \n",
      " 136 Jeff Park                      \t 2586.38 USA            \n",
      " 137 Yang Li (李扬)                   \t 2584.70 China          \n",
      " 138 Eva Kato                       \t 2583.09 USA            \n",
      " 139 Bartłomiej Owczarek            \t 2582.13 Poland         \n",
      " 140 Ernesto Gutiérrez Cuba         \t 2581.66 Peru           \n",
      " 141 Pedro Roque                    \t 2581.16 Brazil         \n",
      " 142 Vishantak Srikrishna           \t 2580.40 USA            \n",
      " 143 Rushil Dalal                   \t 2577.21 India          \n",
      " 144 Alex Johnson                   \t 2571.50 USA            \n",
      " 145 Jonathan Hamstad               \t 2568.22 Norway         \n",
      " 146 Bhargav Narasimhan             \t 2567.78 India          \n",
      " 147 Jiazhou Li (李佳洲)               \t 2567.25 China          \n",
      " 148 Eder Olivencia Gonzalez        \t 2566.38 Spain          \n",
      " 149 Juan Pablo Huanqui             \t 2565.04 Peru           \n",
      " 150 Marcin Zalewski                \t 2564.69 Poland         \n",
      " 151 Matěj Grohmann                 \t 2564.66 Czech Republic \n",
      " 152 Justin Mallari                 \t 2563.82 USA            \n",
      " 153 Sei Sugama (洲鎌星)               \t 2562.91 Japan          \n",
      " 154 Lev Holub (Лев Голуб)          \t 2562.91 Ukraine        \n",
      " 155 Nicolas Gertner                \t 2562.56 France         \n",
      " 156 Kieran Dizon                   \t 2561.17 USA            \n"
     ]
    },
    {
     "ename": "StringIndexError",
     "evalue": "StringIndexError(\"Nikita Kovalchuk (Нікіта Ковальчук)\", 30)",
     "output_type": "error",
     "traceback": [
      "StringIndexError(\"Nikita Kovalchuk (Нікіта Ковальчук)\", 30)",
      "",
      "Stacktrace:",
      " [1] string_index_err(::String, ::Int64) at ./strings/string.jl:12",
      " [2] getindex(::String, ::UnitRange{Int64}) at ./strings/string.jl:246",
      " [3] macro expansion at ./printf.jl:161 [inlined]",
      " [4] printRatings(::Array{Tuple{Any,Any},1}) at ./In[69]:2",
      " [5] top-level scope at In[70]:1"
     ]
    }
   ],
   "source": [
    "printRatings(RatingList)"
   ]
  },
  {
   "cell_type": "code",
   "execution_count": null,
   "metadata": {},
   "outputs": [],
   "source": []
  }
 ],
 "metadata": {
  "kernelspec": {
   "display_name": "Julia 1.0.1",
   "language": "julia",
   "name": "julia-1.0"
  },
  "language_info": {
   "file_extension": ".jl",
   "mimetype": "application/julia",
   "name": "julia",
   "version": "1.0.1"
  }
 },
 "nbformat": 4,
 "nbformat_minor": 2
}
