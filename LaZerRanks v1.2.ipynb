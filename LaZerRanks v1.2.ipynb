{
 "cells": [
  {
   "cell_type": "code",
   "execution_count": 1,
   "metadata": {},
   "outputs": [],
   "source": [
    "using Dates, JLD2, FileIO, Unicode, Plots, Printf, JuliaDB;"
   ]
  },
  {
   "cell_type": "code",
   "execution_count": 2,
   "metadata": {},
   "outputs": [
    {
     "data": {
      "text/plain": [
       "makeCompDict (generic function with 1 method)"
      ]
     },
     "execution_count": 2,
     "metadata": {},
     "output_type": "execute_result"
    }
   ],
   "source": [
    "function makeCompDict(wcafile)\n",
    "    compids = String[]\n",
    "    compdates = Date[]\n",
    "    lines = readlines(wcafile)\n",
    "    for i = 2:length(lines) # skip header line\n",
    "        line = lines[i]\n",
    "        data = split(line, \"\\t\")\n",
    "        push!(compids, data[1])\n",
    "        compdate = string(data[6], \"-\", data[7], \"-\", data[8])\n",
    "        push!(compdates, Date(compdate, \"y-m-d\"))\n",
    "    end\n",
    "        compDict = Dict(zip(compids, compdates))\n",
    "        sortedCompsArray = sort(collect(zip(values(compDict),keys(compDict))))\n",
    "    \n",
    "    return compDict, sortedCompsArray\n",
    "end"
   ]
  },
  {
   "cell_type": "code",
   "execution_count": 3,
   "metadata": {},
   "outputs": [
    {
     "data": {
      "text/plain": [
       "makeResults (generic function with 1 method)"
      ]
     },
     "execution_count": 3,
     "metadata": {},
     "output_type": "execute_result"
    }
   ],
   "source": [
    "function makeResults(wcafile)\n",
    "    results = Any[]\n",
    "    lines = readlines(wcafile)\n",
    "    for i = 2:length(lines) # skip header line\n",
    "        line = lines[i]\n",
    "        data = split(line, \"\\t\")\n",
    "        compid = data[1]\n",
    "        rs = [data[8], data[2], compDict[compid], parse(Int, data[11]), parse(Int, data[12]), parse(Int, data[13]), parse(Int, data[14]), parse(Int, data[15]), data[7], data[9]]\n",
    "        push!(results, rs)\n",
    "    end\n",
    "    \n",
    "    return results\n",
    "end"
   ]
  },
  {
   "cell_type": "code",
   "execution_count": 4,
   "metadata": {},
   "outputs": [
    {
     "data": {
      "text/plain": [
       "makeEventResults (generic function with 1 method)"
      ]
     },
     "execution_count": 4,
     "metadata": {},
     "output_type": "execute_result"
    }
   ],
   "source": [
    "function makeEventResults(event)\n",
    "    k = findall(x -> x[2] == event, Allresults)\n",
    "    return Allresults[k]\n",
    "end"
   ]
  },
  {
   "cell_type": "code",
   "execution_count": 5,
   "metadata": {
    "scrolled": true
   },
   "outputs": [
    {
     "data": {
      "text/plain": [
       "findPersonResults (generic function with 1 method)"
      ]
     },
     "execution_count": 5,
     "metadata": {},
     "output_type": "execute_result"
    }
   ],
   "source": [
    "function findPersonResults(personid)\n",
    "    personresults = []\n",
    "    for i in 1:length(results)\n",
    "        if results[i][1] == personid\n",
    "            push!(personresults, results[i])\n",
    "        end\n",
    "    end\n",
    "    return personresults\n",
    "end"
   ]
  },
  {
   "cell_type": "code",
   "execution_count": 6,
   "metadata": {},
   "outputs": [
    {
     "data": {
      "text/plain": [
       "genAllDates (generic function with 1 method)"
      ]
     },
     "execution_count": 6,
     "metadata": {},
     "output_type": "execute_result"
    }
   ],
   "source": [
    "function genAllDates(event)\n",
    "    compDict, sortedCompsArray = makeCompDict(\"WCA_export_Competitions.tsv\")\n",
    "    output = []\n",
    "    lengthOfComps = length(sortedCompsArray)\n",
    "    for i in 1:length(sortedCompsArray)\n",
    "        date = sortedCompsArray[i][1]\n",
    "        count = 0\n",
    "        roundTypes = [\"0\", \"1\", \"2\", \"3\", \"b\", \"c\", \"d\", \"e\", \"f\", \"g\", \"h\"]\n",
    "        for j in 1:length(roundTypes)\n",
    "            if isRound(sortedCompsArray[i][2], event, roundTypes[j])\n",
    "                count+=1\n",
    "            end\n",
    "        end\n",
    "        for i in 1:count\n",
    "            push!(output, date)\n",
    "        end\n",
    "        print(\"\\r $i / $lengthOfComps Comps  ||  $date\")\n",
    "    end\n",
    "    return output\n",
    "end"
   ]
  },
  {
   "cell_type": "code",
   "execution_count": 7,
   "metadata": {},
   "outputs": [
    {
     "data": {
      "text/plain": [
       "LaZerRating (generic function with 1 method)"
      ]
     },
     "execution_count": 7,
     "metadata": {},
     "output_type": "execute_result"
    }
   ],
   "source": [
    "function LaZerRating(id, event, startDate, endDate, resultsDict)\n",
    "    wcalimit = 60000 # 10:00 minutes (wca time limit)\n",
    "    k = 43252003274489856000\n",
    "    \n",
    "    if !(haskey(resultsDict, id))\n",
    "        rating = NaN\n",
    "        nsolves = 0\n",
    "        name = \"\"\n",
    "        country = \"\"\n",
    "        best = NaN\n",
    "        lastcomp = 0\n",
    "        wcaid = id\n",
    "        return rating,nsolves,country,name,best,lastcomp, id\n",
    "    end\n",
    "    \n",
    "    Allrs = resultsDict[id]\n",
    "    rs = []\n",
    "    sdate = Date(startDate[1], startDate[2], startDate[3])\n",
    "    edate = Date(endDate[1], endDate[2], endDate[3])\n",
    "    for i in Allrs\n",
    "        if i[3] < edate && i[3] > sdate\n",
    "            push!(rs, i)\n",
    "        end\n",
    "    end\n",
    "\n",
    "    if length(rs) == 0\n",
    "        rating = NaN\n",
    "        nsolves = 0\n",
    "        name = \"\"\n",
    "        country = \"\"\n",
    "        best = NaN\n",
    "        lastcomp = 0\n",
    "        wcaid = id\n",
    "        return rating,nsolves,country,name,best,lastcomp, id\n",
    "    end\n",
    "\n",
    "    times = []\n",
    "    for i in 1:length(rs), j in 4:8\n",
    "        x = findall(x -> x == -1, rs[i])\n",
    "        if length(x) >= 1\n",
    "            if j != x[1]\n",
    "                push!(times, rs[i][j])\n",
    "            end\n",
    "        else\n",
    "            if rs[i][j] != maximum(rs[i][4:8])\n",
    "                push!(times, rs[i][j])\n",
    "            end\n",
    "        end \n",
    "    end\n",
    "\n",
    "    dates = []\n",
    "    for i in 1:length(rs)\n",
    "        append!(dates, repeat([rs[i][3]], inner=4))\n",
    "    end\n",
    "\n",
    "    skipk = findall(x-> x != -1 && x != -2 && x != 0, times)\n",
    "\n",
    "    weights = []\n",
    "    for i in 1:length(skipk)\n",
    "        push!(weights, 1/(edate - dates[skipk][i]).value)\n",
    "    end\n",
    "\n",
    "    if length(weights) == 0\n",
    "        rating = NaN\n",
    "        nsolves = 0\n",
    "        name = \"\"\n",
    "        country = \"\"\n",
    "        best = NaN\n",
    "        lastcomp = 0\n",
    "        wcaid = id\n",
    "        return rating,nsolves,country,name,best,lastcomp, id\n",
    "    else\n",
    "        sw = sum(weights)\n",
    "    end\n",
    "\n",
    "    weighted_times = []\n",
    "    for i in 1:length(skipk)\n",
    "        push!(weighted_times, times[skipk][i]*weights[i])\n",
    "    end\n",
    "\n",
    "    rating = sum(weighted_times)/sw/100\n",
    "\n",
    "    #percent DNF\n",
    "    if event == \"777\" || event == \"666\" || event == \"333fm\" || event == \"333ft\" || event == \"333bf\"\n",
    "        nsolves = length(rs)*5-(2/5)*length(rs)*5\n",
    "    else\n",
    "        nsolves = length(rs)*5\n",
    "    end\n",
    "\n",
    "    #additional person Info\n",
    "    name = rs[1][9]\n",
    "    country = rs[1][10]\n",
    "\n",
    "    #best time\n",
    "    if event == \"333fm\"\n",
    "        best = minimum(times[skipk])\n",
    "        rating = rating*100\n",
    "    else\n",
    "        best = minimum(times[skipk])/100\n",
    "    end\n",
    "    \n",
    "    lastcomp = dates[end]\n",
    "    wcaid = rs[1][1]\n",
    "\n",
    "    return rating,nsolves,country,name,best,lastcomp, wcaid\n",
    "end"
   ]
  },
  {
   "cell_type": "code",
   "execution_count": 8,
   "metadata": {},
   "outputs": [
    {
     "data": {
      "text/plain": [
       "printrt (generic function with 1 method)"
      ]
     },
     "execution_count": 8,
     "metadata": {},
     "output_type": "execute_result"
    }
   ],
   "source": [
    "function printrt(rt)\n",
    "    htb = @sprintf \"%4s %-30s \\t %7s %6s %-15s %6s %-10s\" \"Rank\" \"Name\" \"Rating\" \"Best\" \"Citizen of\" \"Solves\" \"Date Achieved\"\n",
    "    println(htb)\n",
    "    for i in 1:length(rt)\n",
    "        name = Unicode.normalize(rt[i][4])\n",
    "        printname = \"\"\n",
    "        for i = firstindex(name):min(lastindex(name), 30)\n",
    "            try\n",
    "                printname *= name[i]\n",
    "            catch \n",
    "                # ignore the index error\n",
    "            end\n",
    "        end\n",
    "        if lastindex(name) >= 30\n",
    "            printname *= \"...\"\n",
    "        end\n",
    "        tb = @sprintf \"%4d %30s \\t %7.3f %6.2f %-15s %6d %10s\" i  rpad(printname, 30) rt[i][1] rt[i][5] rpad(rt[i][3], 15) rt[i][2] rt[i][6]\n",
    "        println(tb)\n",
    "    end\n",
    "end\n"
   ]
  },
  {
   "cell_type": "code",
   "execution_count": 9,
   "metadata": {},
   "outputs": [
    {
     "data": {
      "text/plain": [
       "findRanks (generic function with 1 method)"
      ]
     },
     "execution_count": 9,
     "metadata": {},
     "output_type": "execute_result"
    }
   ],
   "source": [
    "function findRanks(wcafile, event)\n",
    "    personids = String[]\n",
    "    eventids = String[]\n",
    "    lines = readlines(wcafile)\n",
    "    for i = 2:length(lines) # skip header line\n",
    "        line = lines[i]\n",
    "        data = split(line, \"\\t\")\n",
    "        push!(personids, data[1])\n",
    "        push!(eventids, data[2])\n",
    "    end\n",
    "\n",
    "    k = findall(x -> x == event, eventids)\n",
    "    personsArray = personids[k]\n",
    "\n",
    "    return personsArray\n",
    "end"
   ]
  },
  {
   "cell_type": "code",
   "execution_count": 10,
   "metadata": {},
   "outputs": [
    {
     "data": {
      "text/plain": [
       "genRatings (generic function with 1 method)"
      ]
     },
     "execution_count": 10,
     "metadata": {},
     "output_type": "execute_result"
    }
   ],
   "source": [
    "function genRatings(event, num, startDate, endDate, resultsDict)\n",
    "    Allranks = findRanks(\"WCA_export_RanksSingle.tsv\", event)\n",
    "    ranks = []\n",
    "    for i in Allranks\n",
    "        if parse(Int, i[1:4]) <= endDate[1]\n",
    "            push!(ranks, i)\n",
    "        end\n",
    "    end\n",
    "    ratingList = []\n",
    "    for i in 1:length(ranks)\n",
    "        lengthRanks = length(ranks)\n",
    "        person = ranks[i]\n",
    "        push!(ratingList, LaZerRating(ranks[i], event, startDate, endDate, resultsDict))\n",
    "        #print(\"\\r $i / $lengthRanks || $person\")\n",
    "    end\n",
    "    ratingList = sort(ratingList)\n",
    "    if num == 0\n",
    "        num = length(ratingList)\n",
    "    end\n",
    "    outputRatingList = []\n",
    "    for i in ratingList[1:num]\n",
    "        if i[1] != NaN\n",
    "            push!(outputRatingList, i)\n",
    "        end\n",
    "    end\n",
    "    #printrt(outputRatingList)\n",
    "    return outputRatingList\n",
    "end"
   ]
  },
  {
   "cell_type": "code",
   "execution_count": 11,
   "metadata": {},
   "outputs": [
    {
     "data": {
      "text/plain": [
       "genHistory (generic function with 1 method)"
      ]
     },
     "execution_count": 11,
     "metadata": {},
     "output_type": "execute_result"
    }
   ],
   "source": [
    "function genHistory(id, event)\n",
    "    date = Date(2003, 8, 1)\n",
    "    history = []\n",
    "    for i in 1:(round((today() - date).value/30))\n",
    "        date += Dates.Month(1)\n",
    "        endDate = [Dates.year(date), Dates.month(date), Dates.day(date)]\n",
    "        startDate = [Dates.year(date - Dates.Month(6)), Dates.month(date - Dates.Month(6)), \n",
    "                   Dates.day(date - Dates.Month(6))]\n",
    "        rating = LaZerRating(id, event, startDate, endDate, resultsDict)\n",
    "        if date <= today() + Dates.Month(1)\n",
    "            push!(history, [date, rating])\n",
    "        end\n",
    "    end\n",
    "    return history\n",
    "end"
   ]
  },
  {
   "cell_type": "code",
   "execution_count": 12,
   "metadata": {},
   "outputs": [
    {
     "data": {
      "text/plain": [
       "genDates (generic function with 1 method)"
      ]
     },
     "execution_count": 12,
     "metadata": {},
     "output_type": "execute_result"
    }
   ],
   "source": [
    "function genDates()\n",
    "    date = Date(2003, 8, 1)\n",
    "    history = []\n",
    "    for i in 1:(round((today() - date).value/30))\n",
    "        date += Dates.Month(1)\n",
    "        if date <= today() + Dates.Month(1)\n",
    "            push!(history, date)\n",
    "        end\n",
    "    end\n",
    "    return history\n",
    "end"
   ]
  },
  {
   "cell_type": "code",
   "execution_count": 13,
   "metadata": {},
   "outputs": [
    {
     "data": {
      "text/plain": [
       "plotArray (generic function with 1 method)"
      ]
     },
     "execution_count": 13,
     "metadata": {},
     "output_type": "execute_result"
    }
   ],
   "source": [
    "function plotArray(id, event)\n",
    "    full = genHistory(id, event)\n",
    "    out = []\n",
    "    for x in full\n",
    "        push!(out, x[2][1])\n",
    "    end\n",
    "    return out\n",
    "end"
   ]
  },
  {
   "cell_type": "code",
   "execution_count": 14,
   "metadata": {},
   "outputs": [
    {
     "data": {
      "text/plain": [
       "plotArrays (generic function with 1 method)"
      ]
     },
     "execution_count": 14,
     "metadata": {},
     "output_type": "execute_result"
    }
   ],
   "source": [
    "function plotArrays(event)\n",
    "    ids = plotIds(event)\n",
    "    plotAs = []\n",
    "    for id in ids\n",
    "        push!(plotAs, plotArray(id, event))\n",
    "        print(\"\\r$id\")\n",
    "    end\n",
    "    return ids, plotAs\n",
    "end"
   ]
  },
  {
   "cell_type": "code",
   "execution_count": 15,
   "metadata": {},
   "outputs": [
    {
     "data": {
      "text/plain": [
       "genResultsDict (generic function with 1 method)"
      ]
     },
     "execution_count": 15,
     "metadata": {},
     "output_type": "execute_result"
    }
   ],
   "source": [
    "function genResultsDict(event)\n",
    "    results = makeEventResults(event)\n",
    "    wcaids = findRanks(\"WCA_export_RanksSingle.tsv\", event)\n",
    "    resultsDict = Dict()\n",
    "    for id in wcaids\n",
    "        resultsDict[id] = []\n",
    "    end\n",
    "    for r in results\n",
    "        if haskey(resultsDict, r[1])\n",
    "            resultsDict[r[1]] = push!(resultsDict[r[1]], r)\n",
    "        end\n",
    "    end\n",
    "    return resultsDict\n",
    "end"
   ]
  },
  {
   "cell_type": "code",
   "execution_count": 16,
   "metadata": {},
   "outputs": [
    {
     "data": {
      "text/plain": [
       "plotIds (generic function with 1 method)"
      ]
     },
     "execution_count": 16,
     "metadata": {},
     "output_type": "execute_result"
    }
   ],
   "source": [
    "function plotIds(event)\n",
    "    date = Date(2004, 1, 1)\n",
    "    ids = []\n",
    "    for i in 1:(round((today() - date).value/30.44/6))\n",
    "        date += Dates.Month(6)\n",
    "        endDate = [Dates.year(date), Dates.month(date), Dates.day(date)]\n",
    "        startDate = [Dates.year(date - Dates.Month(6)), Dates.month(date - Dates.Month(6)), \n",
    "                   Dates.day(date - Dates.Month(6))]\n",
    "        ratings = genRatings(event, 100, startDate, endDate)\n",
    "        for r in ratings\n",
    "            push!(ids, r[7])        \n",
    "        end\n",
    "    end\n",
    "    truncatedIds = []\n",
    "    for id in ids\n",
    "        if !in(id, truncatedIds)\n",
    "            push!(truncatedIds, id)\n",
    "        end\n",
    "    end\n",
    "    return truncatedIds\n",
    "end"
   ]
  },
  {
   "cell_type": "code",
   "execution_count": 17,
   "metadata": {},
   "outputs": [
    {
     "data": {
      "text/plain": [
       "genTable (generic function with 1 method)"
      ]
     },
     "execution_count": 17,
     "metadata": {},
     "output_type": "execute_result"
    }
   ],
   "source": [
    "function genTable(ratings)\n",
    "    rankA = Int[]\n",
    "    ratingA = Float64[]\n",
    "    nsolvesA = Int[]\n",
    "    countryA = String[]\n",
    "    nameA = String[]\n",
    "    bestA = Float64[]\n",
    "    dateA = Any[]\n",
    "    wcaidA = String[]\n",
    "    for i in 1:length(ratings)\n",
    "        push!(rankA, i)\n",
    "        push!(ratingA, ratings[i][1])\n",
    "        push!(nsolvesA, round(ratings[i][2]))\n",
    "        push!(countryA, ratings[i][3])\n",
    "        push!(nameA, ratings[i][4])\n",
    "        push!(bestA, ratings[i][5])\n",
    "        push!(dateA, ratings[i][6])\n",
    "        push!(wcaidA, ratings[i][7])\n",
    "    end\n",
    "    outTable = table(rankA, ratingA, nsolvesA, countryA, nameA, bestA, dateA, wcaidA, \n",
    "                     names=[:Rank, :Rating, :nSolves, :Country, :Name, :Best, :Date, :WcaId])\n",
    "    return outTable\n",
    "end"
   ]
  },
  {
   "cell_type": "code",
   "execution_count": 18,
   "metadata": {},
   "outputs": [
    {
     "data": {
      "text/plain": [
       "genTop1000CSV (generic function with 1 method)"
      ]
     },
     "execution_count": 18,
     "metadata": {},
     "output_type": "execute_result"
    }
   ],
   "source": [
    "function genTop1000CSV(event)\n",
    "    resultsDict = genResultsDict(event)\n",
    "    ratings = genRatings(event, 1000, startDate, endDate, resultsDict)\n",
    "    filename = event*\"Top1000_Jan_2019.csv\"\n",
    "    FileIO.save(\"$filename\", genTable(ratings))\n",
    "end"
   ]
  },
  {
   "cell_type": "code",
   "execution_count": 19,
   "metadata": {},
   "outputs": [
    {
     "data": {
      "text/plain": [
       "genTop300CSV (generic function with 1 method)"
      ]
     },
     "execution_count": 19,
     "metadata": {},
     "output_type": "execute_result"
    }
   ],
   "source": [
    "function genTop300CSV(event, date)\n",
    "    resultsDict = genResultsDict(event)\n",
    "    ratings = genRatings(event, 300, startDate, endDate, resultsDict)\n",
    "    filename = event*\"Top300_Jan_2019.csv\"\n",
    "    FileIO.save(\"$filename\", genTable(ratings))\n",
    "end"
   ]
  },
  {
   "cell_type": "code",
   "execution_count": 20,
   "metadata": {},
   "outputs": [
    {
     "data": {
      "text/plain": [
       "genCSV (generic function with 1 method)"
      ]
     },
     "execution_count": 20,
     "metadata": {},
     "output_type": "execute_result"
    }
   ],
   "source": [
    "function genCSV(event, date)\n",
    "    resultsDict = genResultsDict(event)\n",
    "    ratings = genRatings(event, 0, startDate, endDate, resultsDict)\n",
    "    filename = \"\"*event*\"_\"*date*\".csv\"\n",
    "    FileIO.save(filename, genTable(ratings))\n",
    "end"
   ]
  },
  {
   "cell_type": "code",
   "execution_count": 21,
   "metadata": {},
   "outputs": [
    {
     "data": {
      "text/plain": [
       "genAllTop1000CSV (generic function with 1 method)"
      ]
     },
     "execution_count": 21,
     "metadata": {},
     "output_type": "execute_result"
    }
   ],
   "source": [
    "function genAllTop1000CSV(date)\n",
    "    genTop1000CSV(\"222\", date)\n",
    "    genTop1000CSV(\"333\", date)\n",
    "    genTop1000CSV(\"444\", date)\n",
    "    genTop1000CSV(\"555\", date)\n",
    "    genTop1000CSV(\"666\", date)\n",
    "    genTop1000CSV(\"777\", date)\n",
    "    genTop1000CSV(\"minx\", date)\n",
    "    genTop1000CSV(\"pyram\", date)\n",
    "    genTop1000CSV(\"skewb\", date)\n",
    "    genTop1000CSV(\"sq1\", date)\n",
    "    genTop1000CSV(\"clock\", date)\n",
    "    genTop1000CSV(\"333oh\", date)\n",
    "    genTop1000CSV(\"333bf\", date)\n",
    "    genTop1000CSV(\"333ft\", date)\n",
    "    genTop1000CSV(\"333fm\", date)\n",
    "    genTop300CSV(\"444bf\", date)\n",
    "    genTop300CSV(\"555bf\", date)\n",
    "end"
   ]
  },
  {
   "cell_type": "code",
   "execution_count": 22,
   "metadata": {},
   "outputs": [
    {
     "data": {
      "text/plain": [
       "genAllCSV (generic function with 1 method)"
      ]
     },
     "execution_count": 22,
     "metadata": {},
     "output_type": "execute_result"
    }
   ],
   "source": [
    "function genAllCSV(date)\n",
    "    genCSV(\"222\", date)\n",
    "    genCSV(\"333\", date)\n",
    "    genCSV(\"444\", date)\n",
    "    genCSV(\"555\", date)\n",
    "    genCSV(\"666\", date)\n",
    "    genCSV(\"777\", date)\n",
    "    genCSV(\"minx\", date)\n",
    "    genCSV(\"pyram\", date)\n",
    "    genCSV(\"skewb\", date)\n",
    "    genCSV(\"sq1\", date)\n",
    "    genCSV(\"clock\", date)\n",
    "    genCSV(\"333oh\", date)\n",
    "    genCSV(\"333bf\", date)\n",
    "    genCSV(\"333ft\", date)\n",
    "    genCSV(\"333fm\", date)\n",
    "    genCSV(\"444bf\", date)\n",
    "    genCSV(\"555bf\", date)\n",
    "end"
   ]
  },
  {
   "cell_type": "code",
   "execution_count": 23,
   "metadata": {},
   "outputs": [
    {
     "data": {
      "text/plain": [
       "(Dict(\"JaenMountainCubes2018\"=>2018-10-13,\"HelsinkiBlindWeekend2015\"=>2015-08-15,\"SanLorenzoInvierno2015\"=>2015-08-15,\"AustrianOpen2016\"=>2016-06-18,\"TokaiOpen2014\"=>2014-12-06,\"FinnishOpen2016\"=>2016-04-16,\"DniproCubeGeneration2018\"=>2018-04-28,\"ThailandChampionship2014\"=>2014-06-21,\"IICEFETMGUAIBitsOpen2018\"=>2018-05-05,\"ByczyCubeRace2017\"=>2017-06-24…), Tuple{Date,String}[(1982-06-05, \"WC1982\"), (2003-08-23, \"WC2003\"), (2003-10-11, \"DutchOpen2003\"), (2004-01-24, \"CaltechWinter2004\"), (2004-04-03, \"CaltechSpring2004\"), (2004-04-16, \"France2004\"), (2004-04-24, \"GermanOpen2004\"), (2004-07-10, \"US2004\"), (2004-08-07, \"Euro2004\"), (2004-10-10, \"DutchOpen2004\")  …  (2019-06-08, \"HighWycombeOpen2019\"), (2019-06-29, \"BritishSummerOpen2019\"), (2019-06-29, \"SwisscubingCupIII2019\"), (2019-07-03, \"WarmUpCanberra2019\"), (2019-07-05, \"VisayasChampionship2019\"), (2019-07-06, \"WarmUpSydney2019\"), (2019-07-11, \"WC2019\"), (2019-07-13, \"CubingHeredia2019\"), (2019-08-01, \"CubingUSANationals2019\"), (2019-09-28, \"LiechtensteinOpen2019\")])"
      ]
     },
     "execution_count": 23,
     "metadata": {},
     "output_type": "execute_result"
    }
   ],
   "source": [
    "compDict, sortedCompsArray = makeCompDict(\"WCA_export_Competitions.tsv\")"
   ]
  },
  {
   "cell_type": "code",
   "execution_count": 24,
   "metadata": {
    "collapsed": true
   },
   "outputs": [
    {
     "data": {
      "text/plain": [
       "2020611-element Array{Any,1}:\n",
       " Any[\"2007AMAN01\", \"333\", 2007-09-01, 1968, 2203, 2138, 2139, 2108, \"Etienne Amany\", \"Cote d_Ivoire\"]   \n",
       " Any[\"2004ROUA01\", \"333\", 2007-09-01, 2222, 2153, 1731, 2334, 2046, \"Thomas Rouault\", \"France\"]         \n",
       " Any[\"2005SIMO01\", \"333\", 2007-09-01, 3430, 2581, 2540, 2789, 2305, \"Antoine Simon-Chautemps\", \"France\"]\n",
       " Any[\"2007MALL01\", \"333\", 2007-09-01, 2715, 2452, 2868, 2632, 2564, \"Irène Mallordy\", \"France\"]         \n",
       " Any[\"2007DESM01\", \"333\", 2007-09-01, 2921, 3184, 2891, 2677, 2907, \"Marlène Desmaisons\", \"France\"]     \n",
       " Any[\"2003DENN01\", \"333\", 2007-09-01, 3309, 1869, 2558, 2930, 3241, \"Ton Dennenbroek\", \"Netherlands\"]   \n",
       " Any[\"2006GALE01\", \"333\", 2007-09-01, 2530, 2696, 2411, 5512, 3503, \"Arnaud van Galen\", \"Netherlands\"]  \n",
       " Any[\"2007CORN01\", \"333\", 2007-09-01, 2844, 3861, 2628, 3885, 2385, \"Cyrille Cornu\", \"France\"]          \n",
       " Any[\"2005WOIT01\", \"333\", 2007-09-01, 3084, 3163, 3087, 3498, 2639, \"Christophe Woittequand\", \"France\"] \n",
       " Any[\"2007POIN01\", \"333\", 2007-09-01, 3387, 3034, 3373, 3430, 2687, \"Georges Poinsot\", \"France\"]        \n",
       " Any[\"2007LEMO01\", \"333\", 2007-09-01, 4006, 3495, 3563, 2953, 2934, \"Laetitia Lemoine\", \"France\"]       \n",
       " Any[\"2006MATH01\", \"333\", 2007-09-01, 4273, 4303, 3688, 3062, 3885, \"Jean-Louis Mathieu\", \"France\"]     \n",
       " Any[\"2007TERR01\", \"333\", 2007-09-01, 4497, 3609, 4541, 4367, 4425, \"Guillaume Terrancle\", \"France\"]    \n",
       " ⋮                                                                                                      \n",
       " Any[\"2009WOLF01\", \"555\", 2019-02-02, 14496, 15420, 0, 0, 0, \"Aaron Wolff\", \"USA\"]                      \n",
       " Any[\"2016BURR01\", \"555\", 2019-02-02, 14759, 16309, 0, 0, 0, \"Zachary Burrow\", \"USA\"]                   \n",
       " Any[\"2018WAIT02\", \"555\", 2019-02-02, 14921, 14810, 0, 0, 0, \"Ryan Waite\", \"USA\"]                       \n",
       " Any[\"2018DORI01\", \"555\", 2019-02-02, 17397, 16633, 0, 0, 0, \"Gregory Dorian\", \"USA\"]                   \n",
       " Any[\"2017REAM01\", \"555\", 2019-02-02, 17069, 18809, 0, 0, 0, \"Charlie Reamer\", \"USA\"]                   \n",
       " Any[\"2018RAJA11\", \"555\", 2019-02-02, 19217, 17518, 0, 0, 0, \"Aarush Raj\", \"USA\"]                       \n",
       " Any[\"2017VOLE01\", \"555\", 2019-02-02, 19665, 18759, 0, 0, 0, \"Rohan Volety\", \"USA\"]                     \n",
       " Any[\"2018KWAR03\", \"555\", 2019-02-02, 21374, 19035, 0, 0, 0, \"Timothy B. Kwartler\", \"USA\"]              \n",
       " Any[\"2018KAIS05\", \"555\", 2019-02-02, 23684, -1, 0, 0, 0, \"Samuel Kaiser\", \"USA\"]                       \n",
       " Any[\"2019MCCA03\", \"555\", 2019-02-02, -1, -2, 0, 0, 0, \"Lucas McCallum\", \"USA\"]                         \n",
       " Any[\"2018COOP01\", \"555\", 2019-02-02, -1, -1, 0, 0, 0, \"Sam Cooperman\", \"USA\"]                          \n",
       " Any[\"2017VERA03\", \"555\", 2019-02-02, -1, -1, 0, 0, 0, \"Nuriel Vera-Degraff\", \"USA\"]                    "
      ]
     },
     "execution_count": 24,
     "metadata": {},
     "output_type": "execute_result"
    }
   ],
   "source": [
    "Allresults = makeResults(\"WCA_export_Results.tsv\")"
   ]
  },
  {
   "cell_type": "code",
   "execution_count": 25,
   "metadata": {},
   "outputs": [
    {
     "data": {
      "text/plain": [
       "([2018, 8, 1], [2019, 2, 1])"
      ]
     },
     "execution_count": 25,
     "metadata": {},
     "output_type": "execute_result"
    }
   ],
   "source": [
    "startDate, endDate = [2018,8,1], [2019,2,1]"
   ]
  },
  {
   "cell_type": "code",
   "execution_count": 26,
   "metadata": {
    "scrolled": true
   },
   "outputs": [],
   "source": [
    "genAllCSV(\"Feb_2019\")"
   ]
  },
  {
   "cell_type": "code",
   "execution_count": 160,
   "metadata": {
    "collapsed": true
   },
   "outputs": [
    {
     "name": "stdout",
     "output_type": "stream",
     "text": [
      "2015SHAY01"
     ]
    },
    {
     "data": {
      "text/plain": [
       "(Any[\"2003MAKI01\", \"2003VAND01\", \"2003BRUC01\", \"2003TEMP01\", \"2004VIEN01\", \"2003BADI01\", \"2004SCHO01\", \"2004BECH01\", \"1982PETR01\", \"2003JANS01\"  …  \"2017WONG01\", \"2016LIGH01\", \"2017KILS01\", \"2016ISID01\", \"2016ULKU01\", \"2013UVES01\", \"2009ALFA01\", \"2014XUDA01\", \"2017YANG59\", \"2015SHAY01\"], Any[Any[22.4075, 22.4075, 22.4075, 22.4075, 22.4075, 18.1527, 16.0837, 16.0837, 15.4207, 15.4207  …  NaN, NaN, NaN, NaN, NaN, NaN, NaN, NaN, NaN, NaN], Any[19.9488, 19.9488, 19.828, 19.828, 19.828, 19.828, 18.87, 18.87, 16.935, 16.935  …  16.5725, NaN, NaN, NaN, NaN, NaN, NaN, NaN, NaN, NaN], Any[21.1375, 21.1375, 20.8589, 20.8589, 20.8589, 20.8589, 18.65, 18.65, 19.3925, 19.3925  …  14.3275, 14.2311, 14.0668, 14.0252, 14.2231, 14.267, 14.1239, 14.2273, 14.0588, 14.1342], Any[23.845, 23.845, 23.845, 23.845, 23.845, 23.845, NaN, NaN, 20.595, 20.595  …  NaN, NaN, NaN, NaN, NaN, NaN, NaN, NaN, NaN, NaN], Any[NaN, NaN, NaN, NaN, NaN, NaN, NaN, NaN, 20.9975, 20.9975  …  NaN, NaN, NaN, NaN, NaN, NaN, NaN, NaN, NaN, NaN], Any[26.335, 26.335, 26.335, 26.335, 26.335, 26.335, NaN, NaN, 21.365, 21.365  …  NaN, NaN, NaN, NaN, NaN, NaN, NaN, NaN, NaN, NaN], Any[NaN, NaN, NaN, NaN, NaN, NaN, NaN, NaN, 22.6267, 22.6267  …  NaN, NaN, NaN, NaN, NaN, NaN, NaN, NaN, NaN, NaN], Any[NaN, NaN, NaN, NaN, NaN, NaN, NaN, NaN, 23.4642, 23.4642  …  NaN, NaN, NaN, NaN, NaN, NaN, NaN, NaN, NaN, NaN], Any[24.9925, 24.9925, 24.9925, 24.9925, 24.9925, 25.6998, 26.0437, 26.0437, 25.6475, 25.6475  …  NaN, NaN, NaN, NaN, NaN, NaN, NaN, NaN, NaN, NaN], Any[33.03, 33.03, 33.1071, 33.1071, 33.1071, 33.1071, 33.26, 33.26, 26.4475, 26.4475  …  NaN, NaN, NaN, NaN, NaN, NaN, NaN, NaN, NaN, NaN]  …  Any[NaN, NaN, NaN, NaN, NaN, NaN, NaN, NaN, NaN, NaN  …  11.3659, 10.9345, 10.3946, 10.0227, 9.76378, 9.56882, 9.21478, 9.13847, 8.72235, 8.29474], Any[NaN, NaN, NaN, NaN, NaN, NaN, NaN, NaN, NaN, NaN  …  8.79871, 8.83681, 8.94364, 8.70026, 8.70026, 8.41793, 8.28491, 8.1612, 8.33942, 8.33691], Any[NaN, NaN, NaN, NaN, NaN, NaN, NaN, NaN, NaN, NaN  …  9.13269, 9.01214, 8.85001, 8.88625, 8.48531, 8.39301, 8.39301, 8.39301, 8.36937, 8.36937], Any[NaN, NaN, NaN, NaN, NaN, NaN, NaN, NaN, NaN, NaN  …  9.00056, 8.9875, 8.9875, 8.70041, 8.70041, 8.577, 8.38083, 8.40591, 8.40079, 8.40329], Any[NaN, NaN, NaN, NaN, NaN, NaN, NaN, NaN, NaN, NaN  …  9.70792, 9.60637, 9.18679, 9.18679, 8.82, 8.73954, 8.69917, 8.65624, 8.41236, 8.41236], Any[NaN, NaN, NaN, NaN, NaN, NaN, NaN, NaN, NaN, NaN  …  9.01279, 9.01279, 9.12033, 8.86148, 8.64165, 8.64165, 8.64165, 8.64165, 8.43337, 8.42228], Any[NaN, NaN, NaN, NaN, NaN, NaN, NaN, NaN, NaN, NaN  …  9.04479, 9.04479, 8.81978, 8.75027, 8.5448, 8.45693, 8.45693, 8.57291, 8.44627, 8.44627], Any[NaN, NaN, NaN, NaN, NaN, NaN, NaN, NaN, NaN, NaN  …  NaN, 8.9325, 8.9325, 8.72697, 8.6938, 8.6938, 8.6938, 8.58825, 8.53613, 8.45689], Any[NaN, NaN, NaN, NaN, NaN, NaN, NaN, NaN, NaN, NaN  …  9.99952, 9.52647, 9.52647, 9.52647, 9.30883, 9.05858, 9.05858, 8.5994, 8.46092, 8.46092], Any[NaN, NaN, NaN, NaN, NaN, NaN, NaN, NaN, NaN, NaN  …  9.14002, 9.11333, 9.11333, 9.11333, NaN, 8.25, 8.25, 8.46738, 8.46738, 8.46738]])"
      ]
     },
     "execution_count": 160,
     "metadata": {},
     "output_type": "execute_result"
    }
   ],
   "source": [
    "ids, plotAs = plotArrays(\"333\")"
   ]
  },
  {
   "cell_type": "code",
   "execution_count": 169,
   "metadata": {
    "collapsed": true
   },
   "outputs": [
    {
     "data": {
      "text/plain": [
       "Dict{Any,Any} with 759 entries:\n",
       "  \"2003CAMA01\" => Any[20.8975, 20.8975, 20.8975, 20.8975, 20.8975, 20.8975, NaN…\n",
       "  \"2007OGAW01\" => Any[NaN, NaN, NaN, NaN, NaN, NaN, NaN, NaN, NaN, NaN  …  NaN,…\n",
       "  \"2004SULL01\" => Any[NaN, NaN, NaN, NaN, NaN, 169.035, 169.035, 169.035, 169.0…\n",
       "  \"2008LIBI01\" => Any[NaN, NaN, NaN, NaN, NaN, NaN, NaN, NaN, NaN, NaN  …  NaN,…\n",
       "  \"2010GARC02\" => Any[NaN, NaN, NaN, NaN, NaN, NaN, NaN, NaN, NaN, NaN  …  8.34…\n",
       "  \"2005LEVI01\" => Any[NaN, NaN, NaN, NaN, NaN, NaN, NaN, NaN, NaN, NaN  …  NaN,…\n",
       "  \"2014SEBA01\" => Any[NaN, NaN, NaN, NaN, NaN, NaN, NaN, NaN, NaN, NaN  …  8.82…\n",
       "  \"2006STEW01\" => Any[NaN, NaN, NaN, NaN, NaN, NaN, NaN, NaN, NaN, NaN  …  NaN,…\n",
       "  \"2006JACQ01\" => Any[NaN, NaN, NaN, NaN, NaN, NaN, NaN, NaN, NaN, NaN  …  NaN,…\n",
       "  \"2004YUAL01\" => Any[NaN, NaN, NaN, NaN, NaN, NaN, NaN, NaN, 54.765, 54.765  ……\n",
       "  \"2010LEEY01\" => Any[NaN, NaN, NaN, NaN, NaN, NaN, NaN, NaN, NaN, NaN  …  NaN,…\n",
       "  \"2004REYP01\" => Any[NaN, NaN, NaN, NaN, NaN, NaN, NaN, NaN, NaN, NaN  …  NaN,…\n",
       "  \"2004JELI01\" => Any[NaN, NaN, NaN, NaN, NaN, NaN, NaN, NaN, NaN, NaN  …  NaN,…\n",
       "  \"2004ZAMO01\" => Any[NaN, NaN, NaN, NaN, NaN, NaN, NaN, NaN, 47.49, 47.49  …  …\n",
       "  \"2004GARC01\" => Any[NaN, NaN, NaN, NaN, NaN, NaN, NaN, NaN, NaN, NaN  …  NaN,…\n",
       "  \"2003PATT01\" => Any[38.8, 38.8, 38.8, 38.8, 38.8, 38.8, NaN, NaN, NaN, NaN  ……\n",
       "  \"2008SEHA01\" => Any[NaN, NaN, NaN, NaN, NaN, NaN, NaN, NaN, NaN, NaN  …  NaN,…\n",
       "  \"2015MANI01\" => Any[NaN, NaN, NaN, NaN, NaN, NaN, NaN, NaN, NaN, NaN  …  8.78…\n",
       "  \"2010KRAU02\" => Any[NaN, NaN, NaN, NaN, NaN, NaN, NaN, NaN, NaN, NaN  …  NaN,…\n",
       "  \"2003TEMP01\" => Any[23.845, 23.845, 23.845, 23.845, 23.845, 23.845, NaN, NaN,…\n",
       "  \"2003KNAP01\" => Any[26.1025, 26.1025, 26.1025, 26.1025, 26.1025, 26.1025, NaN…\n",
       "  \"2007LUCH02\" => Any[NaN, NaN, NaN, NaN, NaN, NaN, NaN, NaN, NaN, NaN  …  14.7…\n",
       "  \"2008CHUC01\" => Any[NaN, NaN, NaN, NaN, NaN, NaN, NaN, NaN, NaN, NaN  …  NaN,…\n",
       "  \"2004FEDE01\" => Any[NaN, NaN, NaN, NaN, NaN, NaN, NaN, NaN, NaN, NaN  …  NaN,…\n",
       "  \"2007WEIY01\" => Any[NaN, NaN, NaN, NaN, NaN, NaN, NaN, NaN, NaN, NaN  …  NaN,…\n",
       "  ⋮            => ⋮"
      ]
     },
     "execution_count": 169,
     "metadata": {},
     "output_type": "execute_result"
    }
   ],
   "source": [
    "plotDict = Dict(zip(ids, plotAs))"
   ]
  },
  {
   "cell_type": "code",
   "execution_count": 192,
   "metadata": {},
   "outputs": [
    {
     "data": {
      "image/svg+xml": [
       "<?xml version=\"1.0\" encoding=\"utf-8\"?>\n",
       "<svg xmlns=\"http://www.w3.org/2000/svg\" xmlns:xlink=\"http://www.w3.org/1999/xlink\" width=\"600\" height=\"400\" viewBox=\"0 0 2400 1600\">\n",
       "<defs>\n",
       "  <clipPath id=\"clip7000\">\n",
       "    <rect x=\"0\" y=\"0\" width=\"2000\" height=\"2000\"/>\n",
       "  </clipPath>\n",
       "</defs>\n",
       "<defs>\n",
       "  <clipPath id=\"clip7001\">\n",
       "    <rect x=\"0\" y=\"0\" width=\"2400\" height=\"1600\"/>\n",
       "  </clipPath>\n",
       "</defs>\n",
       "<polygon clip-path=\"url(#clip7001)\" points=\"\n",
       "0,1600 2400,1600 2400,0 0,0 \n",
       "  \" fill=\"#ffffff\" fill-rule=\"evenodd\" fill-opacity=\"1\"/>\n",
       "<defs>\n",
       "  <clipPath id=\"clip7002\">\n",
       "    <rect x=\"480\" y=\"0\" width=\"1681\" height=\"1600\"/>\n",
       "  </clipPath>\n",
       "</defs>\n",
       "<polygon clip-path=\"url(#clip7001)\" points=\"\n",
       "188.156,1503.47 2321.26,1503.47 2321.26,47.2441 188.156,47.2441 \n",
       "  \" fill=\"#ffffff\" fill-rule=\"evenodd\" fill-opacity=\"1\"/>\n",
       "<defs>\n",
       "  <clipPath id=\"clip7003\">\n",
       "    <rect x=\"188\" y=\"47\" width=\"2134\" height=\"1457\"/>\n",
       "  </clipPath>\n",
       "</defs>\n",
       "<polyline clip-path=\"url(#clip7003)\" style=\"stroke:#000000; stroke-width:2; stroke-opacity:0.1; fill:none\" points=\"\n",
       "  292.36,47.2441 292.36,1503.47 \n",
       "  \"/>\n",
       "<polyline clip-path=\"url(#clip7003)\" style=\"stroke:#000000; stroke-width:2; stroke-opacity:0.1; fill:none\" points=\"\n",
       "  817.277,47.2441 817.277,1503.47 \n",
       "  \"/>\n",
       "<polyline clip-path=\"url(#clip7003)\" style=\"stroke:#000000; stroke-width:2; stroke-opacity:0.1; fill:none\" points=\"\n",
       "  1342.19,47.2441 1342.19,1503.47 \n",
       "  \"/>\n",
       "<polyline clip-path=\"url(#clip7003)\" style=\"stroke:#000000; stroke-width:2; stroke-opacity:0.1; fill:none\" points=\"\n",
       "  1867.11,47.2441 1867.11,1503.47 \n",
       "  \"/>\n",
       "<polyline clip-path=\"url(#clip7003)\" style=\"stroke:#000000; stroke-width:2; stroke-opacity:0.1; fill:none\" points=\"\n",
       "  188.156,209.506 2321.26,209.506 \n",
       "  \"/>\n",
       "<polyline clip-path=\"url(#clip7003)\" style=\"stroke:#000000; stroke-width:2; stroke-opacity:0.1; fill:none\" points=\"\n",
       "  188.156,462.434 2321.26,462.434 \n",
       "  \"/>\n",
       "<polyline clip-path=\"url(#clip7003)\" style=\"stroke:#000000; stroke-width:2; stroke-opacity:0.1; fill:none\" points=\"\n",
       "  188.156,715.363 2321.26,715.363 \n",
       "  \"/>\n",
       "<polyline clip-path=\"url(#clip7003)\" style=\"stroke:#000000; stroke-width:2; stroke-opacity:0.1; fill:none\" points=\"\n",
       "  188.156,968.291 2321.26,968.291 \n",
       "  \"/>\n",
       "<polyline clip-path=\"url(#clip7003)\" style=\"stroke:#000000; stroke-width:2; stroke-opacity:0.1; fill:none\" points=\"\n",
       "  188.156,1221.22 2321.26,1221.22 \n",
       "  \"/>\n",
       "<polyline clip-path=\"url(#clip7003)\" style=\"stroke:#000000; stroke-width:2; stroke-opacity:0.1; fill:none\" points=\"\n",
       "  188.156,1474.15 2321.26,1474.15 \n",
       "  \"/>\n",
       "<polyline clip-path=\"url(#clip7001)\" style=\"stroke:#000000; stroke-width:4; stroke-opacity:1; fill:none\" points=\"\n",
       "  188.156,1503.47 2321.26,1503.47 \n",
       "  \"/>\n",
       "<polyline clip-path=\"url(#clip7001)\" style=\"stroke:#000000; stroke-width:4; stroke-opacity:1; fill:none\" points=\"\n",
       "  188.156,47.2441 188.156,1503.47 \n",
       "  \"/>\n",
       "<polyline clip-path=\"url(#clip7001)\" style=\"stroke:#000000; stroke-width:4; stroke-opacity:1; fill:none\" points=\"\n",
       "  292.36,1503.47 292.36,1481.63 \n",
       "  \"/>\n",
       "<polyline clip-path=\"url(#clip7001)\" style=\"stroke:#000000; stroke-width:4; stroke-opacity:1; fill:none\" points=\"\n",
       "  817.277,1503.47 817.277,1481.63 \n",
       "  \"/>\n",
       "<polyline clip-path=\"url(#clip7001)\" style=\"stroke:#000000; stroke-width:4; stroke-opacity:1; fill:none\" points=\"\n",
       "  1342.19,1503.47 1342.19,1481.63 \n",
       "  \"/>\n",
       "<polyline clip-path=\"url(#clip7001)\" style=\"stroke:#000000; stroke-width:4; stroke-opacity:1; fill:none\" points=\"\n",
       "  1867.11,1503.47 1867.11,1481.63 \n",
       "  \"/>\n",
       "<polyline clip-path=\"url(#clip7001)\" style=\"stroke:#000000; stroke-width:4; stroke-opacity:1; fill:none\" points=\"\n",
       "  188.156,209.506 220.153,209.506 \n",
       "  \"/>\n",
       "<polyline clip-path=\"url(#clip7001)\" style=\"stroke:#000000; stroke-width:4; stroke-opacity:1; fill:none\" points=\"\n",
       "  188.156,462.434 220.153,462.434 \n",
       "  \"/>\n",
       "<polyline clip-path=\"url(#clip7001)\" style=\"stroke:#000000; stroke-width:4; stroke-opacity:1; fill:none\" points=\"\n",
       "  188.156,715.363 220.153,715.363 \n",
       "  \"/>\n",
       "<polyline clip-path=\"url(#clip7001)\" style=\"stroke:#000000; stroke-width:4; stroke-opacity:1; fill:none\" points=\"\n",
       "  188.156,968.291 220.153,968.291 \n",
       "  \"/>\n",
       "<polyline clip-path=\"url(#clip7001)\" style=\"stroke:#000000; stroke-width:4; stroke-opacity:1; fill:none\" points=\"\n",
       "  188.156,1221.22 220.153,1221.22 \n",
       "  \"/>\n",
       "<polyline clip-path=\"url(#clip7001)\" style=\"stroke:#000000; stroke-width:4; stroke-opacity:1; fill:none\" points=\"\n",
       "  188.156,1474.15 220.153,1474.15 \n",
       "  \"/>\n",
       "<g clip-path=\"url(#clip7001)\">\n",
       "<text style=\"fill:#000000; fill-opacity:1; font-family:Arial,Helvetica Neue,Helvetica,sans-serif; font-size:48px; text-anchor:middle;\" transform=\"rotate(0, 292.36, 1557.47)\" x=\"292.36\" y=\"1557.47\">2004-01-01</text>\n",
       "</g>\n",
       "<g clip-path=\"url(#clip7001)\">\n",
       "<text style=\"fill:#000000; fill-opacity:1; font-family:Arial,Helvetica Neue,Helvetica,sans-serif; font-size:48px; text-anchor:middle;\" transform=\"rotate(0, 817.277, 1557.47)\" x=\"817.277\" y=\"1557.47\">2008-01-01</text>\n",
       "</g>\n",
       "<g clip-path=\"url(#clip7001)\">\n",
       "<text style=\"fill:#000000; fill-opacity:1; font-family:Arial,Helvetica Neue,Helvetica,sans-serif; font-size:48px; text-anchor:middle;\" transform=\"rotate(0, 1342.19, 1557.47)\" x=\"1342.19\" y=\"1557.47\">2012-01-01</text>\n",
       "</g>\n",
       "<g clip-path=\"url(#clip7001)\">\n",
       "<text style=\"fill:#000000; fill-opacity:1; font-family:Arial,Helvetica Neue,Helvetica,sans-serif; font-size:48px; text-anchor:middle;\" transform=\"rotate(0, 1867.11, 1557.47)\" x=\"1867.11\" y=\"1557.47\">2016-01-01</text>\n",
       "</g>\n",
       "<g clip-path=\"url(#clip7001)\">\n",
       "<text style=\"fill:#000000; fill-opacity:1; font-family:Arial,Helvetica Neue,Helvetica,sans-serif; font-size:48px; text-anchor:end;\" transform=\"rotate(0, 164.156, 227.006)\" x=\"164.156\" y=\"227.006\">7.5</text>\n",
       "</g>\n",
       "<g clip-path=\"url(#clip7001)\">\n",
       "<text style=\"fill:#000000; fill-opacity:1; font-family:Arial,Helvetica Neue,Helvetica,sans-serif; font-size:48px; text-anchor:end;\" transform=\"rotate(0, 164.156, 479.934)\" x=\"164.156\" y=\"479.934\">10.0</text>\n",
       "</g>\n",
       "<g clip-path=\"url(#clip7001)\">\n",
       "<text style=\"fill:#000000; fill-opacity:1; font-family:Arial,Helvetica Neue,Helvetica,sans-serif; font-size:48px; text-anchor:end;\" transform=\"rotate(0, 164.156, 732.863)\" x=\"164.156\" y=\"732.863\">12.5</text>\n",
       "</g>\n",
       "<g clip-path=\"url(#clip7001)\">\n",
       "<text style=\"fill:#000000; fill-opacity:1; font-family:Arial,Helvetica Neue,Helvetica,sans-serif; font-size:48px; text-anchor:end;\" transform=\"rotate(0, 164.156, 985.791)\" x=\"164.156\" y=\"985.791\">15.0</text>\n",
       "</g>\n",
       "<g clip-path=\"url(#clip7001)\">\n",
       "<text style=\"fill:#000000; fill-opacity:1; font-family:Arial,Helvetica Neue,Helvetica,sans-serif; font-size:48px; text-anchor:end;\" transform=\"rotate(0, 164.156, 1238.72)\" x=\"164.156\" y=\"1238.72\">17.5</text>\n",
       "</g>\n",
       "<g clip-path=\"url(#clip7001)\">\n",
       "<text style=\"fill:#000000; fill-opacity:1; font-family:Arial,Helvetica Neue,Helvetica,sans-serif; font-size:48px; text-anchor:end;\" transform=\"rotate(0, 164.156, 1491.65)\" x=\"164.156\" y=\"1491.65\">20.0</text>\n",
       "</g>\n",
       "<polyline clip-path=\"url(#clip7003)\" style=\"stroke:#009af9; stroke-width:4; stroke-opacity:1; fill:none\" points=\"\n",
       "  1429.86,1462.26 1440.64,1462.26 1451.78,1280.44 1462.56,1280.44 1473.69,1280.44 1484.83,1280.44 1494.89,1191.75 1506.03,1191.75 \n",
       "  \"/>\n",
       "<polyline clip-path=\"url(#clip7003)\" style=\"stroke:#009af9; stroke-width:4; stroke-opacity:1; fill:none\" points=\"\n",
       "  1527.95,940.216 1538.72,896.529 1549.86,899.429 1561,894.915 1571.78,894.915 1582.92,848.345 1593.69,844.311 1604.83,834.625 1615.97,801.379 1626.03,765.198 \n",
       "  1637.17,765.198 1647.95,812.559 1659.08,728.262 1669.86,728.262 1681,728.262 \n",
       "  \"/>\n",
       "<polyline clip-path=\"url(#clip7003)\" style=\"stroke:#009af9; stroke-width:4; stroke-opacity:1; fill:none\" points=\"\n",
       "  1714.06,730.918 1724.83,730.918 1735.97,730.918 1747.11,649.725 1757.17,649.725 1768.31,649.725 1779.09,599.269 1790.22,592.392 1801,557.345 1812.14,541.198 \n",
       "  1823.28,515.957 1834.06,515.957 1845.19,506.747 1855.97,469.52 1867.11,451.721 1878.25,413.496 1888.67,384.17 1899.81,368.251 1910.58,329.761 1921.72,302.311 \n",
       "  1932.5,303.75 1943.64,285.003 1954.78,280.228 1965.56,278.327 1976.69,271.568 1987.47,264.294 1998.61,236.564 2009.75,227.748 2019.81,202.477 2030.95,180.43 \n",
       "  2041.72,159.719 2052.86,154.21 2063.64,141.103 2074.78,143.662 2085.92,141.852 2096.7,136.954 2107.83,131.493 2118.61,123.861 2129.75,125.925 2140.89,118.082 \n",
       "  2150.95,115.52 2162.09,109.802 2172.86,106.235 2184,95.0541 2194.78,90.6761 2205.92,97.1428 2217.06,91.5726 2227.83,93.0305 2238.97,94.2512 2249.75,98.6913 \n",
       "  2260.89,88.4582 \n",
       "  \"/>\n",
       "</svg>\n"
      ]
     },
     "execution_count": 192,
     "metadata": {},
     "output_type": "execute_result"
    }
   ],
   "source": [
    "x = genDates()\n",
    "plot(x, plotDict[\"2012PARK03\"], yflip=true, legend=false)"
   ]
  },
  {
   "cell_type": "code",
   "execution_count": 40,
   "metadata": {},
   "outputs": [
    {
     "data": {
      "text/plain": [
       "Float64"
      ]
     },
     "execution_count": 40,
     "metadata": {},
     "output_type": "execute_result"
    }
   ],
   "source": [
    "typeof(6.34)"
   ]
  },
  {
   "cell_type": "code",
   "execution_count": null,
   "metadata": {},
   "outputs": [],
   "source": []
  }
 ],
 "metadata": {
  "kernelspec": {
   "display_name": "Julia 1.0.1",
   "language": "julia",
   "name": "julia-1.0"
  },
  "language_info": {
   "file_extension": ".jl",
   "mimetype": "application/julia",
   "name": "julia",
   "version": "1.0.1"
  }
 },
 "nbformat": 4,
 "nbformat_minor": 2
}
